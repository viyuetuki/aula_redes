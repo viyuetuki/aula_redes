{
 "cells": [
  {
   "cell_type": "markdown",
   "metadata": {},
   "source": [
    "Recordando derivadas\n",
    "====================\n",
    "\n"
   ]
  },
  {
   "cell_type": "markdown",
   "metadata": {},
   "source": [
    "## Introdução\n",
    "\n"
   ]
  },
  {
   "cell_type": "markdown",
   "metadata": {},
   "source": [
    "A base do algoritmo de `backpropagation` para treinar redes neuras artificiais é o cálculo dos gradientes locais de cada parâmetro da rede neural. Os gradientes locais nada mais são do que a derivada parcial da `função custo` (símbolo $L$, também conhecida como `função de perda`, veremos em detalhes no futuro) em relação a um certo parâmetro $p$. Se você não se recorda, a derivada parcial usa o símbolo $\\partial$ ao invés do $\\mathrm{d}$ e significa que você está interessado apenas na derivada em relação à uma das variáveis da sua função, mantendo todas as outras constantes.\n",
    "\n",
    "Vamos nos recordar que a definição da derivada é:\n",
    "\n",
    "$$\n",
    "\\frac{\\mathrm{d}f(x)}{\\mathrm{d}x} = \\lim_{h \\rightarrow 0} \\frac{f(x+h) - f(x)}{h}\n",
    "$$\n",
    "\n"
   ]
  },
  {
   "cell_type": "markdown",
   "metadata": {},
   "source": [
    "## Objetivo\n",
    "\n"
   ]
  },
  {
   "cell_type": "markdown",
   "metadata": {},
   "source": [
    "Calcular a derivada de uma função qualquer de forma numérica usando a definição.\n",
    "\n"
   ]
  },
  {
   "cell_type": "markdown",
   "metadata": {},
   "source": [
    "## Importações\n",
    "\n"
   ]
  },
  {
   "cell_type": "code",
   "execution_count": 1,
   "metadata": {},
   "outputs": [],
   "source": [
    "import numpy as np\n",
    "from matplotlib import pyplot as plt"
   ]
  },
  {
   "cell_type": "markdown",
   "metadata": {},
   "source": [
    "## Código e discussão\n",
    "\n"
   ]
  },
  {
   "cell_type": "markdown",
   "metadata": {},
   "source": [
    "Vamos definir a função.\n",
    "\n"
   ]
  },
  {
   "cell_type": "code",
   "execution_count": 2,
   "metadata": {},
   "outputs": [],
   "source": [
    "def funcao(x):\n",
    "    return 3 * x**2 - 4 * x + 5"
   ]
  },
  {
   "cell_type": "markdown",
   "metadata": {},
   "source": [
    "Podemos checar como ela se comporta localmente.\n",
    "\n"
   ]
  },
  {
   "cell_type": "code",
   "execution_count": 3,
   "metadata": {},
   "outputs": [
    {
     "name": "stdout",
     "output_type": "stream",
     "text": [
      "Quando x_escolhido=3 obtemos funcao(x_escolhido)=20.\n"
     ]
    }
   ],
   "source": [
    "x_escolhido = 3\n",
    "print(f\"Quando {x_escolhido=} obtemos {funcao(x_escolhido)=}.\")"
   ]
  },
  {
   "cell_type": "markdown",
   "metadata": {},
   "source": [
    "Podemos também checar seu gráfico.\n",
    "\n"
   ]
  },
  {
   "cell_type": "code",
   "execution_count": 3,
   "metadata": {},
   "outputs": [
    {
     "data": {
      "image/png": "[encoded data removed]",
      "text/plain": [
       "<Figure size 432x288 with 1 Axes>"
      ]
     },
     "metadata": {
      "needs_background": "light"
     },
     "output_type": "display_data"
    }
   ],
   "source": [
    "x_plot = np.arange(-5, 5, 0.25)\n",
    "y_plot = funcao(x_plot)\n",
    "\n",
    "fig, axe = plt.subplots()\n",
    "axe.plot(x_plot, y_plot)\n",
    "plt.show()"
   ]
  },
  {
   "cell_type": "markdown",
   "metadata": {},
   "source": [
    "Agora, queremos calcular a derivada de forma numérica.\n",
    "\n"
   ]
  },
  {
   "cell_type": "markdown",
   "metadata": {},
   "source": [
    "Para isso, levando em consideração a fórmula apresentada, vamos considerar uma aproximação do tipo:\n",
    "    \n",
    "$$\n",
    "f'(x) ≈ \\frac{f(x+h) - f(x)}{h}\n",
    "$$\n",
    "\n",
    "Indicando que a derivada em um ponto x pode ser aproximada (retirando o limite) à divisão entre a diferença da função aplicada um x posterior/seguinte (x + h) com a função aplicada a x e h, o tanto de aumento que x teve no primeiro termo dito, ou seja, a variação de x e x+h. Sendo esse h, de preferência, próximo a 0.\n",
    "\n",
    "Assim, temos:"
   ]
  },
  {
   "cell_type": "code",
   "execution_count": 12,
   "metadata": {},
   "outputs": [
    {
     "name": "stdout",
     "output_type": "stream",
     "text": [
      "20.00000165480742\n"
     ]
    }
   ],
   "source": [
    "x_escolhido = 4 # valor de x escolhido\n",
    "h = 0.000000001 # valor de h escolhido, próximo a zero\n",
    "\n",
    "derivada_em_x = (funcao(x_escolhido+h) - funcao(x_escolhido))/h # calculo da derivada de forma numérica\n",
    "\n",
    "print(derivada_em_x) # print do valor da derivada alcançado"
   ]
  },
  {
   "cell_type": "markdown",
   "metadata": {},
   "source": [
    "Com isso podemos observar a derivada no plot.\n",
    "\n"
   ]
  },
  {
   "cell_type": "code",
   "execution_count": 15,
   "metadata": {},
   "outputs": [
    {
     "data": {
      "image/png": "[encoded data removed]",
      "text/plain": [
       "<Figure size 432x288 with 1 Axes>"
      ]
     },
     "metadata": {
      "needs_background": "light"
     },
     "output_type": "display_data"
    }
   ],
   "source": [
    "intercepto = funcao(x_escolhido) - (derivada_em_x * x_escolhido) # Local aonde vai cortar o eixo y, \n",
    "                                                                 # intercepção\n",
    "\n",
    "def reta_da_derivada(x):\n",
    "    return derivada_em_x * x + intercepto # Aqui fica evidente que a derivada representa a inclinação \n",
    "                                          # da função em um ponto de interesse\n",
    "\n",
    "x_plot = np.arange(-5, 5, 0.25)\n",
    "y_plot = funcao(x_plot)\n",
    "y_reta = reta_da_derivada(x_plot)\n",
    "\n",
    "fig, axe = plt.subplots()\n",
    "\n",
    "axe.plot(x_plot, y_plot)\n",
    "axe.plot(x_plot, y_reta)\n",
    "plt.show()"
   ]
  },
  {
   "cell_type": "markdown",
   "metadata": {},
   "source": [
    "## Conclusão\n",
    "\n"
   ]
  },
  {
   "cell_type": "markdown",
   "metadata": {},
   "source": [
    "Com este experimento, o qual busca recordar derivadas, nosso objetivo de entendê-las melhor (já que é importante para backpropagation em redes neurais), aprendermos como fazê-la em python e calculá-la de forma numérica para qualquer função foi atingido.\n",
    "\n",
    "Foi feita uma aproximação retirando o limite e considerando x e x+h, sendo h um número próximo a zero...\n",
    "\n",
    "\n",
    "(o que foi apresentado no início)\n",
    "$$\n",
    "\\frac{\\mathrm{d}f(x)}{\\mathrm{d}x} = \\lim_{h \\rightarrow 0} \\frac{f(x+h) - f(x)}{h}\n",
    "$$\n",
    "\n",
    "(aproximação proposta)\n",
    "$$\n",
    "f'(x) ≈ \\frac{f(x+h) - f(x)}{h}\n",
    "$$\n",
    "\n",
    "Alguns testes foram feitos no playground avaliando como essa derivada, calculada por python, se comportava perto de 0. Como resultado, nenhum realmente chegou a 0, mas vimos que alguns números se repetiram, pelo menos nas primeiras casas mostradas."
   ]
  },
  {
   "cell_type": "markdown",
   "metadata": {},
   "source": [
    "## Playground\n",
    "\n"
   ]
  },
  {
   "cell_type": "code",
   "execution_count": 14,
   "metadata": {},
   "outputs": [
    {
     "name": "stdout",
     "output_type": "stream",
     "text": [
      "-43.00000661922968\n"
     ]
    }
   ],
   "source": [
    "print(intercepto)"
   ]
  },
  {
   "cell_type": "code",
   "execution_count": 24,
   "metadata": {},
   "outputs": [
    {
     "name": "stdout",
     "output_type": "stream",
     "text": [
      "-4.000000330961484\n"
     ]
    },
    {
     "data": {
      "image/png": "[encoded data removed]",
      "text/plain": [
       "<Figure size 432x288 with 1 Axes>"
      ]
     },
     "metadata": {
      "needs_background": "light"
     },
     "output_type": "display_data"
    }
   ],
   "source": [
    "x_escolhido = -0.000000001 # valor de x escolhido\n",
    "h = 0.000000001 # valor de h escolhido, próximo a zero\n",
    "\n",
    "derivada_em_x = (funcao(x_escolhido+h) - funcao(x_escolhido))/h # calculo da derivada de forma numérica\n",
    "\n",
    "print(derivada_em_x) # print do valor da derivada alcançado\n",
    "\n",
    "intercepto = funcao(x_escolhido) - (derivada_em_x * x_escolhido) # Local aonde vai cortar o eixo y, \n",
    "                                                                 # intercepção\n",
    "\n",
    "def reta_da_derivada(x):\n",
    "    return derivada_em_x * x + intercepto # Aqui fica evidente que a derivada representa a inclinação \n",
    "                                          # da função em um ponto de interesse\n",
    "\n",
    "x_plot = np.arange(-5, 5, 0.25)\n",
    "y_plot = funcao(x_plot)\n",
    "y_reta = reta_da_derivada(x_plot)\n",
    "\n",
    "fig, axe = plt.subplots()\n",
    "\n",
    "axe.plot(x_plot, y_plot)\n",
    "axe.plot(x_plot, y_reta)\n",
    "plt.show()"
   ]
  },
  {
   "cell_type": "code",
   "execution_count": 25,
   "metadata": {},
   "outputs": [
    {
     "name": "stdout",
     "output_type": "stream",
     "text": [
      "-3.999999442783064\n"
     ]
    },
    {
     "data": {
      "image/png": "[encoded data removed]",
      "text/plain": [
       "<Figure size 432x288 with 1 Axes>"
      ]
     },
     "metadata": {
      "needs_background": "light"
     },
     "output_type": "display_data"
    }
   ],
   "source": [
    "x_escolhido = 0.000000001 # valor de x escolhido\n",
    "h = 0.000000001 # valor de h escolhido, próximo a zero\n",
    "\n",
    "derivada_em_x = (funcao(x_escolhido+h) - funcao(x_escolhido))/h # calculo da derivada de forma numérica\n",
    "\n",
    "print(derivada_em_x) # print do valor da derivada alcançado\n",
    "\n",
    "intercepto = funcao(x_escolhido) - (derivada_em_x * x_escolhido) # Local aonde vai cortar o eixo y, \n",
    "                                                                 # intercepção\n",
    "\n",
    "def reta_da_derivada(x):\n",
    "    return derivada_em_x * x + intercepto # Aqui fica evidente que a derivada representa a inclinação \n",
    "                                          # da função em um ponto de interesse\n",
    "\n",
    "x_plot = np.arange(-5, 5, 0.25)\n",
    "y_plot = funcao(x_plot)\n",
    "y_reta = reta_da_derivada(x_plot)\n",
    "\n",
    "fig, axe = plt.subplots()\n",
    "\n",
    "axe.plot(x_plot, y_plot)\n",
    "axe.plot(x_plot, y_reta)\n",
    "plt.show()"
   ]
  },
  {
   "cell_type": "code",
   "execution_count": 26,
   "metadata": {},
   "outputs": [
    {
     "name": "stdout",
     "output_type": "stream",
     "text": [
      "-4.000000330961484\n"
     ]
    },
    {
     "data": {
      "image/png": "[encoded data removed]",
      "text/plain": [
       "<Figure size 432x288 with 1 Axes>"
      ]
     },
     "metadata": {
      "needs_background": "light"
     },
     "output_type": "display_data"
    }
   ],
   "source": [
    "x_escolhido = 0 # valor de x escolhido\n",
    "h = 0.000000001 # valor de h escolhido, próximo a zero\n",
    "\n",
    "derivada_em_x = (funcao(x_escolhido+h) - funcao(x_escolhido))/h # calculo da derivada de forma numérica\n",
    "\n",
    "print(derivada_em_x) # print do valor da derivada alcançado\n",
    "\n",
    "intercepto = funcao(x_escolhido) - (derivada_em_x * x_escolhido) # Local aonde vai cortar o eixo y, \n",
    "                                                                 # intercepção\n",
    "\n",
    "def reta_da_derivada(x):\n",
    "    return derivada_em_x * x + intercepto # Aqui fica evidente que a derivada representa a inclinação \n",
    "                                          # da função em um ponto de interesse\n",
    "\n",
    "x_plot = np.arange(-5, 5, 0.25)\n",
    "y_plot = funcao(x_plot)\n",
    "y_reta = reta_da_derivada(x_plot)\n",
    "\n",
    "fig, axe = plt.subplots()\n",
    "\n",
    "axe.plot(x_plot, y_plot)\n",
    "axe.plot(x_plot, y_reta)\n",
    "plt.show()"
   ]
  },
  {
   "cell_type": "code",
   "execution_count": 27,
   "metadata": {},
   "outputs": [
    {
     "name": "stdout",
     "output_type": "stream",
     "text": [
      "-4.000000330961484\n"
     ]
    },
    {
     "data": {
      "image/png": "[encoded data removed]",
      "text/plain": [
       "<Figure size 432x288 with 1 Axes>"
      ]
     },
     "metadata": {
      "needs_background": "light"
     },
     "output_type": "display_data"
    }
   ],
   "source": [
    "x_escolhido = 0.0000000015 # valor de x escolhido\n",
    "h = 0.000000001 # valor de h escolhido, próximo a zero\n",
    "\n",
    "derivada_em_x = (funcao(x_escolhido+h) - funcao(x_escolhido))/h # calculo da derivada de forma numérica\n",
    "\n",
    "print(derivada_em_x) # print do valor da derivada alcançado\n",
    "\n",
    "intercepto = funcao(x_escolhido) - (derivada_em_x * x_escolhido) # Local aonde vai cortar o eixo y, \n",
    "                                                                 # intercepção\n",
    "\n",
    "def reta_da_derivada(x):\n",
    "    return derivada_em_x * x + intercepto # Aqui fica evidente que a derivada representa a inclinação \n",
    "                                          # da função em um ponto de interesse\n",
    "\n",
    "x_plot = np.arange(-5, 5, 0.25)\n",
    "y_plot = funcao(x_plot)\n",
    "y_reta = reta_da_derivada(x_plot)\n",
    "\n",
    "fig, axe = plt.subplots()\n",
    "\n",
    "axe.plot(x_plot, y_plot)\n",
    "axe.plot(x_plot, y_reta)\n",
    "plt.show()"
   ]
  },
  {
   "cell_type": "code",
   "execution_count": 28,
   "metadata": {},
   "outputs": [
    {
     "name": "stdout",
     "output_type": "stream",
     "text": [
      "-3.999999442783064\n"
     ]
    },
    {
     "data": {
      "image/png": "[encoded data removed]",
      "text/plain": [
       "<Figure size 432x288 with 1 Axes>"
      ]
     },
     "metadata": {
      "needs_background": "light"
     },
     "output_type": "display_data"
    }
   ],
   "source": [
    "x_escolhido = -0.0000000015 # valor de x escolhido\n",
    "h = 0.000000001 # valor de h escolhido, próximo a zero\n",
    "\n",
    "derivada_em_x = (funcao(x_escolhido+h) - funcao(x_escolhido))/h # calculo da derivada de forma numérica\n",
    "\n",
    "print(derivada_em_x) # print do valor da derivada alcançado\n",
    "\n",
    "intercepto = funcao(x_escolhido) - (derivada_em_x * x_escolhido) # Local aonde vai cortar o eixo y, \n",
    "                                                                 # intercepção\n",
    "\n",
    "def reta_da_derivada(x):\n",
    "    return derivada_em_x * x + intercepto # Aqui fica evidente que a derivada representa a inclinação \n",
    "                                          # da função em um ponto de interesse\n",
    "\n",
    "x_plot = np.arange(-5, 5, 0.25)\n",
    "y_plot = funcao(x_plot)\n",
    "y_reta = reta_da_derivada(x_plot)\n",
    "\n",
    "fig, axe = plt.subplots()\n",
    "\n",
    "axe.plot(x_plot, y_plot)\n",
    "axe.plot(x_plot, y_reta)\n",
    "plt.show()"
   ]
  },
  {
   "cell_type": "code",
   "execution_count": null,
   "metadata": {},
   "outputs": [],
   "source": []
  }
 ],
 "metadata": {
  "kernelspec": {
   "display_name": "ilumpy",
   "language": "python",
   "name": "ilumpy"
  },
  "language_info": {
   "codemirror_mode": {
    "name": "ipython",
    "version": 3
   },
   "file_extension": ".py",
   "mimetype": "text/x-python",
   "name": "python",
   "nbconvert_exporter": "python",
   "pygments_lexer": "ipython3",
   "version": "3.9.7"
  },
  "org": null
 },
 "nbformat": 4,
 "nbformat_minor": 4
}
