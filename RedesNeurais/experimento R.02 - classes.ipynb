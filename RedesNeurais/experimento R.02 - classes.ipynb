{
 "cells": [
  {
   "cell_type": "markdown",
   "metadata": {},
   "source": [
    "Introdução à Classes\n",
    "====================\n",
    "\n"
   ]
  },
  {
   "cell_type": "markdown",
   "metadata": {},
   "source": [
    "## Introdução\n",
    "\n"
   ]
  },
  {
   "cell_type": "markdown",
   "metadata": {},
   "source": [
    "Quando queremos organizar objetos em uma certa ordem bem definida, usamos `listas`.\n",
    "\n",
    "Quando queremos relacionar dois objetos entre si, usamos `dicionários`.\n",
    "\n",
    "Quando queremos agrupar objetos únicos sem repetição e sem ordem bem definida, usamos `conjuntos`.\n",
    "\n",
    "Quando queremos executar uma sequência bem definida de ações, usamos `funções`.\n",
    "\n",
    "O que nós usamos quando queremos criar uma estrutura complexa de informações e ações onde apenas listas, dicionários, conjuntos e funções não são suficientes? Neste caso, usamos `classes`!\n",
    "\n"
   ]
  },
  {
   "cell_type": "markdown",
   "metadata": {},
   "source": [
    "## Código e discussão\n",
    "\n"
   ]
  },
  {
   "cell_type": "markdown",
   "metadata": {},
   "source": [
    "<p style='text-align: justify'><i>Antes mesmo de começarmos de fato, cabe fazermos uma associação, a fim de facilitar o aprendizado e entendimento. Assim, é válido dizer para pensarmos nas classes como se fossem receitas e elas podem conter tanto ação quanto informação...</i></p>"
   ]
  },
  {
   "cell_type": "markdown",
   "metadata": {},
   "source": [
    "### A classe mais simples do mundo\n",
    "\n"
   ]
  },
  {
   "cell_type": "markdown",
   "metadata": {},
   "source": [
    "A classe mais simples do mundo é simplesmente um amontoado de informação. Classes devem ser nomeadas sempre com a primeira letra em maiúsculo.\n",
    "\n"
   ]
  },
  {
   "cell_type": "code",
   "execution_count": 1,
   "metadata": {},
   "outputs": [],
   "source": [
    "class Dados:\n",
    "    dado1 = 10\n",
    "    dado2 = [1, 2, 3]\n",
    "    dado3 = 0.908\n",
    "    dado4 = {\"a\": 1, \"b\": 2}"
   ]
  },
  {
   "cell_type": "markdown",
   "metadata": {},
   "source": [
    "Para criar um objeto baseado na sua classe, basta chamá-la com o parênteses, da mesma forma que fazemos com funções.\n",
    "\n"
   ]
  },
  {
   "cell_type": "code",
   "execution_count": 2,
   "metadata": {},
   "outputs": [],
   "source": [
    "caio = Dados()"
   ]
  },
  {
   "cell_type": "markdown",
   "metadata": {},
   "source": [
    "<p style='text-align: justify'><i>(Aqui, o que fizemos, foi basicamente criar um objeto a partir da receita)</i></p>"
   ]
  },
  {
   "cell_type": "markdown",
   "metadata": {},
   "source": [
    "Agora podemos acessar os objetos da classe. Para isso usamos o ponto final.\n",
    "\n"
   ]
  },
  {
   "cell_type": "code",
   "execution_count": 3,
   "metadata": {},
   "outputs": [
    {
     "name": "stdout",
     "output_type": "stream",
     "text": [
      "10\n",
      "[1, 2, 3]\n"
     ]
    }
   ],
   "source": [
    "print(caio.dado1) # acessando o dado 1\n",
    "print(caio.dado2) # acessando o dado 2"
   ]
  },
  {
   "cell_type": "markdown",
   "metadata": {},
   "source": [
    "Se você se perguntou &ldquo;uai, mas por que usar uma classe sendo que um dicionário faria efetivamente a mesma coisa?&rdquo;, então você está no caminho certo. Apenas armazenar dados em uma classe desta forma não representa uma vantagem objetiva em relação à usar um dicionário. Vamos seguir em frente!\n",
    "\n"
   ]
  },
  {
   "cell_type": "markdown",
   "metadata": {},
   "source": [
    "### Classes podem fazer algo ao serem criadas\n",
    "\n"
   ]
  },
  {
   "cell_type": "markdown",
   "metadata": {},
   "source": [
    "Quando nós criamos uma classe, nós dizemos que criamos uma instância desta classe. Uma instância de uma classe representa um objeto que tem as propriedades da classe.\n",
    "\n",
    "Ao instanciar uma classe, você pode executar uma tarefa. Para isso, defina o método `__init__` usando necessariamente o `self` como primeiro argumento.\n",
    "\n"
   ]
  },
  {
   "cell_type": "code",
   "execution_count": 4,
   "metadata": {},
   "outputs": [],
   "source": [
    "class Material:\n",
    "    def __init__(self, modulo_elastico):\n",
    "        self.modulo_elastico = modulo_elastico"
   ]
  },
  {
   "cell_type": "markdown",
   "metadata": {},
   "source": [
    "<p style='text-align: justify'><i>O que cabe pontuar aqui é que, ao usar 'self', é como se a classe falasse \"eu sei que eu sou eu mesma\" - e se faz necessário em double score em todo o começo - e __init__, uma parte fundamental de uma classe, é o método que roda automaticamente. Além disso, podemos lembrar de método como uma função dentro de classe.</i></p>"
   ]
  },
  {
   "cell_type": "markdown",
   "metadata": {},
   "source": [
    "Agora podemos criar um objeto da classe `Material` com um certo valor de módulo elástico.\n",
    "\n"
   ]
  },
  {
   "cell_type": "code",
   "execution_count": 5,
   "metadata": {},
   "outputs": [
    {
     "name": "stdout",
     "output_type": "stream",
     "text": [
      "<__main__.Material object at 0x000002E6799D5B50>\n",
      "100\n"
     ]
    }
   ],
   "source": [
    "modulo_elastico_do_meu_material = 100 # atribuindo valor\n",
    "meu_material = Material(modulo_elastico_do_meu_material) # criano material com o valor atribuído ao módulo\n",
    "                                                         # elástico\n",
    "\n",
    "print(meu_material) # printando 'meu_material'\n",
    "print(meu_material.modulo_elastico) # printando, especificamente, o método 'modulo_elastico' de meu_material"
   ]
  },
  {
   "cell_type": "markdown",
   "metadata": {},
   "source": [
    "### Os métodos `dunder`\n",
    "\n"
   ]
  },
  {
   "cell_type": "markdown",
   "metadata": {},
   "source": [
    "Observe que acima usamos um método chamado `__init__` com prefixo de dois sublinhados e sufixo de dois sublinhados. Esses métodos com essa notação são especiais e são chamados de `dunder` (vem de *double underscore*, ou duplo sublinhado em português). Existem diversos métodos dunder!\n",
    "\n",
    "Os métodos dunder controlam certos comportamentos da nossa classe. Por exemplo, observe que quando damos `print` em um objeto instanciado de uma classe ele mostra um texto padrão do tipo `<__main__.Material object at 0x7f0d2b57f9a0>`. Quem controla o texto que é exibido é o método dunder `__repr__`. Vamos ver um exemplo.\n",
    "\n"
   ]
  },
  {
   "cell_type": "code",
   "execution_count": 6,
   "metadata": {},
   "outputs": [
    {
     "name": "stdout",
     "output_type": "stream",
     "text": [
      "Material com módulo elástico de 100 GPa.\n",
      "100\n"
     ]
    }
   ],
   "source": [
    "class Material:\n",
    "    def __init__(self, modulo_elastico):\n",
    "        self.modulo_elastico = modulo_elastico\n",
    "\n",
    "    def __repr__(self): # Alterando o que será printado quando executar tal função para 'meu_material'\n",
    "        return f\"Material com módulo elástico de {self.modulo_elastico} GPa.\"\n",
    "\n",
    "modulo_elastico_do_meu_material = 100\n",
    "meu_material = Material(modulo_elastico_do_meu_material)\n",
    "\n",
    "print(meu_material)\n",
    "print(meu_material.modulo_elastico)"
   ]
  },
  {
   "cell_type": "markdown",
   "metadata": {},
   "source": [
    "<p style='text-align: justify'><i>Sabendo disso, podemos manter em mente que: os métodos dunder - que são definidos em uma lista já preexistente (por exemplo, __isadora__ não existe) e são marcadas por 2 underlines no início e no final - controlam o que a classe faz.</i></p>"
   ]
  },
  {
   "cell_type": "markdown",
   "metadata": {},
   "source": [
    "### Os métodos que não são `dunder`\n",
    "\n"
   ]
  },
  {
   "cell_type": "markdown",
   "metadata": {},
   "source": [
    "Classes podem ter métodos que não são especiais. Vamos tentar implementar um método que usa a lei de Hook para calcular a tensão aplicada no material ($\\sigma$) dada uma deformação ($\\varepsilon$).\n",
    "\n",
    "$$\n",
    "\\sigma = E \\varepsilon\n",
    "$$\n",
    "\n"
   ]
  },
  {
   "cell_type": "code",
   "execution_count": 7,
   "metadata": {},
   "outputs": [
    {
     "name": "stdout",
     "output_type": "stream",
     "text": [
      "Material com módulo elástico de 500 GPa.\n",
      "1000\n",
      "Eduarda\n"
     ]
    }
   ],
   "source": [
    "class Material:\n",
    "    def __init__(self, modulo_elastico):\n",
    "        self.modulo_elastico = modulo_elastico\n",
    "        self.nome = \"Eduarda\"\n",
    "\n",
    "    def __repr__(self):\n",
    "        return f\"Material com módulo elástico de {self.modulo_elastico} GPa.\"\n",
    "    \n",
    "    def tensao(self, deformacao):\n",
    "        valor_tensao = self.modulo_elastico * deformacao\n",
    "        return valor_tensao\n",
    "\n",
    "modulo_elastico_do_meu_material = 500\n",
    "meu_material = Material(modulo_elastico_do_meu_material)\n",
    "seu_material = Material(200)\n",
    "\n",
    "deformacao = 2\n",
    "\n",
    "tensao = meu_material.tensao(deformacao)\n",
    "print(meu_material)\n",
    "print(tensao)\n",
    "print(meu_material.nome)"
   ]
  },
  {
   "cell_type": "markdown",
   "metadata": {},
   "source": [
    "### Alterando o estado da nossa classe\n",
    "\n"
   ]
  },
  {
   "cell_type": "markdown",
   "metadata": {},
   "source": [
    "Classes são estruturas de dados onde nos preocupamos com o seu estado. No exemplo acima, nosso material tem uma propriedade chamada de `modulo_elastico`. Digamos que nós podemos aumentar o módulo elástico do nosso material realizando um tratamento térmico. Cada vez que realizamos o tratamento térmico o módulo elástico aumenta em 10%, porém o material só aguenta no máximo 5 tratamentos térmicos. Alterar uma propriedade da nossa classe é alterar seu estado. Podemos adicionar esse processo de tratamento térmico na nossa classe.\n",
    "\n"
   ]
  },
  {
   "cell_type": "code",
   "execution_count": 8,
   "metadata": {},
   "outputs": [
    {
     "name": "stdout",
     "output_type": "stream",
     "text": [
      "Material com módulo elástico de 100 GPa.\n",
      "Material com módulo elástico de 110.00000000000001 GPa.\n",
      "Material com módulo elástico de 121.00000000000003 GPa.\n",
      "Material com módulo elástico de 133.10000000000005 GPa.\n",
      "Material com módulo elástico de 146.41000000000008 GPa.\n",
      "Material com módulo elástico de 161.0510000000001 GPa.\n",
      "Material com módulo elástico de 161.0510000000001 GPa.\n",
      "Material com módulo elástico de 161.0510000000001 GPa.\n",
      "Material com módulo elástico de 2 GPa.\n",
      "2\n",
      "0\n"
     ]
    }
   ],
   "source": [
    "class Material:\n",
    "    def __init__(self, modulo_elastico):\n",
    "        self.modulo_elastico = modulo_elastico\n",
    "        self.num_tratamentos = 0\n",
    "\n",
    "    def __repr__(self):\n",
    "        return f\"Material com módulo elástico de {self.modulo_elastico} GPa.\"\n",
    "\n",
    "    def tratamento_termico(self):\n",
    "        if self.num_tratamentos < 5:\n",
    "            self.modulo_elastico = self.modulo_elastico * 1.1\n",
    "            self.num_tratamentos = self.num_tratamentos + 1\n",
    "\n",
    "modulo_elastico_do_meu_material = 100\n",
    "meu_material = Material(modulo_elastico_do_meu_material)\n",
    "\n",
    "print(meu_material)\n",
    "\n",
    "meu_material.tratamento_termico()\n",
    "print(meu_material)\n",
    "\n",
    "meu_material.tratamento_termico()\n",
    "print(meu_material)\n",
    "\n",
    "meu_material.tratamento_termico()\n",
    "print(meu_material)\n",
    "\n",
    "meu_material.tratamento_termico()\n",
    "print(meu_material)\n",
    "\n",
    "meu_material.tratamento_termico()\n",
    "print(meu_material)\n",
    "\n",
    "meu_material.tratamento_termico()\n",
    "print(meu_material)\n",
    "\n",
    "meu_material.tratamento_termico()\n",
    "print(meu_material)\n",
    "\n",
    "\n",
    "material_da_thay = Material(2)\n",
    "\n",
    "print(material_da_thay)\n",
    "print(material_da_thay.modulo_elastico)\n",
    "print(material_da_thay.num_tratamentos)"
   ]
  },
  {
   "cell_type": "markdown",
   "metadata": {},
   "source": [
    "### Alterando o estado da nossa classe fora dela\n",
    "\n"
   ]
  },
  {
   "cell_type": "markdown",
   "metadata": {},
   "source": [
    "Em certos casos nós precisamos alterar alguma propriedade da nossa classe fora dela (isto é, fora das linhas de código que foram usadas para definir a classe). Podemos, por exemplo, alterar o módulo elástico do nosso material &ldquo;na mão&rdquo;.\n",
    "\n"
   ]
  },
  {
   "cell_type": "code",
   "execution_count": 9,
   "metadata": {},
   "outputs": [
    {
     "name": "stdout",
     "output_type": "stream",
     "text": [
      "Material com módulo elástico de 100 GPa.\n",
      "Material com módulo elástico de 200 GPa.\n"
     ]
    }
   ],
   "source": [
    "class Material:\n",
    "    def __init__(self, modulo_elastico):\n",
    "        self.modulo_elastico = modulo_elastico\n",
    "        self.num_tratamentos = 0\n",
    "\n",
    "    def __repr__(self):\n",
    "        return f\"Material com módulo elástico de {self.modulo_elastico} GPa.\"\n",
    "\n",
    "modulo_elastico_do_meu_material = 100\n",
    "meu_material = Material(modulo_elastico_do_meu_material)\n",
    "print(meu_material)\n",
    "\n",
    "# alterando a propriedade \"na mão\"\n",
    "meu_material.modulo_elastico = 200\n",
    "print(meu_material)"
   ]
  },
  {
   "cell_type": "markdown",
   "metadata": {},
   "source": [
    "Pense muito bem antes de sair alterando propriedades de classes &ldquo;na mão&rdquo;. Não é uma ação proibida, mas também não é algo que fazemos a todo momento sem justificativa.\n",
    "\n"
   ]
  },
  {
   "cell_type": "markdown",
   "metadata": {},
   "source": [
    "<p style='text-align: justify'><i>Assim, como irá estar sendo alterada uma propriedade depois, a receit muda para todos o que vier seguinte. Mas destacando a ressalva de que métodos dentro de __init__ não são alterados, logo, caso se queira acessá-los, é possível.</i></p>"
   ]
  },
  {
   "cell_type": "markdown",
   "metadata": {},
   "source": [
    "### Testando suas habilidades\n",
    "\n"
   ]
  },
  {
   "cell_type": "markdown",
   "metadata": {},
   "source": [
    "Para testar suas habilidades, modifique a classe `Material` adicionando um novo argumento no método `__init__`, usando ele para criar uma nova propriedade e criando um novo método que altera o estado desta classe.\n",
    "\n"
   ]
  },
  {
   "cell_type": "markdown",
   "metadata": {},
   "source": [
    "<p style='text-align: justify'><i>Minha situação imaginária/hipotética a ser resolvida: </i></p>\n",
    "\n",
    "<p style='text-align: justify'><i>Temos um material que continua tendo todas as propriedades discutidas anteriormente: módulo elástico, pode passar por tratamentos (até 5) e, para ele, pode sre calculada a tensão. Agora, vamos supor que também seja informada a idade dele e o quanto (na nossa escala imaginária Yumi) está desgastado. A partir disso, ele pode sofrer restauração (a cada 5 anos completos).</i></p>\n",
    "    \n",
    "<p style='text-align: justify'><i>Assim, propondo uma situação em que é feita uma verificação anual se é necessária restauração ou não, caso o material tenha idade > 0 e for múltiplo de 5, a restauração é feita e, assim, o desgaste também retrocede algumas unidades (já que é prevista uma melhora nas condições do material). Agora, caso contrário, pula essa condição e logo é slhe é somado mais um ano em sua idade e o desgaste aumenta.</i></p>"
   ]
  },
  {
   "cell_type": "code",
   "execution_count": 10,
   "metadata": {},
   "outputs": [
    {
     "name": "stdout",
     "output_type": "stream",
     "text": [
      "Material com módulo elástico de 180 GPa. Inicia seu 0 ano 'de vida', possuindo 0 unidade(s) de desgaste (na escala Yumi), já tendo passado por 0 processo(s) de restauração, que ocorre a cada 5 anos.\n",
      "\n",
      "Tensão:  720\n",
      "\n",
      "Material com módulo elástico de 198.00000000000003 GPa. Inicia seu 0 ano 'de vida', possuindo 0 unidade(s) de desgaste (na escala Yumi), já tendo passado por 0 processo(s) de restauração, que ocorre a cada 5 anos.\n",
      "\n",
      "Material com módulo elástico de 198.00000000000003 GPa. Inicia seu 1 ano 'de vida', possuindo 0.0 unidade(s) de desgaste (na escala Yumi), já tendo passado por 0 processo(s) de restauração, que ocorre a cada 5 anos.\n"
     ]
    }
   ],
   "source": [
    "class Material:\n",
    "    def __init__(self, modulo_elastico, idade, desgaste):\n",
    "        self.modulo_elastico = modulo_elastico\n",
    "        self.num_tratamentos = 0\n",
    "        self.idade = idade\n",
    "        self.desgaste = desgaste\n",
    "        self.restauracao = 0\n",
    "\n",
    "    def __repr__(self):\n",
    "        return f\"Material com módulo elástico de {self.modulo_elastico} GPa. Inicia seu {self.idade} ano 'de vida', possuindo {self.desgaste} unidade(s) de desgaste (na escala Yumi), já tendo passado por {self.restauracao} processo(s) de restauração, que ocorre a cada 5 anos.\"\n",
    "    \n",
    "    def tensao(self, deformacao):\n",
    "        valor_tensao = self.modulo_elastico * deformacao\n",
    "        return valor_tensao\n",
    "    \n",
    "    def tratamento_termico(self):\n",
    "        if self.num_tratamentos < 5:\n",
    "            self.modulo_elastico = self.modulo_elastico * 1.1\n",
    "            self.num_tratamentos = self.num_tratamentos + 1\n",
    "    \n",
    "    def verificacao_restauracao_anual(self): # verificação anual de necessidade de restauração\n",
    "        if self.idade > 0 and self.idade % 5 == 0: # verifica condições impostas\n",
    "            self.restauracao = self.restauracao + 1 # acrescenta a realização de restauração\n",
    "            self.desgaste = self.desgaste / 1.8 # diminui o desgaste\n",
    "        else:\n",
    "            self.desgaste = self.desgaste + 0.5 * self.idade # aumenta o desgaste caso não obedeça às condições\n",
    "        self.idade = self.idade + 1 # já fora do 'if' e 'else'... soma mais um ano à idade            \n",
    "            \n",
    "modulo_elastico_do_meu_material = 180\n",
    "idade = 0\n",
    "desgaste = 0\n",
    "meu_material = Material(modulo_elastico_do_meu_material, idade, desgaste)\n",
    "print(meu_material)\n",
    "\n",
    "print()\n",
    "\n",
    "deformacao = 4\n",
    "tensao = meu_material.tensao(deformacao)\n",
    "print(\"Tensão: \", tensao)\n",
    "\n",
    "print()\n",
    "\n",
    "meu_material.tratamento_termico()\n",
    "print(meu_material)\n",
    "\n",
    "print()\n",
    "\n",
    "meu_material.verificacao_restauracao_anual()\n",
    "print(meu_material)"
   ]
  },
  {
   "cell_type": "code",
   "execution_count": 11,
   "metadata": {},
   "outputs": [
    {
     "name": "stdout",
     "output_type": "stream",
     "text": [
      "Material com módulo elástico de 100 GPa. Inicia seu 5 ano 'de vida', possuindo 8 unidade(s) de desgaste (na escala Yumi), já tendo passado por 0 processo(s) de restauração, que ocorre a cada 5 anos.\n",
      "\n",
      "Tensão:  229.99999999999997\n",
      "\n",
      "Material com módulo elástico de 110.00000000000001 GPa. Inicia seu 5 ano 'de vida', possuindo 8 unidade(s) de desgaste (na escala Yumi), já tendo passado por 0 processo(s) de restauração, que ocorre a cada 5 anos.\n",
      "\n",
      "Material com módulo elástico de 110.00000000000001 GPa. Inicia seu 6 ano 'de vida', possuindo 4.444444444444445 unidade(s) de desgaste (na escala Yumi), já tendo passado por 1 processo(s) de restauração, que ocorre a cada 5 anos.\n",
      "\n",
      "Material com módulo elástico de 110.00000000000001 GPa. Inicia seu 7 ano 'de vida', possuindo 7.444444444444445 unidade(s) de desgaste (na escala Yumi), já tendo passado por 1 processo(s) de restauração, que ocorre a cada 5 anos.\n"
     ]
    }
   ],
   "source": [
    "modulo_elastico_do_meu_material_2 = 100\n",
    "idade_2 = 5\n",
    "desgaste_2 = 8\n",
    "meu_material_2 = Material(modulo_elastico_do_meu_material_2, idade_2, desgaste_2)\n",
    "print(meu_material_2)\n",
    "\n",
    "print()\n",
    "\n",
    "deformacao_2 = 2.3\n",
    "tensao_2 = meu_material_2.tensao(deformacao_2)\n",
    "print(\"Tensão: \", tensao_2)\n",
    "\n",
    "print()\n",
    "\n",
    "meu_material_2.tratamento_termico()\n",
    "print(meu_material_2)\n",
    "\n",
    "print()\n",
    "\n",
    "meu_material_2.verificacao_restauracao_anual()\n",
    "print(meu_material_2)\n",
    "\n",
    "print()\n",
    "\n",
    "meu_material_2.verificacao_restauracao_anual()\n",
    "print(meu_material_2)"
   ]
  },
  {
   "cell_type": "markdown",
   "metadata": {},
   "source": [
    "## Conclusão\n",
    "\n"
   ]
  },
  {
   "cell_type": "markdown",
   "metadata": {},
   "source": [
    "<p style='text-align: justify'>Com este experimento, no qual aprendemos sobre classes, nosso objetivo de conhecê-las melhor, aprendermos os conceitos iniciais e termos esse primeiro contato foi alcançado com sucesso!</p>\n",
    "\n",
    "<p style='text-align: justify'>Resumindo nosso conhecimento obtido, temos que:</p>\n",
    "<p style='text-align: justify'>Ao buscar uma estrutura mais complexa para programação, a qual pode conter informações e ações, não sendo suficientes as funcionalidades apenas de listas, dicionários, conjuntos e funções, podemos utilizar as classes. Elas são como receitas que estabelecemos a serem seguidas, tendo que, a partir delas, podemos criar objetos (instâncias).</p>\n",
    "<p style='text-align: justify'>O primeiro passo fundamental dela é o __init__, um método que roda automaticamente, assim que se cria uma instância dessa classe. Ele se caracteriza como um método dunder, tendo __ (2 underlines / double underscore) de sufixo e prefixo, que indicam que controla o que a classe faz. Cabe ressaltar que esses métodos já fazem parte de uma lista preexistente, não são criados do nada.</p>\n",
    "<p style='text-align: justify'>Dentro delas, podemos escrever outros métodos (que são como funções dentro da classe), os quais podemos alterar o valor dentro mesmo, em outros métodos, ou fora também (cuidado, pois pode alterar toda a receita!), apenas no __init__ que não se é alterado, podendo ser acessado. Quando se altera o valor da propriedade/do método, dizemos que estamos alterando o estado da classe.</p>\n",
    "\n",
    "<p style='text-align: justify'>Uma grande curiosidade revelada nesta aula é que tudo em python é uma classe. Então, por exemplo, listas ('list') se configuram como uma classe e o '.append(x)', que tanto usamos, é um método!! Legal, não é mesmo? E se escrevermos 'help(list)' (como feito no playground), várias de suas características aparecem."
   ]
  },
  {
   "cell_type": "markdown",
   "metadata": {},
   "source": [
    "## Playground\n",
    "\n"
   ]
  },
  {
   "cell_type": "code",
   "execution_count": 12,
   "metadata": {},
   "outputs": [
    {
     "name": "stdout",
     "output_type": "stream",
     "text": [
      "Material com módulo elástico de 100 GPa. Inicia seu 10 ano 'de vida', possuindo 16 unidade(s) de desgaste (na escala Yumi), já tendo passado por 0 processo(s) de restauração, que ocorre a cada 5 anos.\n",
      "\n",
      "Tensão:  300\n",
      "\n",
      "Material com módulo elástico de 110.00000000000001 GPa. Inicia seu 10 ano 'de vida', possuindo 16 unidade(s) de desgaste (na escala Yumi), já tendo passado por 0 processo(s) de restauração, que ocorre a cada 5 anos.\n",
      "\n",
      "Material com módulo elástico de 110.00000000000001 GPa. Inicia seu 11 ano 'de vida', possuindo 8.88888888888889 unidade(s) de desgaste (na escala Yumi), já tendo passado por 1 processo(s) de restauração, que ocorre a cada 5 anos.\n",
      "\n",
      "Material com módulo elástico de 110.00000000000001 GPa. Inicia seu 12 ano 'de vida', possuindo 14.38888888888889 unidade(s) de desgaste (na escala Yumi), já tendo passado por 1 processo(s) de restauração, que ocorre a cada 5 anos.\n"
     ]
    }
   ],
   "source": [
    "modulo_elastico_do_meu_material_3 = 100\n",
    "idade_3 = 10\n",
    "desgaste_3 = 16\n",
    "meu_material_3 = Material(modulo_elastico_do_meu_material_3, idade_3, desgaste_3)\n",
    "print(meu_material_3)\n",
    "\n",
    "print()\n",
    "\n",
    "deformacao_3 = 3\n",
    "tensao_3 = meu_material_3.tensao(deformacao_3)\n",
    "print(\"Tensão: \", tensao_3)\n",
    "\n",
    "print()\n",
    "\n",
    "meu_material_3.tratamento_termico()\n",
    "print(meu_material_3)\n",
    "\n",
    "print()\n",
    "\n",
    "meu_material_3.verificacao_restauracao_anual()\n",
    "print(meu_material_3)\n",
    "\n",
    "print()\n",
    "\n",
    "meu_material_3.verificacao_restauracao_anual()\n",
    "print(meu_material_3)"
   ]
  },
  {
   "cell_type": "code",
   "execution_count": 13,
   "metadata": {},
   "outputs": [
    {
     "name": "stdout",
     "output_type": "stream",
     "text": [
      "Material com módulo elástico de 1000 GPa. Inicia seu 9 ano 'de vida', possuindo 16 unidade(s) de desgaste (na escala Yumi), já tendo passado por 0 processo(s) de restauração, que ocorre a cada 5 anos.\n",
      "\n",
      "Tensão:  3000\n",
      "\n",
      "Material com módulo elástico de 1100.0 GPa. Inicia seu 9 ano 'de vida', possuindo 16 unidade(s) de desgaste (na escala Yumi), já tendo passado por 0 processo(s) de restauração, que ocorre a cada 5 anos.\n",
      "\n",
      "Material com módulo elástico de 1100.0 GPa. Inicia seu 10 ano 'de vida', possuindo 20.5 unidade(s) de desgaste (na escala Yumi), já tendo passado por 0 processo(s) de restauração, que ocorre a cada 5 anos.\n",
      "\n",
      "Material com módulo elástico de 1100.0 GPa. Inicia seu 11 ano 'de vida', possuindo 11.38888888888889 unidade(s) de desgaste (na escala Yumi), já tendo passado por 1 processo(s) de restauração, que ocorre a cada 5 anos.\n"
     ]
    }
   ],
   "source": [
    "modulo_elastico_do_meu_material_4 = 1000\n",
    "idade_4 = 9\n",
    "desgaste_4 = 16\n",
    "meu_material_4 = Material(modulo_elastico_do_meu_material_4, idade_4, desgaste_4)\n",
    "print(meu_material_4)\n",
    "\n",
    "print()\n",
    "\n",
    "deformacao_4 = 3\n",
    "tensao_4 = meu_material_4.tensao(deformacao_4)\n",
    "print(\"Tensão: \", tensao_4)\n",
    "\n",
    "print()\n",
    "\n",
    "meu_material_4.tratamento_termico()\n",
    "print(meu_material_4)\n",
    "\n",
    "print()\n",
    "\n",
    "meu_material_4.verificacao_restauracao_anual()\n",
    "print(meu_material_4)\n",
    "\n",
    "print()\n",
    "\n",
    "meu_material_4.verificacao_restauracao_anual()\n",
    "print(meu_material_4)"
   ]
  },
  {
   "cell_type": "code",
   "execution_count": 14,
   "metadata": {},
   "outputs": [
    {
     "name": "stdout",
     "output_type": "stream",
     "text": [
      "Help on class list in module builtins:\n",
      "\n",
      "class list(object)\n",
      " |  list(iterable=(), /)\n",
      " |  \n",
      " |  Built-in mutable sequence.\n",
      " |  \n",
      " |  If no argument is given, the constructor creates a new empty list.\n",
      " |  The argument must be an iterable if specified.\n",
      " |  \n",
      " |  Methods defined here:\n",
      " |  \n",
      " |  __add__(self, value, /)\n",
      " |      Return self+value.\n",
      " |  \n",
      " |  __contains__(self, key, /)\n",
      " |      Return key in self.\n",
      " |  \n",
      " |  __delitem__(self, key, /)\n",
      " |      Delete self[key].\n",
      " |  \n",
      " |  __eq__(self, value, /)\n",
      " |      Return self==value.\n",
      " |  \n",
      " |  __ge__(self, value, /)\n",
      " |      Return self>=value.\n",
      " |  \n",
      " |  __getattribute__(self, name, /)\n",
      " |      Return getattr(self, name).\n",
      " |  \n",
      " |  __getitem__(...)\n",
      " |      x.__getitem__(y) <==> x[y]\n",
      " |  \n",
      " |  __gt__(self, value, /)\n",
      " |      Return self>value.\n",
      " |  \n",
      " |  __iadd__(self, value, /)\n",
      " |      Implement self+=value.\n",
      " |  \n",
      " |  __imul__(self, value, /)\n",
      " |      Implement self*=value.\n",
      " |  \n",
      " |  __init__(self, /, *args, **kwargs)\n",
      " |      Initialize self.  See help(type(self)) for accurate signature.\n",
      " |  \n",
      " |  __iter__(self, /)\n",
      " |      Implement iter(self).\n",
      " |  \n",
      " |  __le__(self, value, /)\n",
      " |      Return self<=value.\n",
      " |  \n",
      " |  __len__(self, /)\n",
      " |      Return len(self).\n",
      " |  \n",
      " |  __lt__(self, value, /)\n",
      " |      Return self<value.\n",
      " |  \n",
      " |  __mul__(self, value, /)\n",
      " |      Return self*value.\n",
      " |  \n",
      " |  __ne__(self, value, /)\n",
      " |      Return self!=value.\n",
      " |  \n",
      " |  __repr__(self, /)\n",
      " |      Return repr(self).\n",
      " |  \n",
      " |  __reversed__(self, /)\n",
      " |      Return a reverse iterator over the list.\n",
      " |  \n",
      " |  __rmul__(self, value, /)\n",
      " |      Return value*self.\n",
      " |  \n",
      " |  __setitem__(self, key, value, /)\n",
      " |      Set self[key] to value.\n",
      " |  \n",
      " |  __sizeof__(self, /)\n",
      " |      Return the size of the list in memory, in bytes.\n",
      " |  \n",
      " |  append(self, object, /)\n",
      " |      Append object to the end of the list.\n",
      " |  \n",
      " |  clear(self, /)\n",
      " |      Remove all items from list.\n",
      " |  \n",
      " |  copy(self, /)\n",
      " |      Return a shallow copy of the list.\n",
      " |  \n",
      " |  count(self, value, /)\n",
      " |      Return number of occurrences of value.\n",
      " |  \n",
      " |  extend(self, iterable, /)\n",
      " |      Extend list by appending elements from the iterable.\n",
      " |  \n",
      " |  index(self, value, start=0, stop=9223372036854775807, /)\n",
      " |      Return first index of value.\n",
      " |      \n",
      " |      Raises ValueError if the value is not present.\n",
      " |  \n",
      " |  insert(self, index, object, /)\n",
      " |      Insert object before index.\n",
      " |  \n",
      " |  pop(self, index=-1, /)\n",
      " |      Remove and return item at index (default last).\n",
      " |      \n",
      " |      Raises IndexError if list is empty or index is out of range.\n",
      " |  \n",
      " |  remove(self, value, /)\n",
      " |      Remove first occurrence of value.\n",
      " |      \n",
      " |      Raises ValueError if the value is not present.\n",
      " |  \n",
      " |  reverse(self, /)\n",
      " |      Reverse *IN PLACE*.\n",
      " |  \n",
      " |  sort(self, /, *, key=None, reverse=False)\n",
      " |      Sort the list in ascending order and return None.\n",
      " |      \n",
      " |      The sort is in-place (i.e. the list itself is modified) and stable (i.e. the\n",
      " |      order of two equal elements is maintained).\n",
      " |      \n",
      " |      If a key function is given, apply it once to each list item and sort them,\n",
      " |      ascending or descending, according to their function values.\n",
      " |      \n",
      " |      The reverse flag can be set to sort in descending order.\n",
      " |  \n",
      " |  ----------------------------------------------------------------------\n",
      " |  Class methods defined here:\n",
      " |  \n",
      " |  __class_getitem__(...) from builtins.type\n",
      " |      See PEP 585\n",
      " |  \n",
      " |  ----------------------------------------------------------------------\n",
      " |  Static methods defined here:\n",
      " |  \n",
      " |  __new__(*args, **kwargs) from builtins.type\n",
      " |      Create and return a new object.  See help(type) for accurate signature.\n",
      " |  \n",
      " |  ----------------------------------------------------------------------\n",
      " |  Data and other attributes defined here:\n",
      " |  \n",
      " |  __hash__ = None\n",
      "\n"
     ]
    }
   ],
   "source": [
    "help(list)"
   ]
  },
  {
   "cell_type": "code",
   "execution_count": null,
   "metadata": {},
   "outputs": [],
   "source": []
  }
 ],
 "metadata": {
  "kernelspec": {
   "display_name": "ilumpy",
   "language": "python",
   "name": "ilumpy"
  },
  "language_info": {
   "codemirror_mode": {
    "name": "ipython",
    "version": 3
   },
   "file_extension": ".py",
   "mimetype": "text/x-python",
   "name": "python",
   "nbconvert_exporter": "python",
   "pygments_lexer": "ipython3",
   "version": "3.9.7"
  },
  "org": null
 },
 "nbformat": 4,
 "nbformat_minor": 4
}
