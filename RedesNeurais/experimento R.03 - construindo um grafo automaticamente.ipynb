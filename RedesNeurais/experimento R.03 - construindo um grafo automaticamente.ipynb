{
 "cells": [
  {
   "cell_type": "markdown",
   "metadata": {},
   "source": [
    "Construindo um grafo automaticamente\n",
    "====================================\n",
    "\n"
   ]
  },
  {
   "cell_type": "markdown",
   "metadata": {},
   "source": [
    "## Introdução\n",
    "\n"
   ]
  },
  {
   "cell_type": "markdown",
   "metadata": {},
   "source": [
    "Neste notebook nós vamos dar o primeiro passo para construir nossa rede neural artificial. Neste primeiro passo, nós vamos criar uma classe que gera automaticamente o nosso `grafo computacional`. O grafo computacional é o grafo que representa todas as operações matemáticas que ocorreram ao se computar um certo valor $y$. O grafo computacional é um passo necessário pois será baseado nele que iremos computar os gradientes locais necessários para realizar o `backpropagation`.\n",
    "\n"
   ]
  },
  {
   "cell_type": "markdown",
   "metadata": {},
   "source": [
    "## Importações\n",
    "\n"
   ]
  },
  {
   "cell_type": "code",
   "execution_count": 1,
   "metadata": {},
   "outputs": [],
   "source": [
    "from funcoes import plota_grafo"
   ]
  },
  {
   "cell_type": "markdown",
   "metadata": {},
   "source": [
    "## Código e discussão\n",
    "\n"
   ]
  },
  {
   "cell_type": "markdown",
   "metadata": {},
   "source": [
    "### Primeiros passos\n",
    "\n"
   ]
  },
  {
   "cell_type": "markdown",
   "metadata": {},
   "source": [
    "A base de tudo será uma classe chamada `Valor`. Vamos começar pelo básico!\n",
    "\n"
   ]
  },
  {
   "cell_type": "code",
   "execution_count": 2,
   "metadata": {},
   "outputs": [],
   "source": [
    "class Valor:\n",
    "    def __init__(self, data):\n",
    "        self.data = data\n",
    "\n",
    "    def __repr__(self):\n",
    "        return f\"Valor(data={self.data})\""
   ]
  },
  {
   "cell_type": "markdown",
   "metadata": {},
   "source": [
    "Vamos testar nossa classe!\n",
    "\n"
   ]
  },
  {
   "cell_type": "code",
   "execution_count": 3,
   "metadata": {},
   "outputs": [
    {
     "name": "stdout",
     "output_type": "stream",
     "text": [
      "Valor(data=60)\n",
      "60\n"
     ]
    }
   ],
   "source": [
    "x1 = Valor(60)\n",
    "print(x1)\n",
    "print(x1.data)"
   ]
  },
  {
   "cell_type": "markdown",
   "metadata": {},
   "source": [
    "### Os dunders `__add__` e `__mul__`\n",
    "\n"
   ]
  },
  {
   "cell_type": "markdown",
   "metadata": {},
   "source": [
    "Observe que não conseguimos adicionar nem multiplicar objetos criados com a classe `Valor`.\n",
    "\n"
   ]
  },
  {
   "cell_type": "markdown",
   "metadata": {},
   "source": [
    "<p style='text-align: justify'><i>Não se assuste!! Aqui é esperado que dê erro mesmo! Foi proposital e serve de exemplificação do que estamos querendo mostras (que não é possível realizar, até memso essas operações básicas para nós, antes de definirmo-las na classe)...</i></p>"
   ]
  },
  {
   "cell_type": "code",
   "execution_count": 4,
   "metadata": {},
   "outputs": [],
   "source": [
    "a = Valor(10)\n",
    "b = Valor(5)"
   ]
  },
  {
   "cell_type": "code",
   "execution_count": 5,
   "metadata": {},
   "outputs": [
    {
     "ename": "TypeError",
     "evalue": "unsupported operand type(s) for +: 'Valor' and 'Valor'",
     "output_type": "error",
     "traceback": [
      "\u001b[1;31m---------------------------------------------------------------------------\u001b[0m",
      "\u001b[1;31mTypeError\u001b[0m                                 Traceback (most recent call last)",
      "\u001b[1;32mC:\\Users\\VITORI~1\\AppData\\Local\\Temp/ipykernel_4192/3864629426.py\u001b[0m in \u001b[0;36m<module>\u001b[1;34m\u001b[0m\n\u001b[1;32m----> 1\u001b[1;33m \u001b[0mprint\u001b[0m\u001b[1;33m(\u001b[0m\u001b[0ma\u001b[0m \u001b[1;33m+\u001b[0m \u001b[0mb\u001b[0m\u001b[1;33m)\u001b[0m\u001b[1;33m\u001b[0m\u001b[1;33m\u001b[0m\u001b[0m\n\u001b[0m",
      "\u001b[1;31mTypeError\u001b[0m: unsupported operand type(s) for +: 'Valor' and 'Valor'"
     ]
    }
   ],
   "source": [
    "print(a + b)"
   ]
  },
  {
   "cell_type": "code",
   "execution_count": 6,
   "metadata": {},
   "outputs": [
    {
     "ename": "TypeError",
     "evalue": "unsupported operand type(s) for *: 'Valor' and 'Valor'",
     "output_type": "error",
     "traceback": [
      "\u001b[1;31m---------------------------------------------------------------------------\u001b[0m",
      "\u001b[1;31mTypeError\u001b[0m                                 Traceback (most recent call last)",
      "\u001b[1;32mC:\\Users\\VITORI~1\\AppData\\Local\\Temp/ipykernel_4192/2640154986.py\u001b[0m in \u001b[0;36m<module>\u001b[1;34m\u001b[0m\n\u001b[1;32m----> 1\u001b[1;33m \u001b[0mprint\u001b[0m\u001b[1;33m(\u001b[0m\u001b[0ma\u001b[0m \u001b[1;33m*\u001b[0m \u001b[0mb\u001b[0m\u001b[1;33m)\u001b[0m\u001b[1;33m\u001b[0m\u001b[1;33m\u001b[0m\u001b[0m\n\u001b[0m",
      "\u001b[1;31mTypeError\u001b[0m: unsupported operand type(s) for *: 'Valor' and 'Valor'"
     ]
    }
   ],
   "source": [
    "print(a * b)"
   ]
  },
  {
   "cell_type": "markdown",
   "metadata": {},
   "source": [
    "Ué&#x2026; porque não conseguimos? Não conseguimos pois o Python (ainda) não é vidente. Ele lá vai saber como adicionar ou multiplicar algo que você criou? Pra você parece óbvio que valores podem ser adicionados ou multiplicados, mas para o Python ele nem sabe o que significa a palavra `Valor`&#x2026;\n",
    "\n",
    "Como sempre, temos que contar para o programa o que queremos que aconteça quando usarmos os operadores `+` e `*`. Quem faz isso são os dunders `__add__` e `__mul__`.\n",
    "\n"
   ]
  },
  {
   "cell_type": "code",
   "execution_count": 7,
   "metadata": {},
   "outputs": [],
   "source": [
    "class Valor:\n",
    "    def __init__(self, data):\n",
    "        self.data = data\n",
    "\n",
    "    def __repr__(self):\n",
    "        return f\"Valor(data={self.data})\"\n",
    "\n",
    "    def __add__(self, outro_valor): # definindo como será feita a soma\n",
    "        saida = Valor(self.data + outro_valor.data)\n",
    "        return saida\n",
    "\n",
    "    def __mul__(self, outro_valor): # definindo como será feita a multiplicação\n",
    "        saida = Valor(self.data * outro_valor.data)\n",
    "        return saida"
   ]
  },
  {
   "cell_type": "markdown",
   "metadata": {},
   "source": [
    "Vamos testar!\n",
    "\n"
   ]
  },
  {
   "cell_type": "code",
   "execution_count": 8,
   "metadata": {},
   "outputs": [
    {
     "name": "stdout",
     "output_type": "stream",
     "text": [
      "Valor(data=15)\n",
      "Valor(data=50)\n"
     ]
    }
   ],
   "source": [
    "a = Valor(10)\n",
    "b = Valor(5)\n",
    "\n",
    "print(a + b)\n",
    "print(a * b)"
   ]
  },
  {
   "cell_type": "markdown",
   "metadata": {},
   "source": [
    "<p style='text-align: justify'><i>(Agora sim deu o esperado, não é mesmo? Uhuul, que alívio.)</i></p>"
   ]
  },
  {
   "cell_type": "markdown",
   "metadata": {},
   "source": [
    "### Registrando os progenitores\n",
    "\n"
   ]
  },
  {
   "cell_type": "markdown",
   "metadata": {},
   "source": [
    "Nosso objetivo é construir um grafo computacional. Em um grafo computacional, um certo vértice pode ter um ou mais vértices progenitores (são seus pais/mães). Nós não podemos perder essa informação quando formos construir um grafo, então precisamos incluir essa informação na nossa classe.\n",
    "\n"
   ]
  },
  {
   "cell_type": "code",
   "execution_count": 9,
   "metadata": {},
   "outputs": [],
   "source": [
    "class Valor:\n",
    "    def __init__(self, data, progenitor=()):\n",
    "        self.data = data\n",
    "        self.progenitor = progenitor\n",
    "\n",
    "    def __repr__(self):\n",
    "        return f\"Valor(data={self.data})\"\n",
    "\n",
    "    def __add__(self, outro_valor):\n",
    "        data = self.data + outro_valor.data\n",
    "        progenitor = (self, outro_valor)\n",
    "        saida = Valor(data, progenitor)\n",
    "        return saida\n",
    "\n",
    "    def __mul__(self, outro_valor):\n",
    "        data = self.data * outro_valor.data\n",
    "        progenitor = (self, outro_valor)\n",
    "        saida = Valor(data, progenitor)\n",
    "        return saida"
   ]
  },
  {
   "cell_type": "markdown",
   "metadata": {},
   "source": [
    "Vamos testar!\n",
    "\n"
   ]
  },
  {
   "cell_type": "code",
   "execution_count": 10,
   "metadata": {},
   "outputs": [
    {
     "name": "stdout",
     "output_type": "stream",
     "text": [
      "10\n",
      "()\n",
      "Valor(data=15)\n",
      "Valor(data=10)\n",
      "(Valor(data=15), Valor(data=10))\n"
     ]
    }
   ],
   "source": [
    "a = Valor(10)\n",
    "b = Valor(5)\n",
    "\n",
    "print(a.data)\n",
    "print(a.progenitor)\n",
    "\n",
    "c = a + b\n",
    "d = c * a\n",
    "\n",
    "print(c)\n",
    "print(a)\n",
    "print(d.progenitor)"
   ]
  },
  {
   "cell_type": "markdown",
   "metadata": {},
   "source": [
    "### Registrando o operador mãe\n",
    "\n"
   ]
  },
  {
   "cell_type": "markdown",
   "metadata": {},
   "source": [
    "Em um grafo computacional, um vértice pode ter um operador mãe. O operador mãe é o operador que foi usado para gerar o vértice.\n",
    "\n"
   ]
  },
  {
   "cell_type": "code",
   "execution_count": 11,
   "metadata": {},
   "outputs": [],
   "source": [
    "class Valor:\n",
    "    def __init__(self, data, progenitor=(), operador_mae=\"\"):\n",
    "        self.data = data\n",
    "        self.progenitor = progenitor\n",
    "        self.operador_mae = operador_mae\n",
    "\n",
    "    def __repr__(self):\n",
    "        return f\"Valor(data={self.data})\"\n",
    "\n",
    "    def __add__(self, outro_valor):\n",
    "        data = self.data + outro_valor.data\n",
    "        progenitor = (self, outro_valor)\n",
    "        operador_mae = \"+\"\n",
    "        saida = Valor(data, progenitor, operador_mae)\n",
    "        return saida\n",
    "\n",
    "    def __mul__(self, outro_valor):\n",
    "        data = self.data * outro_valor.data\n",
    "        progenitor = (self, outro_valor)\n",
    "        operador_mae = \"*\"\n",
    "        saida = Valor(data, progenitor, operador_mae)\n",
    "        return saida"
   ]
  },
  {
   "cell_type": "markdown",
   "metadata": {},
   "source": [
    "Vamos testar!\n",
    "\n"
   ]
  },
  {
   "cell_type": "code",
   "execution_count": 12,
   "metadata": {},
   "outputs": [
    {
     "name": "stdout",
     "output_type": "stream",
     "text": [
      "Valor(data=15)\n",
      "(Valor(data=10), Valor(data=5))\n",
      "+\n",
      "\n"
     ]
    }
   ],
   "source": [
    "a = Valor(10)\n",
    "b = Valor(5)\n",
    "\n",
    "c = a + b\n",
    "d = c * a\n",
    "\n",
    "print(c)\n",
    "print(c.progenitor)\n",
    "print(c.operador_mae)\n",
    "\n",
    "print(a.operador_mae)"
   ]
  },
  {
   "cell_type": "markdown",
   "metadata": {},
   "source": [
    "### Plotando o primeiro grafo\n",
    "\n"
   ]
  },
  {
   "cell_type": "markdown",
   "metadata": {},
   "source": [
    "Vamos plotar nosso primeiro grafo!\n",
    "\n"
   ]
  },
  {
   "cell_type": "code",
   "execution_count": 13,
   "metadata": {},
   "outputs": [
    {
     "data": {
      "image/svg+xml": [
       "<?xml version=\"1.0\" encoding=\"UTF-8\" standalone=\"no\"?>\n",
       "<!DOCTYPE svg PUBLIC \"-//W3C//DTD SVG 1.1//EN\"\n",
       " \"http://www.w3.org/Graphics/SVG/1.1/DTD/svg11.dtd\">\n",
       "<!-- Generated by graphviz version 8.0.3 (20230416.2022)\n",
       " -->\n",
       "<!-- Pages: 1 -->\n",
       "<svg width=\"515pt\" height=\"127pt\"\n",
       " viewBox=\"0.00 0.00 515.00 127.00\" xmlns=\"http://www.w3.org/2000/svg\" xmlns:xlink=\"http://www.w3.org/1999/xlink\">\n",
       "<g id=\"graph0\" class=\"graph\" transform=\"scale(1 1) rotate(0) translate(4 123)\">\n",
       "<polygon fill=\"white\" stroke=\"none\" points=\"-4,4 -4,-123 511,-123 511,4 -4,4\"/>\n",
       "<!-- 1785430059520 -->\n",
       "<g id=\"node1\" class=\"node\">\n",
       "<title>1785430059520</title>\n",
       "<polygon fill=\"none\" stroke=\"black\" points=\"212,-82.5 212,-118.5 300,-118.5 300,-82.5 212,-82.5\"/>\n",
       "<text text-anchor=\"middle\" x=\"256\" y=\"-96.8\" font-family=\"Times New Roman,serif\" font-size=\"14.00\">data 10.0000</text>\n",
       "</g>\n",
       "<!-- 1785430057072+ -->\n",
       "<g id=\"node4\" class=\"node\">\n",
       "<title>1785430057072+</title>\n",
       "<ellipse fill=\"none\" stroke=\"black\" cx=\"363\" cy=\"-72.5\" rx=\"27\" ry=\"18\"/>\n",
       "<text text-anchor=\"middle\" x=\"363\" y=\"-68.8\" font-family=\"Times New Roman,serif\" font-size=\"14.00\">+</text>\n",
       "</g>\n",
       "<!-- 1785430059520&#45;&gt;1785430057072+ -->\n",
       "<g id=\"edge4\" class=\"edge\">\n",
       "<title>1785430059520&#45;&gt;1785430057072+</title>\n",
       "<path fill=\"none\" stroke=\"black\" d=\"M299.71,-89.11C308.73,-86.71 318.15,-84.19 326.86,-81.87\"/>\n",
       "<polygon fill=\"black\" stroke=\"black\" points=\"327.65,-85.01 336.42,-79.06 325.85,-78.25 327.65,-85.01\"/>\n",
       "</g>\n",
       "<!-- 1785430057504 -->\n",
       "<g id=\"node2\" class=\"node\">\n",
       "<title>1785430057504</title>\n",
       "<polygon fill=\"none\" stroke=\"black\" points=\"0,-55.5 0,-91.5 86,-91.5 86,-55.5 0,-55.5\"/>\n",
       "<text text-anchor=\"middle\" x=\"43\" y=\"-69.8\" font-family=\"Times New Roman,serif\" font-size=\"14.00\">data &#45;3.0000</text>\n",
       "</g>\n",
       "<!-- 1785430058848* -->\n",
       "<g id=\"node6\" class=\"node\">\n",
       "<title>1785430058848*</title>\n",
       "<ellipse fill=\"none\" stroke=\"black\" cx=\"149\" cy=\"-45.5\" rx=\"27\" ry=\"18\"/>\n",
       "<text text-anchor=\"middle\" x=\"149\" y=\"-41.8\" font-family=\"Times New Roman,serif\" font-size=\"14.00\">*</text>\n",
       "</g>\n",
       "<!-- 1785430057504&#45;&gt;1785430058848* -->\n",
       "<g id=\"edge5\" class=\"edge\">\n",
       "<title>1785430057504&#45;&gt;1785430058848*</title>\n",
       "<path fill=\"none\" stroke=\"black\" d=\"M85.7,-62.27C94.68,-59.85 104.09,-57.32 112.79,-54.98\"/>\n",
       "<polygon fill=\"black\" stroke=\"black\" points=\"113.61,-58.11 122.36,-52.14 111.79,-51.36 113.61,-58.11\"/>\n",
       "</g>\n",
       "<!-- 1785430057072 -->\n",
       "<g id=\"node3\" class=\"node\">\n",
       "<title>1785430057072</title>\n",
       "<polygon fill=\"none\" stroke=\"black\" points=\"426,-54.5 426,-90.5 507,-90.5 507,-54.5 426,-54.5\"/>\n",
       "<text text-anchor=\"middle\" x=\"466.5\" y=\"-68.8\" font-family=\"Times New Roman,serif\" font-size=\"14.00\">data 4.0000</text>\n",
       "</g>\n",
       "<!-- 1785430057072+&#45;&gt;1785430057072 -->\n",
       "<g id=\"edge1\" class=\"edge\">\n",
       "<title>1785430057072+&#45;&gt;1785430057072</title>\n",
       "<path fill=\"none\" stroke=\"black\" d=\"M390.4,-72.5C398.08,-72.5 406.74,-72.5 415.38,-72.5\"/>\n",
       "<polygon fill=\"black\" stroke=\"black\" points=\"415.22,-76 425.22,-72.5 415.22,-69 415.22,-76\"/>\n",
       "</g>\n",
       "<!-- 1785430058848 -->\n",
       "<g id=\"node5\" class=\"node\">\n",
       "<title>1785430058848</title>\n",
       "<polygon fill=\"none\" stroke=\"black\" points=\"213,-27.5 213,-63.5 299,-63.5 299,-27.5 213,-27.5\"/>\n",
       "<text text-anchor=\"middle\" x=\"256\" y=\"-41.8\" font-family=\"Times New Roman,serif\" font-size=\"14.00\">data &#45;6.0000</text>\n",
       "</g>\n",
       "<!-- 1785430058848&#45;&gt;1785430057072+ -->\n",
       "<g id=\"edge6\" class=\"edge\">\n",
       "<title>1785430058848&#45;&gt;1785430057072+</title>\n",
       "<path fill=\"none\" stroke=\"black\" d=\"M298.8,-56.25C308.07,-58.63 317.81,-61.14 326.78,-63.44\"/>\n",
       "<polygon fill=\"black\" stroke=\"black\" points=\"325.72,-67.04 336.27,-66.14 327.46,-60.26 325.72,-67.04\"/>\n",
       "</g>\n",
       "<!-- 1785430058848*&#45;&gt;1785430058848 -->\n",
       "<g id=\"edge2\" class=\"edge\">\n",
       "<title>1785430058848*&#45;&gt;1785430058848</title>\n",
       "<path fill=\"none\" stroke=\"black\" d=\"M176.5,-45.5C184.44,-45.5 193.45,-45.5 202.47,-45.5\"/>\n",
       "<polygon fill=\"black\" stroke=\"black\" points=\"202.39,-49 212.39,-45.5 202.39,-42 202.39,-49\"/>\n",
       "</g>\n",
       "<!-- 1785430060960 -->\n",
       "<g id=\"node7\" class=\"node\">\n",
       "<title>1785430060960</title>\n",
       "<polygon fill=\"none\" stroke=\"black\" points=\"2.5,-0.5 2.5,-36.5 83.5,-36.5 83.5,-0.5 2.5,-0.5\"/>\n",
       "<text text-anchor=\"middle\" x=\"43\" y=\"-14.8\" font-family=\"Times New Roman,serif\" font-size=\"14.00\">data 2.0000</text>\n",
       "</g>\n",
       "<!-- 1785430060960&#45;&gt;1785430058848* -->\n",
       "<g id=\"edge3\" class=\"edge\">\n",
       "<title>1785430060960&#45;&gt;1785430058848*</title>\n",
       "<path fill=\"none\" stroke=\"black\" d=\"M83.32,-28.71C92.99,-31.22 103.29,-33.89 112.76,-36.35\"/>\n",
       "<polygon fill=\"black\" stroke=\"black\" points=\"111.85,-39.99 122.4,-39.11 113.61,-33.21 111.85,-39.99\"/>\n",
       "</g>\n",
       "</g>\n",
       "</svg>\n"
      ],
      "text/plain": [
       "<graphviz.graphs.Digraph at 0x19fb3eca8e0>"
      ]
     },
     "execution_count": 13,
     "metadata": {},
     "output_type": "execute_result"
    }
   ],
   "source": [
    "a = Valor(2)\n",
    "b = Valor(-3)\n",
    "c = Valor(10)\n",
    "\n",
    "d = a * b\n",
    "e = d + c\n",
    "\n",
    "plota_grafo(e)"
   ]
  },
  {
   "cell_type": "markdown",
   "metadata": {},
   "source": [
    "### Registrando o rótulo\n",
    "\n"
   ]
  },
  {
   "cell_type": "markdown",
   "metadata": {},
   "source": [
    "Nosso grafo seria mais legível se tivéssemos rótulos indicando o que é cada vértice. Vamos incluir essa informação na nossa classe.\n",
    "\n"
   ]
  },
  {
   "cell_type": "code",
   "execution_count": 14,
   "metadata": {},
   "outputs": [],
   "source": [
    "class Valor:\n",
    "    def __init__(self, data, progenitor=(), operador_mae=\"\", rotulo=\"\"):\n",
    "        self.data = data\n",
    "        self.progenitor = progenitor\n",
    "        self.operador_mae = operador_mae\n",
    "        self.rotulo = rotulo # com isso, vamos estar rotulando nossos vértices!\n",
    "\n",
    "    def __repr__(self):\n",
    "        return f\"Valor(data={self.data})\"\n",
    "\n",
    "    def __add__(self, outro_valor):\n",
    "        data = self.data + outro_valor.data\n",
    "        progenitor = (self, outro_valor)\n",
    "        operador_mae = \"+\"\n",
    "        saida = Valor(data, progenitor, operador_mae)\n",
    "        return saida\n",
    "\n",
    "    def __mul__(self, outro_valor):\n",
    "        data = self.data * outro_valor.data\n",
    "        progenitor = (self, outro_valor)\n",
    "        operador_mae = \"*\"\n",
    "        saida = Valor(data, progenitor, operador_mae)\n",
    "        return saida"
   ]
  },
  {
   "cell_type": "markdown",
   "metadata": {},
   "source": [
    "Vamos testar!\n",
    "\n"
   ]
  },
  {
   "cell_type": "code",
   "execution_count": 15,
   "metadata": {},
   "outputs": [
    {
     "name": "stdout",
     "output_type": "stream",
     "text": [
      "digraph {\n",
      "\tgraph [rankdir=LR]\n",
      "\t1785429358720 [label=\"{ e | data 4.0000 }\" shape=record]\n",
      "\t\"1785429358720+\" [label=\"+\"]\n",
      "\t\"1785429358720+\" -> 1785429358720\n",
      "\t1785429357184 [label=\"{ b | data -3.0000 }\" shape=record]\n",
      "\t1785429357280 [label=\"{ d | data -6.0000 }\" shape=record]\n",
      "\t\"1785429357280*\" [label=\"*\"]\n",
      "\t\"1785429357280*\" -> 1785429357280\n",
      "\t1785429360496 [label=\"{ a | data 2.0000 }\" shape=record]\n",
      "\t1785429357472 [label=\"{ c | data 10.0000 }\" shape=record]\n",
      "\t1785429360496 -> \"1785429357280*\"\n",
      "\t1785429357472 -> \"1785429358720+\"\n",
      "\t1785429357184 -> \"1785429357280*\"\n",
      "\t1785429357280 -> \"1785429358720+\"\n",
      "}\n",
      "\n"
     ]
    }
   ],
   "source": [
    "a = Valor(2, rotulo=\"a\")\n",
    "b = Valor(-3, rotulo=\"b\")\n",
    "c = Valor(10, rotulo=\"c\")\n",
    "\n",
    "d = a * b\n",
    "e = d + c\n",
    "\n",
    "d.rotulo = \"d\"\n",
    "e.rotulo = \"e\"\n",
    "\n",
    "plota_grafo(e)\n",
    "\n",
    "grafo = plota_grafo(e)\n",
    "print(grafo) # aqui vemos uma outra forma de obtermos o gráfico... podemos pedir esse tipo de escrita, com \n",
    "             # a qual poderíamos colocar em um site (dito na conclusão) e teríamos os grafo plotado!"
   ]
  },
  {
   "cell_type": "markdown",
   "metadata": {},
   "source": [
    "Plotando de outra forma..."
   ]
  },
  {
   "cell_type": "code",
   "execution_count": 16,
   "metadata": {},
   "outputs": [
    {
     "data": {
      "image/svg+xml": [
       "<?xml version=\"1.0\" encoding=\"UTF-8\" standalone=\"no\"?>\n",
       "<!DOCTYPE svg PUBLIC \"-//W3C//DTD SVG 1.1//EN\"\n",
       " \"http://www.w3.org/Graphics/SVG/1.1/DTD/svg11.dtd\">\n",
       "<!-- Generated by graphviz version 8.0.3 (20230416.2022)\n",
       " -->\n",
       "<!-- Pages: 1 -->\n",
       "<svg width=\"585pt\" height=\"128pt\"\n",
       " viewBox=\"0.00 0.00 585.00 128.00\" xmlns=\"http://www.w3.org/2000/svg\" xmlns:xlink=\"http://www.w3.org/1999/xlink\">\n",
       "<g id=\"graph0\" class=\"graph\" transform=\"scale(1 1) rotate(0) translate(4 124)\">\n",
       "<polygon fill=\"white\" stroke=\"none\" points=\"-4,4 -4,-124 581,-124 581,4 -4,4\"/>\n",
       "<!-- 1785429358720 -->\n",
       "<g id=\"node1\" class=\"node\">\n",
       "<title>1785429358720</title>\n",
       "<polygon fill=\"none\" stroke=\"black\" points=\"473,-27.5 473,-63.5 577,-63.5 577,-27.5 473,-27.5\"/>\n",
       "<text text-anchor=\"middle\" x=\"484.5\" y=\"-41.8\" font-family=\"Times New Roman,serif\" font-size=\"14.00\">e</text>\n",
       "<polyline fill=\"none\" stroke=\"black\" points=\"496,-27.5 496,-63.5\"/>\n",
       "<text text-anchor=\"middle\" x=\"536.5\" y=\"-41.8\" font-family=\"Times New Roman,serif\" font-size=\"14.00\">data 4.0000</text>\n",
       "</g>\n",
       "<!-- 1785429358720+ -->\n",
       "<g id=\"node2\" class=\"node\">\n",
       "<title>1785429358720+</title>\n",
       "<ellipse fill=\"none\" stroke=\"black\" cx=\"410\" cy=\"-45.5\" rx=\"27\" ry=\"18\"/>\n",
       "<text text-anchor=\"middle\" x=\"410\" y=\"-41.8\" font-family=\"Times New Roman,serif\" font-size=\"14.00\">+</text>\n",
       "</g>\n",
       "<!-- 1785429358720+&#45;&gt;1785429358720 -->\n",
       "<g id=\"edge1\" class=\"edge\">\n",
       "<title>1785429358720+&#45;&gt;1785429358720</title>\n",
       "<path fill=\"none\" stroke=\"black\" d=\"M437.49,-45.5C445.1,-45.5 453.73,-45.5 462.52,-45.5\"/>\n",
       "<polygon fill=\"black\" stroke=\"black\" points=\"462.26,-49 472.26,-45.5 462.26,-42 462.26,-49\"/>\n",
       "</g>\n",
       "<!-- 1785429357184 -->\n",
       "<g id=\"node3\" class=\"node\">\n",
       "<title>1785429357184</title>\n",
       "<polygon fill=\"none\" stroke=\"black\" points=\"0,-83.5 0,-119.5 110,-119.5 110,-83.5 0,-83.5\"/>\n",
       "<text text-anchor=\"middle\" x=\"12\" y=\"-97.8\" font-family=\"Times New Roman,serif\" font-size=\"14.00\">b</text>\n",
       "<polyline fill=\"none\" stroke=\"black\" points=\"24,-83.5 24,-119.5\"/>\n",
       "<text text-anchor=\"middle\" x=\"67\" y=\"-97.8\" font-family=\"Times New Roman,serif\" font-size=\"14.00\">data &#45;3.0000</text>\n",
       "</g>\n",
       "<!-- 1785429357280* -->\n",
       "<g id=\"node5\" class=\"node\">\n",
       "<title>1785429357280*</title>\n",
       "<ellipse fill=\"none\" stroke=\"black\" cx=\"173\" cy=\"-73.5\" rx=\"27\" ry=\"18\"/>\n",
       "<text text-anchor=\"middle\" x=\"173\" y=\"-69.8\" font-family=\"Times New Roman,serif\" font-size=\"14.00\">*</text>\n",
       "</g>\n",
       "<!-- 1785429357184&#45;&gt;1785429357280* -->\n",
       "<g id=\"edge5\" class=\"edge\">\n",
       "<title>1785429357184&#45;&gt;1785429357280*</title>\n",
       "<path fill=\"none\" stroke=\"black\" d=\"M109.92,-88.48C118.98,-86.3 128.16,-84.08 136.59,-82.05\"/>\n",
       "<polygon fill=\"black\" stroke=\"black\" points=\"137.26,-85.24 146.16,-79.5 135.62,-78.44 137.26,-85.24\"/>\n",
       "</g>\n",
       "<!-- 1785429357280 -->\n",
       "<g id=\"node4\" class=\"node\">\n",
       "<title>1785429357280</title>\n",
       "<polygon fill=\"none\" stroke=\"black\" points=\"236.5,-55.5 236.5,-91.5 346.5,-91.5 346.5,-55.5 236.5,-55.5\"/>\n",
       "<text text-anchor=\"middle\" x=\"248.5\" y=\"-69.8\" font-family=\"Times New Roman,serif\" font-size=\"14.00\">d</text>\n",
       "<polyline fill=\"none\" stroke=\"black\" points=\"260.5,-55.5 260.5,-91.5\"/>\n",
       "<text text-anchor=\"middle\" x=\"303.5\" y=\"-69.8\" font-family=\"Times New Roman,serif\" font-size=\"14.00\">data &#45;6.0000</text>\n",
       "</g>\n",
       "<!-- 1785429357280&#45;&gt;1785429358720+ -->\n",
       "<g id=\"edge6\" class=\"edge\">\n",
       "<title>1785429357280&#45;&gt;1785429358720+</title>\n",
       "<path fill=\"none\" stroke=\"black\" d=\"M346.32,-60.57C355.62,-58.33 365.08,-56.06 373.73,-53.98\"/>\n",
       "<polygon fill=\"black\" stroke=\"black\" points=\"374.28,-57.2 383.19,-51.46 372.65,-50.4 374.28,-57.2\"/>\n",
       "</g>\n",
       "<!-- 1785429357280*&#45;&gt;1785429357280 -->\n",
       "<g id=\"edge2\" class=\"edge\">\n",
       "<title>1785429357280*&#45;&gt;1785429357280</title>\n",
       "<path fill=\"none\" stroke=\"black\" d=\"M200.44,-73.5C208.07,-73.5 216.76,-73.5 225.66,-73.5\"/>\n",
       "<polygon fill=\"black\" stroke=\"black\" points=\"225.56,-77 235.56,-73.5 225.56,-70 225.56,-77\"/>\n",
       "</g>\n",
       "<!-- 1785429360496 -->\n",
       "<g id=\"node6\" class=\"node\">\n",
       "<title>1785429360496</title>\n",
       "<polygon fill=\"none\" stroke=\"black\" points=\"3,-28.5 3,-64.5 107,-64.5 107,-28.5 3,-28.5\"/>\n",
       "<text text-anchor=\"middle\" x=\"14.5\" y=\"-42.8\" font-family=\"Times New Roman,serif\" font-size=\"14.00\">a</text>\n",
       "<polyline fill=\"none\" stroke=\"black\" points=\"26,-28.5 26,-64.5\"/>\n",
       "<text text-anchor=\"middle\" x=\"66.5\" y=\"-42.8\" font-family=\"Times New Roman,serif\" font-size=\"14.00\">data 2.0000</text>\n",
       "</g>\n",
       "<!-- 1785429360496&#45;&gt;1785429357280* -->\n",
       "<g id=\"edge3\" class=\"edge\">\n",
       "<title>1785429360496&#45;&gt;1785429357280*</title>\n",
       "<path fill=\"none\" stroke=\"black\" d=\"M106.88,-58.34C116.86,-60.66 127.12,-63.05 136.46,-65.23\"/>\n",
       "<polygon fill=\"black\" stroke=\"black\" points=\"135.4,-68.81 145.93,-67.66 136.98,-61.99 135.4,-68.81\"/>\n",
       "</g>\n",
       "<!-- 1785429357472 -->\n",
       "<g id=\"node7\" class=\"node\">\n",
       "<title>1785429357472</title>\n",
       "<polygon fill=\"none\" stroke=\"black\" points=\"236,-0.5 236,-36.5 347,-36.5 347,-0.5 236,-0.5\"/>\n",
       "<text text-anchor=\"middle\" x=\"247.5\" y=\"-14.8\" font-family=\"Times New Roman,serif\" font-size=\"14.00\">c</text>\n",
       "<polyline fill=\"none\" stroke=\"black\" points=\"259,-0.5 259,-36.5\"/>\n",
       "<text text-anchor=\"middle\" x=\"303\" y=\"-14.8\" font-family=\"Times New Roman,serif\" font-size=\"14.00\">data 10.0000</text>\n",
       "</g>\n",
       "<!-- 1785429357472&#45;&gt;1785429358720+ -->\n",
       "<g id=\"edge4\" class=\"edge\">\n",
       "<title>1785429357472&#45;&gt;1785429358720+</title>\n",
       "<path fill=\"none\" stroke=\"black\" d=\"M347,-31.13C355.97,-33.21 365.07,-35.32 373.43,-37.26\"/>\n",
       "<polygon fill=\"black\" stroke=\"black\" points=\"372.39,-40.84 382.92,-39.69 373.97,-34.02 372.39,-40.84\"/>\n",
       "</g>\n",
       "</g>\n",
       "</svg>\n"
      ],
      "text/plain": [
       "<graphviz.graphs.Digraph at 0x19fb3e1f070>"
      ]
     },
     "execution_count": 16,
     "metadata": {},
     "output_type": "execute_result"
    }
   ],
   "source": [
    "plota_grafo(e)"
   ]
  },
  {
   "cell_type": "markdown",
   "metadata": {},
   "source": [
    "### Refazendo o grafo que fizemos na aula anterior\n",
    "\n"
   ]
  },
  {
   "cell_type": "markdown",
   "metadata": {},
   "source": [
    "Na aula anterior nós fizemos um grafo computacional para aprender como funciona o backpropagation. Vamos refazer ele aqui!\n",
    "\n"
   ]
  },
  {
   "cell_type": "code",
   "execution_count": 17,
   "metadata": {},
   "outputs": [
    {
     "data": {
      "image/svg+xml": [
       "<?xml version=\"1.0\" encoding=\"UTF-8\" standalone=\"no\"?>\n",
       "<!DOCTYPE svg PUBLIC \"-//W3C//DTD SVG 1.1//EN\"\n",
       " \"http://www.w3.org/Graphics/SVG/1.1/DTD/svg11.dtd\">\n",
       "<!-- Generated by graphviz version 8.0.3 (20230416.2022)\n",
       " -->\n",
       "<!-- Pages: 1 -->\n",
       "<svg width=\"1117pt\" height=\"210pt\"\n",
       " viewBox=\"0.00 0.00 1117.00 210.00\" xmlns=\"http://www.w3.org/2000/svg\" xmlns:xlink=\"http://www.w3.org/1999/xlink\">\n",
       "<g id=\"graph0\" class=\"graph\" transform=\"scale(1 1) rotate(0) translate(4 206)\">\n",
       "<polygon fill=\"white\" stroke=\"none\" points=\"-4,4 -4,-206 1113,-206 1113,4 -4,4\"/>\n",
       "<!-- 1785430149152 -->\n",
       "<g id=\"node1\" class=\"node\">\n",
       "<title>1785430149152</title>\n",
       "<polygon fill=\"none\" stroke=\"black\" points=\"741,-54.5 741,-90.5 859,-90.5 859,-54.5 741,-54.5\"/>\n",
       "<text text-anchor=\"middle\" x=\"752.5\" y=\"-68.8\" font-family=\"Times New Roman,serif\" font-size=\"14.00\">k</text>\n",
       "<polyline fill=\"none\" stroke=\"black\" points=\"764,-54.5 764,-90.5\"/>\n",
       "<text text-anchor=\"middle\" x=\"811.5\" y=\"-68.8\" font-family=\"Times New Roman,serif\" font-size=\"14.00\">data 727.0000</text>\n",
       "</g>\n",
       "<!-- 1785430060816* -->\n",
       "<g id=\"node13\" class=\"node\">\n",
       "<title>1785430060816*</title>\n",
       "<ellipse fill=\"none\" stroke=\"black\" cx=\"922\" cy=\"-99.5\" rx=\"27\" ry=\"18\"/>\n",
       "<text text-anchor=\"middle\" x=\"922\" y=\"-95.8\" font-family=\"Times New Roman,serif\" font-size=\"14.00\">*</text>\n",
       "</g>\n",
       "<!-- 1785430149152&#45;&gt;1785430060816* -->\n",
       "<g id=\"edge8\" class=\"edge\">\n",
       "<title>1785430149152&#45;&gt;1785430060816*</title>\n",
       "<path fill=\"none\" stroke=\"black\" d=\"M858.89,-85.53C867.98,-87.57 877.12,-89.63 885.5,-91.51\"/>\n",
       "<polygon fill=\"black\" stroke=\"black\" points=\"884.48,-95.1 895.01,-93.88 886.02,-88.27 884.48,-95.1\"/>\n",
       "</g>\n",
       "<!-- 1785430149152+ -->\n",
       "<g id=\"node2\" class=\"node\">\n",
       "<title>1785430149152+</title>\n",
       "<ellipse fill=\"none\" stroke=\"black\" cx=\"678\" cy=\"-72.5\" rx=\"27\" ry=\"18\"/>\n",
       "<text text-anchor=\"middle\" x=\"678\" y=\"-68.8\" font-family=\"Times New Roman,serif\" font-size=\"14.00\">+</text>\n",
       "</g>\n",
       "<!-- 1785430149152+&#45;&gt;1785430149152 -->\n",
       "<g id=\"edge1\" class=\"edge\">\n",
       "<title>1785430149152+&#45;&gt;1785430149152</title>\n",
       "<path fill=\"none\" stroke=\"black\" d=\"M705.33,-72.5C712.89,-72.5 721.49,-72.5 730.36,-72.5\"/>\n",
       "<polygon fill=\"black\" stroke=\"black\" points=\"730.24,-76 740.24,-72.5 730.24,-69 730.24,-76\"/>\n",
       "</g>\n",
       "<!-- 1785429281328 -->\n",
       "<g id=\"node3\" class=\"node\">\n",
       "<title>1785429281328</title>\n",
       "<polygon fill=\"none\" stroke=\"black\" points=\"743,-109.5 743,-145.5 857,-145.5 857,-109.5 743,-109.5\"/>\n",
       "<text text-anchor=\"middle\" x=\"759.5\" y=\"-123.8\" font-family=\"Times New Roman,serif\" font-size=\"14.00\">w3</text>\n",
       "<polyline fill=\"none\" stroke=\"black\" points=\"776,-109.5 776,-145.5\"/>\n",
       "<text text-anchor=\"middle\" x=\"816.5\" y=\"-123.8\" font-family=\"Times New Roman,serif\" font-size=\"14.00\">data 2.0000</text>\n",
       "</g>\n",
       "<!-- 1785429281328&#45;&gt;1785430060816* -->\n",
       "<g id=\"edge11\" class=\"edge\">\n",
       "<title>1785429281328&#45;&gt;1785430060816*</title>\n",
       "<path fill=\"none\" stroke=\"black\" d=\"M856.78,-114.48C866.53,-112.21 876.43,-109.9 885.44,-107.8\"/>\n",
       "<polygon fill=\"black\" stroke=\"black\" points=\"885.97,-111.03 894.92,-105.35 884.38,-104.22 885.97,-111.03\"/>\n",
       "</g>\n",
       "<!-- 1785429281856 -->\n",
       "<g id=\"node4\" class=\"node\">\n",
       "<title>1785429281856</title>\n",
       "<polygon fill=\"none\" stroke=\"black\" points=\"497,-82.5 497,-118.5 615,-118.5 615,-82.5 497,-82.5\"/>\n",
       "<text text-anchor=\"middle\" x=\"508.5\" y=\"-96.8\" font-family=\"Times New Roman,serif\" font-size=\"14.00\">n</text>\n",
       "<polyline fill=\"none\" stroke=\"black\" points=\"520,-82.5 520,-118.5\"/>\n",
       "<text text-anchor=\"middle\" x=\"567.5\" y=\"-96.8\" font-family=\"Times New Roman,serif\" font-size=\"14.00\">data 720.0000</text>\n",
       "</g>\n",
       "<!-- 1785429281856&#45;&gt;1785430149152+ -->\n",
       "<g id=\"edge9\" class=\"edge\">\n",
       "<title>1785429281856&#45;&gt;1785430149152+</title>\n",
       "<path fill=\"none\" stroke=\"black\" d=\"M614.89,-86.99C623.98,-84.87 633.12,-82.74 641.5,-80.78\"/>\n",
       "<polygon fill=\"black\" stroke=\"black\" points=\"642.06,-84.01 651.01,-78.33 640.47,-77.2 642.06,-84.01\"/>\n",
       "</g>\n",
       "<!-- 1785429281856+ -->\n",
       "<g id=\"node5\" class=\"node\">\n",
       "<title>1785429281856+</title>\n",
       "<ellipse fill=\"none\" stroke=\"black\" cx=\"434\" cy=\"-100.5\" rx=\"27\" ry=\"18\"/>\n",
       "<text text-anchor=\"middle\" x=\"434\" y=\"-96.8\" font-family=\"Times New Roman,serif\" font-size=\"14.00\">+</text>\n",
       "</g>\n",
       "<!-- 1785429281856+&#45;&gt;1785429281856 -->\n",
       "<g id=\"edge2\" class=\"edge\">\n",
       "<title>1785429281856+&#45;&gt;1785429281856</title>\n",
       "<path fill=\"none\" stroke=\"black\" d=\"M461.33,-100.5C468.89,-100.5 477.49,-100.5 486.36,-100.5\"/>\n",
       "<polygon fill=\"black\" stroke=\"black\" points=\"486.24,-104 496.24,-100.5 486.24,-97 486.24,-104\"/>\n",
       "</g>\n",
       "<!-- 1785429281904 -->\n",
       "<g id=\"node6\" class=\"node\">\n",
       "<title>1785429281904</title>\n",
       "<polygon fill=\"none\" stroke=\"black\" points=\"1.5,-165.5 1.5,-201.5 119.5,-201.5 119.5,-165.5 1.5,-165.5\"/>\n",
       "<text text-anchor=\"middle\" x=\"16.5\" y=\"-179.8\" font-family=\"Times New Roman,serif\" font-size=\"14.00\">x2</text>\n",
       "<polyline fill=\"none\" stroke=\"black\" points=\"31.5,-165.5 31.5,-201.5\"/>\n",
       "<text text-anchor=\"middle\" x=\"75.5\" y=\"-179.8\" font-family=\"Times New Roman,serif\" font-size=\"14.00\">data 24.0000</text>\n",
       "</g>\n",
       "<!-- 1785428735216* -->\n",
       "<g id=\"node11\" class=\"node\">\n",
       "<title>1785428735216*</title>\n",
       "<ellipse fill=\"none\" stroke=\"black\" cx=\"184\" cy=\"-128.5\" rx=\"27\" ry=\"18\"/>\n",
       "<text text-anchor=\"middle\" x=\"184\" y=\"-124.8\" font-family=\"Times New Roman,serif\" font-size=\"14.00\">*</text>\n",
       "</g>\n",
       "<!-- 1785429281904&#45;&gt;1785428735216* -->\n",
       "<g id=\"edge15\" class=\"edge\">\n",
       "<title>1785429281904&#45;&gt;1785428735216*</title>\n",
       "<path fill=\"none\" stroke=\"black\" d=\"M100.95,-165.64C117.32,-158.23 136.05,-149.75 151.48,-142.77\"/>\n",
       "<polygon fill=\"black\" stroke=\"black\" points=\"152.42,-145.73 160.09,-138.42 149.53,-139.36 152.42,-145.73\"/>\n",
       "</g>\n",
       "<!-- 1785429280896 -->\n",
       "<g id=\"node7\" class=\"node\">\n",
       "<title>1785429280896</title>\n",
       "<polygon fill=\"none\" stroke=\"black\" points=\"1.5,-55.5 1.5,-91.5 119.5,-91.5 119.5,-55.5 1.5,-55.5\"/>\n",
       "<text text-anchor=\"middle\" x=\"16.5\" y=\"-69.8\" font-family=\"Times New Roman,serif\" font-size=\"14.00\">x1</text>\n",
       "<polyline fill=\"none\" stroke=\"black\" points=\"31.5,-55.5 31.5,-91.5\"/>\n",
       "<text text-anchor=\"middle\" x=\"75.5\" y=\"-69.8\" font-family=\"Times New Roman,serif\" font-size=\"14.00\">data 60.0000</text>\n",
       "</g>\n",
       "<!-- 1785429281040* -->\n",
       "<g id=\"node15\" class=\"node\">\n",
       "<title>1785429281040*</title>\n",
       "<ellipse fill=\"none\" stroke=\"black\" cx=\"184\" cy=\"-73.5\" rx=\"27\" ry=\"18\"/>\n",
       "<text text-anchor=\"middle\" x=\"184\" y=\"-69.8\" font-family=\"Times New Roman,serif\" font-size=\"14.00\">*</text>\n",
       "</g>\n",
       "<!-- 1785429280896&#45;&gt;1785429281040* -->\n",
       "<g id=\"edge12\" class=\"edge\">\n",
       "<title>1785429280896&#45;&gt;1785429281040*</title>\n",
       "<path fill=\"none\" stroke=\"black\" d=\"M119.4,-73.5C128.4,-73.5 137.47,-73.5 145.84,-73.5\"/>\n",
       "<polygon fill=\"black\" stroke=\"black\" points=\"145.74,-77 155.74,-73.5 145.74,-70 145.74,-77\"/>\n",
       "</g>\n",
       "<!-- 1785429281952 -->\n",
       "<g id=\"node8\" class=\"node\">\n",
       "<title>1785429281952</title>\n",
       "<polygon fill=\"none\" stroke=\"black\" points=\"503.5,-27.5 503.5,-63.5 608.5,-63.5 608.5,-27.5 503.5,-27.5\"/>\n",
       "<text text-anchor=\"middle\" x=\"515.5\" y=\"-41.8\" font-family=\"Times New Roman,serif\" font-size=\"14.00\">b</text>\n",
       "<polyline fill=\"none\" stroke=\"black\" points=\"527.5,-27.5 527.5,-63.5\"/>\n",
       "<text text-anchor=\"middle\" x=\"568\" y=\"-41.8\" font-family=\"Times New Roman,serif\" font-size=\"14.00\">data 7.0000</text>\n",
       "</g>\n",
       "<!-- 1785429281952&#45;&gt;1785430149152+ -->\n",
       "<g id=\"edge6\" class=\"edge\">\n",
       "<title>1785429281952&#45;&gt;1785430149152+</title>\n",
       "<path fill=\"none\" stroke=\"black\" d=\"M608.24,-57.03C619.37,-59.53 630.92,-62.13 641.3,-64.47\"/>\n",
       "<polygon fill=\"black\" stroke=\"black\" points=\"640.5,-68.1 651.03,-66.88 642.04,-61.27 640.5,-68.1\"/>\n",
       "</g>\n",
       "<!-- 1785429280992 -->\n",
       "<g id=\"node9\" class=\"node\">\n",
       "<title>1785429280992</title>\n",
       "<polygon fill=\"none\" stroke=\"black\" points=\"3.5,-110.5 3.5,-146.5 117.5,-146.5 117.5,-110.5 3.5,-110.5\"/>\n",
       "<text text-anchor=\"middle\" x=\"20\" y=\"-124.8\" font-family=\"Times New Roman,serif\" font-size=\"14.00\">w2</text>\n",
       "<polyline fill=\"none\" stroke=\"black\" points=\"36.5,-110.5 36.5,-146.5\"/>\n",
       "<text text-anchor=\"middle\" x=\"77\" y=\"-124.8\" font-family=\"Times New Roman,serif\" font-size=\"14.00\">data 5.0000</text>\n",
       "</g>\n",
       "<!-- 1785429280992&#45;&gt;1785428735216* -->\n",
       "<g id=\"edge13\" class=\"edge\">\n",
       "<title>1785429280992&#45;&gt;1785428735216*</title>\n",
       "<path fill=\"none\" stroke=\"black\" d=\"M117.27,-128.5C126.92,-128.5 136.74,-128.5 145.74,-128.5\"/>\n",
       "<polygon fill=\"black\" stroke=\"black\" points=\"145.64,-132 155.64,-128.5 145.64,-125 145.64,-132\"/>\n",
       "</g>\n",
       "<!-- 1785428735216 -->\n",
       "<g id=\"node10\" class=\"node\">\n",
       "<title>1785428735216</title>\n",
       "<polygon fill=\"none\" stroke=\"black\" points=\"247,-110.5 247,-146.5 371,-146.5 371,-110.5 247,-110.5\"/>\n",
       "<text text-anchor=\"middle\" x=\"261.5\" y=\"-124.8\" font-family=\"Times New Roman,serif\" font-size=\"14.00\">s2</text>\n",
       "<polyline fill=\"none\" stroke=\"black\" points=\"276,-110.5 276,-146.5\"/>\n",
       "<text text-anchor=\"middle\" x=\"323.5\" y=\"-124.8\" font-family=\"Times New Roman,serif\" font-size=\"14.00\">data 120.0000</text>\n",
       "</g>\n",
       "<!-- 1785428735216&#45;&gt;1785429281856+ -->\n",
       "<g id=\"edge10\" class=\"edge\">\n",
       "<title>1785428735216&#45;&gt;1785429281856+</title>\n",
       "<path fill=\"none\" stroke=\"black\" d=\"M370.78,-114.66C379.95,-112.58 389.15,-110.48 397.55,-108.57\"/>\n",
       "<polygon fill=\"black\" stroke=\"black\" points=\"398.09,-111.81 407.07,-106.18 396.54,-104.98 398.09,-111.81\"/>\n",
       "</g>\n",
       "<!-- 1785428735216*&#45;&gt;1785428735216 -->\n",
       "<g id=\"edge3\" class=\"edge\">\n",
       "<title>1785428735216*&#45;&gt;1785428735216</title>\n",
       "<path fill=\"none\" stroke=\"black\" d=\"M211.39,-128.5C218.86,-128.5 227.38,-128.5 236.19,-128.5\"/>\n",
       "<polygon fill=\"black\" stroke=\"black\" points=\"236.03,-132 246.03,-128.5 236.03,-125 236.03,-132\"/>\n",
       "</g>\n",
       "<!-- 1785430060816 -->\n",
       "<g id=\"node12\" class=\"node\">\n",
       "<title>1785430060816</title>\n",
       "<polygon fill=\"none\" stroke=\"black\" points=\"985,-81.5 985,-117.5 1109,-117.5 1109,-81.5 985,-81.5\"/>\n",
       "<text text-anchor=\"middle\" x=\"996.5\" y=\"-95.8\" font-family=\"Times New Roman,serif\" font-size=\"14.00\">y</text>\n",
       "<polyline fill=\"none\" stroke=\"black\" points=\"1008,-81.5 1008,-117.5\"/>\n",
       "<text text-anchor=\"middle\" x=\"1058.5\" y=\"-95.8\" font-family=\"Times New Roman,serif\" font-size=\"14.00\">data 1454.0000</text>\n",
       "</g>\n",
       "<!-- 1785430060816*&#45;&gt;1785430060816 -->\n",
       "<g id=\"edge4\" class=\"edge\">\n",
       "<title>1785430060816*&#45;&gt;1785430060816</title>\n",
       "<path fill=\"none\" stroke=\"black\" d=\"M949.39,-99.5C956.86,-99.5 965.38,-99.5 974.19,-99.5\"/>\n",
       "<polygon fill=\"black\" stroke=\"black\" points=\"974.03,-103 984.03,-99.5 974.03,-96 974.03,-103\"/>\n",
       "</g>\n",
       "<!-- 1785429281040 -->\n",
       "<g id=\"node14\" class=\"node\">\n",
       "<title>1785429281040</title>\n",
       "<polygon fill=\"none\" stroke=\"black\" points=\"247,-55.5 247,-91.5 371,-91.5 371,-55.5 247,-55.5\"/>\n",
       "<text text-anchor=\"middle\" x=\"261.5\" y=\"-69.8\" font-family=\"Times New Roman,serif\" font-size=\"14.00\">s1</text>\n",
       "<polyline fill=\"none\" stroke=\"black\" points=\"276,-55.5 276,-91.5\"/>\n",
       "<text text-anchor=\"middle\" x=\"323.5\" y=\"-69.8\" font-family=\"Times New Roman,serif\" font-size=\"14.00\">data 600.0000</text>\n",
       "</g>\n",
       "<!-- 1785429281040&#45;&gt;1785429281856+ -->\n",
       "<g id=\"edge7\" class=\"edge\">\n",
       "<title>1785429281040&#45;&gt;1785429281856+</title>\n",
       "<path fill=\"none\" stroke=\"black\" d=\"M370.78,-86.84C379.77,-88.81 388.78,-90.79 397.04,-92.61\"/>\n",
       "<polygon fill=\"black\" stroke=\"black\" points=\"396.25,-96.24 406.77,-94.96 397.75,-89.4 396.25,-96.24\"/>\n",
       "</g>\n",
       "<!-- 1785429281040*&#45;&gt;1785429281040 -->\n",
       "<g id=\"edge5\" class=\"edge\">\n",
       "<title>1785429281040*&#45;&gt;1785429281040</title>\n",
       "<path fill=\"none\" stroke=\"black\" d=\"M211.39,-73.5C218.86,-73.5 227.38,-73.5 236.19,-73.5\"/>\n",
       "<polygon fill=\"black\" stroke=\"black\" points=\"236.03,-77 246.03,-73.5 236.03,-70 236.03,-77\"/>\n",
       "</g>\n",
       "<!-- 1785429282144 -->\n",
       "<g id=\"node16\" class=\"node\">\n",
       "<title>1785429282144</title>\n",
       "<polygon fill=\"none\" stroke=\"black\" points=\"0,-0.5 0,-36.5 121,-36.5 121,-0.5 0,-0.5\"/>\n",
       "<text text-anchor=\"middle\" x=\"16.5\" y=\"-14.8\" font-family=\"Times New Roman,serif\" font-size=\"14.00\">w1</text>\n",
       "<polyline fill=\"none\" stroke=\"black\" points=\"33,-0.5 33,-36.5\"/>\n",
       "<text text-anchor=\"middle\" x=\"77\" y=\"-14.8\" font-family=\"Times New Roman,serif\" font-size=\"14.00\">data 10.0000</text>\n",
       "</g>\n",
       "<!-- 1785429282144&#45;&gt;1785429281040* -->\n",
       "<g id=\"edge14\" class=\"edge\">\n",
       "<title>1785429282144&#45;&gt;1785429281040*</title>\n",
       "<path fill=\"none\" stroke=\"black\" d=\"M100.95,-36.36C117.32,-43.77 136.05,-52.25 151.48,-59.23\"/>\n",
       "<polygon fill=\"black\" stroke=\"black\" points=\"149.53,-62.64 160.09,-63.58 152.42,-56.27 149.53,-62.64\"/>\n",
       "</g>\n",
       "</g>\n",
       "</svg>\n"
      ],
      "text/plain": [
       "<graphviz.graphs.Digraph at 0x19fb3eca9a0>"
      ]
     },
     "execution_count": 17,
     "metadata": {},
     "output_type": "execute_result"
    }
   ],
   "source": [
    "x1 = Valor(60, rotulo=\"x1\")\n",
    "x2 = Valor(24, rotulo=\"x2\")\n",
    "w1 = Valor(10, rotulo=\"w1\")\n",
    "w2 = Valor(5, rotulo=\"w2\")\n",
    "w3 = Valor(2, rotulo=\"w3\")\n",
    "b = Valor(7, rotulo=\"b\")\n",
    "\n",
    "s1 = x1 * w1\n",
    "s1.rotulo = \"s1\"\n",
    "\n",
    "s2 = x2 * w2\n",
    "s2.rotulo = \"s2\"\n",
    "\n",
    "n = s1 + s2\n",
    "n.rotulo = \"n\"\n",
    "\n",
    "k = n + b\n",
    "k.rotulo = \"k\"\n",
    "\n",
    "y = k * w3\n",
    "y.rotulo = \"y\"\n",
    "\n",
    "plota_grafo(y)"
   ]
  },
  {
   "cell_type": "markdown",
   "metadata": {},
   "source": [
    "## Conclusão\n",
    "\n"
   ]
  },
  {
   "cell_type": "markdown",
   "metadata": {},
   "source": [
    "<p style='text-align: justify'>Neste experimento, pudemos cumprir, felizmente, o objetivo de construir um grafo automaticamente.</p>\n",
    "<p style='text-align: justify'>Comentando sobre a parte técnica, isso foi possível com a instalação de um software (<a href=\"https://graphviz.org/\">graphviz</a>) e pela utilização de um site <a href=\"https://dreampuf.github.io/GraphvizOnline/\">https://dreampuf.github.io/GraphvizOnline/</a> que também permite a visualização de grafos.</p>\n",
    "<p style='text-align: justify'>Agora, quanto a parte conceitual, foi importante que: pudemos aprender a necessidade de definirmos as operações dentro das classes (para o python entender como trabalhar com objetos daquela espécie) e como fazemos isso; pudemos ter o conhecimento de como registrar, em python, os progenitores e operadores mãe; além de rotulagem dos vértices (o que facilita muito o entendimento e organização); e como plotar usando o software ou o site.</p>\n",
    "<p style='text-align: justify'>De posse de tudo isso, agora estamos mais do que bem equipados para prosseguirmos no conteúdo e podermos plotar grafos também para problemas como o do caixeiro viajante e dentre outras operações matemáticas.</p>"
   ]
  },
  {
   "cell_type": "markdown",
   "metadata": {},
   "source": [
    "## Playground\n",
    "\n"
   ]
  },
  {
   "cell_type": "code",
   "execution_count": 18,
   "metadata": {},
   "outputs": [],
   "source": [
    "try:\n",
    "    import graphviz\n",
    "except ModuleNotFoundError:\n",
    "    import sys\n",
    "    !{sys.executable} -m pip install graphviz"
   ]
  },
  {
   "cell_type": "code",
   "execution_count": 19,
   "metadata": {},
   "outputs": [],
   "source": [
    "class Valor_teste:\n",
    "    def __init__(self, data):\n",
    "        self.data = data\n",
    "\n",
    "    def __repr__(self):\n",
    "        return f\"Valor(data={self.data})\"\n",
    "\n",
    "    def __add__(self, outro_valor):\n",
    "        saida = Valor(self.data + 2*outro_valor.data)\n",
    "        return saida\n",
    "\n",
    "    def __mul__(self, outro_valor):\n",
    "        saida = Valor(self.data * outro_valor.data + self.data)\n",
    "        return saida"
   ]
  },
  {
   "cell_type": "code",
   "execution_count": 20,
   "metadata": {},
   "outputs": [
    {
     "name": "stdout",
     "output_type": "stream",
     "text": [
      "Valor(data=20)\n",
      "Valor(data=60)\n"
     ]
    }
   ],
   "source": [
    "at = Valor_teste(10)\n",
    "bt = Valor_teste(5)\n",
    "\n",
    "print(at + bt)\n",
    "print(at * bt)"
   ]
  },
  {
   "cell_type": "code",
   "execution_count": null,
   "metadata": {},
   "outputs": [],
   "source": []
  }
 ],
 "metadata": {
  "kernelspec": {
   "display_name": "ilumpy",
   "language": "python",
   "name": "ilumpy"
  },
  "language_info": {
   "codemirror_mode": {
    "name": "ipython",
    "version": 3
   },
   "file_extension": ".py",
   "mimetype": "text/x-python",
   "name": "python",
   "nbconvert_exporter": "python",
   "pygments_lexer": "ipython3",
   "version": "3.9.7"
  },
  "org": null
 },
 "nbformat": 4,
 "nbformat_minor": 4
}
