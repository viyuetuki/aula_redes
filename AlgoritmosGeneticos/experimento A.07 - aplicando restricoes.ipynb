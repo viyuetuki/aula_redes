{
 "cells": [
  {
   "cell_type": "markdown",
   "metadata": {},
   "source": [
    "Aplicando restrições na busca\n",
    "=============================\n",
    "\n"
   ]
  },
  {
   "cell_type": "markdown",
   "metadata": {},
   "source": [
    "## Introdução\n",
    "\n"
   ]
  },
  {
   "cell_type": "markdown",
   "metadata": {},
   "source": [
    "Muitos problemas de otimização com relevância científica têm uma ou mais `restrições` que devem ser levadas em consideração na hora de resolver o problema.\n",
    "\n",
    "Lembra do `problema da mochila` que vimos em Lógica Computacional? Era um problema de otimização onde queríamos maximizar o valor dos itens colocados na mochila enquanto observávamos a restrição do peso total dos itens (do contrário, a mochila rasgava).\n",
    "\n",
    "Uma forma de considerar essas restrições nos problemas é aplicando uma `penalidade` na função objetivo.\n",
    "\n",
    "Vamos pensar como seria essa penalidade no problema da mochila: a função objetivo é maximizar o valor dos itens na mochila, então é um problema de maximização. A função objetivo pode ser a soma dos itens da mochila. Se fosse só isso, teríamos\n",
    "\n",
    "$$\n",
    "f = \\sum_{i, i \\in \\mathrm{mochila}}\\mathrm{valor}(i)\n",
    "$$\n",
    "\n",
    "No entanto, apenas essa função não resolve o problema! Precisamos levar em consideração o limite de peso da mochila! Para isso, penalizamos a função objetivo levando em consideração essa restrição:\n",
    "\n",
    "$f=\\begin{cases}\n",
    "0.01 & \\textrm{se peso > limite da mochila}\\\\\n",
    "\\sum_{i,i\\in\\mathrm{mochila}}(\\mathrm{valor}(i)) & \\textrm{se peso} \\leq \\textrm{limite da mochila}\n",
    "\\end{cases}$\n",
    "\n",
    "Agora finalmente podemos seguir em frente e resolver o problema.\n",
    "\n"
   ]
  },
  {
   "cell_type": "markdown",
   "metadata": {},
   "source": [
    "## Reflexões\n",
    "\n"
   ]
  },
  {
   "cell_type": "markdown",
   "metadata": {},
   "source": [
    "Se usarmos a equação de $f$ acima, qual será o valor de $f$ caso não exista uma solução para um certo problema da mochila?\n",
    "\n",
    "Na equação de $f$ acima nós usamos o valor 0.01 para indicar que uma restrição do problema não foi satisfeita. Você consegue pensar em outra estratégia para penalizar soluções inválidas?\n",
    "\n"
   ]
  },
  {
   "cell_type": "markdown",
   "metadata": {},
   "source": [
    "## Objetivo\n",
    "\n"
   ]
  },
  {
   "cell_type": "markdown",
   "metadata": {},
   "source": [
    "Encontrar uma solução para o problema da mochila usando algoritmos genéticos. Considere que existem 10 itens diferentes (com pesos e valores diferentes) disponíveis para serem escolhidos.\n",
    "\n"
   ]
  },
  {
   "cell_type": "markdown",
   "metadata": {},
   "source": [
    "## Descrição do problema\n",
    "\n"
   ]
  },
  {
   "cell_type": "markdown",
   "metadata": {},
   "source": [
    "No problema da mochila você tem um número $n$ de itens disponíveis, cada um com um peso e um valor associado. Sua mochila tem a capacidade de carregar um número $p$ de quilogramas, sendo que mais que isso faz com que sua mochila rasgue e todos os itens dentro dela caiam no chão e se quebrem de maneira catastrófica (indesejado). Sua tarefa é encontrar um conjunto de itens (considerando os $n$ disponíveis) que maximize o valor contido dentro da mochila, porém que tenham um peso dentro da capacidade da mesma.\n",
    "\n"
   ]
  },
  {
   "cell_type": "markdown",
   "metadata": {},
   "source": [
    "## Importações\n",
    "\n"
   ]
  },
  {
   "cell_type": "markdown",
   "metadata": {},
   "source": [
    "<p style='text-align: justify'>\n",
    "<ul>\n",
    "    <li> Importando 'random' e algumas funções criadas, do arquivo 'funcoes.py', a serem usadas no algoritmo e as renomeando de maneira \"auto-explicativa\":</li>\n",
    "</ul></p>"
   ]
  },
  {
   "cell_type": "code",
   "execution_count": 1,
   "metadata": {},
   "outputs": [],
   "source": [
    "import random\n",
    "\n",
    "from funcoes import computa_mochila\n",
    "from funcoes import funcao_objetivo_pop_mochila\n",
    "from funcoes import populacao_cb as cria_populacao_inicial\n",
    "from funcoes import selecao_roleta_max as funcao_selecao\n",
    "from funcoes import cruzamento_ponto_simples as funcao_cruzamento\n",
    "from funcoes import mutacao_cb as funcao_mutacao"
   ]
  },
  {
   "cell_type": "markdown",
   "metadata": {},
   "source": [
    "## Códigos e discussão\n",
    "\n"
   ]
  },
  {
   "cell_type": "markdown",
   "metadata": {},
   "source": [
    "<p style='text-align: justify'>\n",
    "<ul>\n",
    "    <li>Definindo as constantes, sendo elas: relacionadas à busca, que, se mudadas, alteram a eficácia do algoritmo; e relacionadas ao problema a ser resolvido, que, caso alteradas, mudam o problema em questão que se está resolvendo:</li>\n",
    "</ul></p>"
   ]
  },
  {
   "cell_type": "code",
   "execution_count": 2,
   "metadata": {},
   "outputs": [],
   "source": [
    "### CONSTANTES\n",
    "\n",
    "# relacionadas à busca\n",
    "TAMANHO_POP = 20\n",
    "NUM_GERACOES = 100\n",
    "CHANCE_CRUZAMENTO = 0.5\n",
    "CHANCE_MUTACAO = 0.05\n",
    "\n",
    "# relacionadas ao problema a ser resolvido\n",
    "LIMITE_DE_PESO = 15 # unidades de massa\n",
    "OBJETOS = {\n",
    "    # dicionário baseado no que enviamos na aula de Lógica, representando a mochila\n",
    "\n",
    "    \"Vinil falsificado da volta do One Direction\": {\n",
    "        \"peso\": 2,\n",
    "        \"valor\": 2500,\n",
    "    },\n",
    "    \"Harry Potter: ele voltou, confia!\": {\n",
    "        \"peso\": 3,\n",
    "        \"valor\": 1500,\n",
    "    },\n",
    "    \"Quadrinho super raro do Aranha-Homem da vida real\": {\n",
    "        \"peso\": 3,\n",
    "        \"valor\": 7000,\n",
    "    },\n",
    "    \"Mesa dobrável para laptop\": {\n",
    "        \"peso\": 3,\n",
    "        \"valor\": 150,\n",
    "    },\n",
    "    \"Tablet\": {\n",
    "        \"peso\": 0.6,\n",
    "        \"valor\": 2400,\n",
    "    },\n",
    "    \"Teclado musical\": {\n",
    "        \"peso\": 3.5,\n",
    "        \"valor\": 3000,\n",
    "    },\n",
    "    \"Bicicleta\": {\n",
    "        \"peso\": 16,\n",
    "        \"valor\": 1000,\n",
    "    },\n",
    "    \"Lições em dia\": {\n",
    "        \"peso\": 8,\n",
    "        \"valor\": 5000,\n",
    "    },\n",
    "    \"Energético\": {\n",
    "        \"peso\": 2,\n",
    "        \"valor\": 1500,\n",
    "    },\n",
    "    \"Docinhos para o stress\": {\n",
    "        \"peso\": 5,\n",
    "        \"valor\": 3000,\n",
    "    },\n",
    "}\n",
    "NUM_OBJETOS = len(OBJETOS)\n",
    "ORDEM_DOS_NOMES = list(sorted(OBJETOS.keys())) # cria uma lista com os nomes das chaves ordenados em ordem \n",
    "                                               # alfabética"
   ]
  },
  {
   "cell_type": "markdown",
   "metadata": {},
   "source": [
    "<p style='text-align: justify'>\n",
    "<ul>\n",
    "    <li> Definindo as funções locais, as quais utilizam de alguns valores padrões definidos neste notebook:</li>\n",
    "</ul></p>"
   ]
  },
  {
   "cell_type": "code",
   "execution_count": 3,
   "metadata": {},
   "outputs": [],
   "source": [
    "# Funções locais\n",
    "\n",
    "def funcao_objetivo_pop(populacao):\n",
    "    return funcao_objetivo_pop_mochila(\n",
    "        populacao, OBJETOS, LIMITE_DE_PESO, ORDEM_DOS_NOMES\n",
    "    )"
   ]
  },
  {
   "cell_type": "markdown",
   "metadata": {},
   "source": [
    "<p style='text-align: justify'>\n",
    "<ul>\n",
    "    <li> Código contendo a lógica para a resolução do problema:</li>\n",
    "</ul></p>"
   ]
  },
  {
   "cell_type": "code",
   "execution_count": 4,
   "metadata": {},
   "outputs": [
    {
     "name": "stdout",
     "output_type": "stream",
     "text": [
      "Maior valor: 13500 | Peso: 13\n",
      "Maior valor: 16000 | Peso: 15\n",
      "\n",
      "Você deve pegar os seguintes itens:\n",
      "+ Energético\n",
      "+ Lições em dia\n",
      "+ Quadrinho super raro do Aranha-Homem da vida real\n",
      "+ Vinil falsificado da volta do One Direction\n",
      "\n",
      "Com isso, sua mochila terá o valor de 16000 dinheiros e peso de 15 unidades de massa.\n"
     ]
    }
   ],
   "source": [
    "# Busca por algoritmo genético\n",
    "\n",
    "populacao = cria_populacao_inicial(TAMANHO_POP, NUM_OBJETOS)\n",
    "\n",
    "# variaveis para o hall da fama\n",
    "melhor_fitness_ja_visto = -float(\"inf\") # determinando o melhor fitness, a priori, como menos infinito, \n",
    "                                        # visto que, apesar da restrição, se trata de maximização\n",
    "melhor_individuo_ja_visto = [0] * NUM_OBJETOS # repete o número NUM_OBJETO vezes na lista sendo criada\n",
    "\n",
    "for n in range(NUM_GERACOES):\n",
    "\n",
    "    # Seleção\n",
    "    fitness = funcao_objetivo_pop(populacao)\n",
    "    populacao = funcao_selecao(populacao, fitness)\n",
    "\n",
    "    # Cruzamento\n",
    "    pais = populacao[0::2]\n",
    "    maes = populacao[1::2]\n",
    "\n",
    "    contador = 0\n",
    "\n",
    "    for pai, mae in zip(pais, maes):\n",
    "        if random.random() <= CHANCE_CRUZAMENTO:\n",
    "            filho1, filho2 = funcao_cruzamento(pai, mae)\n",
    "            populacao[contador] = filho1\n",
    "            populacao[contador + 1] = filho2\n",
    "\n",
    "        contador = contador + 2\n",
    "\n",
    "    # Mutação\n",
    "    for n in range(len(populacao)):\n",
    "        if random.random() <= CHANCE_MUTACAO:\n",
    "            individuo = populacao[n]\n",
    "            populacao[n] = funcao_mutacao(individuo)\n",
    "\n",
    "    # melhor individuo já visto até agora (hall da fama)\n",
    "    fitness = funcao_objetivo_pop(populacao)\n",
    "    maior_fitness = max(fitness)\n",
    "    posicao = fitness.index(maior_fitness)\n",
    "    individuo = populacao[posicao].copy() # copy() é utilizada para não ter o perigo de alterar o elemento\n",
    "                                          # original em população também\n",
    "    valor, peso = computa_mochila(individuo, OBJETOS, ORDEM_DOS_NOMES)\n",
    "    if maior_fitness > melhor_fitness_ja_visto and peso <= LIMITE_DE_PESO: # entra no hall da fama só \n",
    "                                                                           # quem cumpre com os dois\n",
    "                                                                           # pré-requisitos\n",
    "        melhor_fitness_ja_visto = maior_fitness\n",
    "        melhor_individuo_ja_visto = individuo\n",
    "        print(f\"Maior valor: {valor} | Peso: {peso}\")\n",
    "\n",
    "\n",
    "# reportando o melhor indivíduo encontrado\n",
    "print()\n",
    "print(\"Você deve pegar os seguintes itens:\")\n",
    "for pega_ou_nao, item in zip(melhor_individuo_ja_visto, ORDEM_DOS_NOMES): # para cada dupla, 1 ou 0 e item:\n",
    "    if pega_ou_nao == 1: # caso o gene indique 1\n",
    "        print(\"+\", item) # printa que o item correspondente deve ser pego\n",
    "print()\n",
    "valor_total, peso_total = computa_mochila(\n",
    "    melhor_individuo_ja_visto, OBJETOS, ORDEM_DOS_NOMES\n",
    ") # calcula e armazena, por fim, o valor e peso total da melhor opção de mochila que atende aos pedidos\n",
    "print(\n",
    "    f\"Com isso, sua mochila terá o valor de {valor_total} dinheiros \"\n",
    "    f\"e peso de {peso_total} unidades de massa.\"\n",
    ") # printa este resultado"
   ]
  },
  {
   "cell_type": "markdown",
   "metadata": {},
   "source": [
    "**Desafio**: resolva o experimento considerando uma busca em grade para encontrar a melhor resposta."
   ]
  },
  {
   "cell_type": "markdown",
   "metadata": {},
   "source": [
    "Tentarei resolver depois! Bem como minhas sugestões abaixo."
   ]
  },
  {
   "cell_type": "markdown",
   "metadata": {
    "tags": []
   },
   "source": [
    "## Conclusão\n",
    "\n",
    "<p style='text-align: justify'> Com este algoritmo, foi possível encontrarmos solução para o problema da mochila. Relembrando, ele consiste em termos uma gama de objetos (10), com seus respectivos pesos e valores, disponíveis para escolhermos e devemos colocá-los na mochila de forma a maximizar o valor recolhido, porém tendo a restrição de não passar o peso máximo estabelecido (15 unidades de massa), caso contrário, a mochila rasga. Para que isso fosse possível, foram reutilizadas as funções: populacao_cb, selecao_roleta_max, cruzamento_ponto_simples e mutacao_cb. E foram adicionadas mais algumas funções: computa_mochila e funcao_objetivo_pop_mochila. Isso possibilitou a resolução, pois, após se ter cada nova população: o fitness para esse caso da mochila era calculado (ou sendo a soma dos valores de tudo que nela se encontra ou a penalidade aplicada) para toda a população; encotrava-se o maior valor dessa lista de fitness formada; era pego seu index/posição correspondente; ele era aplicado para pegar o respectivo indivíduo da população e armazenado em 'individuo' como cópia, para não apresentar problema de acabar sendo mudado na lista original da população; em seguida, calculava-se e armazenava-se o valor e o peso da mochila para esse indivíduo (associa a lista indivíduo que diz, por meio de 0 e 1, o que não se deve e o que se deve pegar, respectivamente, com o dicionário contendo as informações dos objetos e uma lista feita a partir dele com a ordem - no caso, alfabética - que devem ser analisados); caso esse maior fitnesse encontrado para a população em análise da vez fosse maior que outro visto anteriormente e o peso não excede o limite imposto, eles se tornavam o melhor fitness e o melhor indivíduo. Após repetir para todas as populações que o número de gerações permitia, e nos mostrar o resultado a cada nova melhor opção encontrada, o resultado final nos é mostrado, relacionando, novamente os genes 1 e 0 com a lista ordenada dos itens. </p>\n",
    "\n",
    "<p style='text-align: justify'> Rodando diversas vezes, vemos que esse algoritmo se caracteriza como <b>probabilístico</b>, já que apresenta novos resultados a cada vez. Outro ponto interessante sobre isso é que este, assim como o problema anterior, também é do tipo NP difícil, logo, não há um algoritmo de total eficácia, a não ser que se testem todas as possibilidades</p>\n",
    "\n",
    "<p style='text-align: justify'> Pensando no uso da equação f (que é uma função por partes, já que apresenta dois resultados diferentes dependendo de condições), caso não exista uma solução para um certo problema da mochila, por exemplo, se todos os itens excedam, por si só, o peso limite, ela sempre assumirá falor 0.01 e a solução vai ser não pegar nada, para esse exemplo.</p>\n",
    "\n",
    "<p style='text-align: justify'> Ainda se tratando dessa função, ela confere a propriedade de penalizar, atribuindo o valor 0.01, o que não se cumpre com a restrição imposta pelo problema. Pensando em outras estratégias para penalisar soluções inválidas, acredito que seria interessante tentar eliminar tais indivíduos de solução inválida/indesejada e, por conseguinte, a criação de novos substituintes ou, então, algum tipo de operador que transforma os inválidos em válidos, como se fosse um mecanismo de revisão e reparo de DNA na biologia. Testes como esses vão ser anotados aqui para tentativa de implementação futura!</p>\n",
    "\n",
    "<p style='text-align: justify'> Ademais, trazendo à tona as aulas de Lógica tidas, havia o problema da mochila considerando que se pode pegar diferentes porcentagens da quantidade disponível dos objetos para se completar e maximixar o problema da mochila, sendo os pesoas dados em relação a cada unidade da quantidade dos itens à disposição. Tentei iniciar a resolução de um problema desse tipo aqui, mas ainda não consegui terminar de implementar... em breve atualizo com a resolução! Mas minha estratégia seria alterar o modo como o indivíduo é computado, então, além de apenas se ter uma lista de 0 (não pega) e 1 (pega), deveria ser feita uma lista com números que poderiam variar de modo a indicar a porcentagem a ser pega e para poder se calcular, então, o valor respectivo a quantidade e o peso. A priori, conversando com o Daniel, pensamos que os genes poderiam variar com valores no intervalo [0, 1] (como 0.2, 0.5, 0.4, 0.85, 0.98), mas, pensando em seguida, daria pra aproveitar o que foi feito para o <a href=\"https://github.com/viyuetuki/aula_redes/blob/main/AlgoritmosGeneticos/experimento%20A.04%20-%20caixas%20nao-binarias.ipynb\">problema das caixas não-binárias</a>, em que os genes variam e em um intervalo de 0 a 100.</p>"
   ]
  },
  {
   "cell_type": "markdown",
   "metadata": {
    "tags": []
   },
   "source": [
    "## Playground\n",
    "\n"
   ]
  },
  {
   "cell_type": "markdown",
   "metadata": {
    "tags": []
   },
   "source": [
    "### Desafio - problema da mochila considerando porcentagens de cada item"
   ]
  },
  {
   "cell_type": "markdown",
   "metadata": {},
   "source": [
    "<i>Ainda tá bem incompleta a resolução... apenas estava importando as funções que pensei em usar para este notebook.</i>"
   ]
  },
  {
   "cell_type": "markdown",
   "metadata": {},
   "source": [
    "## Importações"
   ]
  },
  {
   "cell_type": "code",
   "execution_count": 5,
   "metadata": {},
   "outputs": [],
   "source": [
    "from funcoes import populacao_cnb\n",
    "from funcoes import funcao_objetivo_pop_cnb as funcao_objetivo_pop\n",
    "from funcoes import selecao_roleta_max as funcao_selecao\n",
    "from funcoes import cruzamento_ponto_simples as funcao_cruzamento\n",
    "from funcoes import mutacao_cnb"
   ]
  },
  {
   "cell_type": "markdown",
   "metadata": {},
   "source": [
    "## Código e Discussão"
   ]
  },
  {
   "cell_type": "code",
   "execution_count": 6,
   "metadata": {},
   "outputs": [],
   "source": [
    "### CONSTANTES\n",
    "\n",
    "# relacionadas à busca\n",
    "TAMANHO_POP = 20\n",
    "NUM_GERACOES = 100\n",
    "CHANCE_CRUZAMENTO = 0.5\n",
    "CHANCE_MUTACAO = 0.05\n",
    "\n",
    "# relacionadas ao problema a ser resolvido\n",
    "LIMITE_DE_PESO = 15 # unidades de massa\n",
    "OBJETOS = {\n",
    "\n",
    "    \"Diamante\": {\n",
    "        \"peso disponível [Kg]\": 2,\n",
    "        \"valor/Kg\": 25000,\n",
    "    },\n",
    "    \"Ouro\": {\n",
    "        \"peso disponível [Kg]\": 3,\n",
    "        \"valor/Kg\": 15000,\n",
    "    },\n",
    "    \"Granito\": {\n",
    "        \"peso disponível [Kg]\": 10,\n",
    "        \"valor/Kg\": 7000,\n",
    "    },\n",
    "    \"Prata\": {\n",
    "        \"peso disponível [Kg]\": 4,\n",
    "        \"valor/Kg\": 1500,\n",
    "    },\n",
    "    \"Esmeralda\": {\n",
    "        \"peso disponível [Kg]\": 6,\n",
    "        \"valor/Kg\": 2400,\n",
    "    },\n",
    "}\n",
    "NUM_OBJETOS = len(OBJETOS)\n",
    "ORDEM_DOS_NOMES = list(sorted(OBJETOS.keys())) #cria uma lista com os nomes das chaves ordenados em ordem alfabética"
   ]
  },
  {
   "cell_type": "code",
   "execution_count": 7,
   "metadata": {},
   "outputs": [],
   "source": [
    "# funções locais\n",
    "\n",
    "def cria_populacao_inicial(tamanho, numero_genes):\n",
    "    return populacao_cnb(tamanho, numero_genes, VALOR_MAX_CAIXA)\n",
    "\n",
    "def funcao_mutacao(individuo):\n",
    "    return mutacao_cnb(individuo, VALOR_MAX_CAIXA)\n",
    "\n",
    "def funcao_objetivo_pop(populacao):\n",
    "    return funcao_objetivo_pop_mochila(\n",
    "        populacao, OBJETOS, LIMITE_DE_PESO, ORDEM_DOS_NOMES\n",
    "    )"
   ]
  },
  {
   "cell_type": "code",
   "execution_count": 8,
   "metadata": {},
   "outputs": [],
   "source": [
    "# Busca por algoritmo genético\n",
    "\n",
    "#populacao = cria_populacao_inicial(TAMANHO_POP, NUM_OBJETOS)\n",
    "\n",
    "# variaveis para o hall da fama\n",
    "#melhor_fitness_ja_visto = -float(\"inf\")\n",
    "#melhor_individuo_ja_visto = [0] * NUM_OBJETOS # repete o número NUM_OBJETO vezes na lista sendo criada\n",
    "\n",
    "#for n in range(NUM_GERACOES):\n",
    "\n",
    "    # Seleção\n",
    "#    fitness = funcao_objetivo_pop(populacao)\n",
    "#    populacao = funcao_selecao(populacao, fitness)\n",
    "\n",
    "    # Cruzamento\n",
    "#    pais = populacao[0::2]\n",
    "#    maes = populacao[1::2]\n",
    "\n",
    "#    contador = 0\n",
    "\n",
    "#    for pai, mae in zip(pais, maes):\n",
    "#        if random.random() <= CHANCE_CRUZAMENTO:\n",
    "#            filho1, filho2 = funcao_cruzamento(pai, mae)\n",
    "#            populacao[contador] = filho1\n",
    "#            populacao[contador + 1] = filho2\n",
    "\n",
    "#        contador = contador + 2\n",
    "\n",
    "    # Mutação\n",
    "#    for n in range(len(populacao)):\n",
    "#        if random.random() <= CHANCE_MUTACAO:\n",
    "#            individuo = populacao[n]\n",
    "#            populacao[n] = funcao_mutacao(individuo)\n",
    "\n",
    "    # melhor individuo já visto até agora (hall da fama)\n",
    "#    fitness = funcao_objetivo_pop(populacao)\n",
    "#    maior_fitness = max(fitness)\n",
    "#    posicao = fitness.index(maior_fitness)\n",
    "#    individuo = populacao[posicao].copy()\n",
    "#    valor, peso = computa_mochila(individuo, OBJETOS, ORDEM_DOS_NOMES)\n",
    "#    if maior_fitness > melhor_fitness_ja_visto and peso <= LIMITE_DE_PESO: # entra no hall da fama só quem cumpre com os pré-requisitos\n",
    "#        melhor_fitness_ja_visto = maior_fitness\n",
    "#        melhor_individuo_ja_visto = individuo\n",
    "#        print(f\"Maior valor: {valor} | Peso: {peso}\")\n",
    "\n",
    "\n",
    "# reportando o melhor individuo encontrado\n",
    "#print()\n",
    "#print(\"Você deve pegar os seguintes itens:\")\n",
    "#for pega_ou_nao, item in zip(melhor_individuo_ja_visto, ORDEM_DOS_NOMES):\n",
    "#    if pega_ou_nao == 1:\n",
    "#        print(\"+\", item)\n",
    "#print()\n",
    "#valor_total, peso_total = computa_mochila(\n",
    "#    melhor_individuo_ja_visto, OBJETOS, ORDEM_DOS_NOMES\n",
    "#)\n",
    "#print(\n",
    "#    f\"Com isso, sua mochila terá o valor de {valor_total} dinheiros \"\n",
    "#    f\"e peso de {peso_total} unidades de massa.\"\n",
    "#)"
   ]
  },
  {
   "cell_type": "code",
   "execution_count": null,
   "metadata": {},
   "outputs": [],
   "source": []
  }
 ],
 "metadata": {
  "kernelspec": {
   "display_name": "ilumpy",
   "language": "python",
   "name": "ilumpy"
  },
  "language_info": {
   "codemirror_mode": {
    "name": "ipython",
    "version": 3
   },
   "file_extension": ".py",
   "mimetype": "text/x-python",
   "name": "python",
   "nbconvert_exporter": "python",
   "pygments_lexer": "ipython3",
   "version": "3.9.7"
  },
  "org": null
 },
 "nbformat": 4,
 "nbformat_minor": 4
}
