{
 "cells": [
  {
   "cell_type": "markdown",
   "metadata": {},
   "source": [
    "Novos palíndromos\n",
    "========================================\n",
    "\n"
   ]
  },
  {
   "cell_type": "markdown",
   "metadata": {},
   "source": [
    "## Introdução\n",
    "\n"
   ]
  },
  {
   "cell_type": "markdown",
   "metadata": {},
   "source": [
    "Quem nunca brincou de pegar uma palavra, bagunçar suas letras e, a partir delas, buscar formas outras combinações possíveis?\n",
    "\n",
    "Este experimento consiste em algo parecido. Com pelo menos 5 letras, sendo, ao menos, uma delas vogal, é desejado encontrar 10 palíndromos, que não necessáriamente precisam ser palavras válidas, nem em portugu~es nem em qualquer outra língua/idioma.\n",
    "\n",
    "Mas, antes de tudo... o que é um palíndromo, não é mesmo? \n",
    "\n",
    "Palíndromo é quando pegamos uma palavra, comparamo-la com sua inversa e a distância entre elas é nula, ou seja, elas são iguais.\n",
    "\n",
    "Para fazer isso, vamos precisar punir palavras que não tenham vogal. Uma possibilidade seria acrescentar um delta à função objetivo. Além de que devemos evitar forçar a presença de uma vogal na criação do indivíduo.\n",
    "\n",
    "Animado(a) para resolvermos um problema de nossa infância agora com python? Vamos programar..."
   ]
  },
  {
   "cell_type": "markdown",
   "metadata": {},
   "source": [
    "## Objetivo\n",
    "\n"
   ]
  },
  {
   "cell_type": "markdown",
   "metadata": {},
   "source": [
    "Encontre pelo menos 10 palíndromos de 5 letras. Estes palíndromos devem ter pelo menos uma vogal. Não é necessário que eles formem palavras válidas em português ou qualquer outro idioma."
   ]
  },
  {
   "cell_type": "markdown",
   "metadata": {},
   "source": [
    "## Importações\n",
    "\n"
   ]
  },
  {
   "cell_type": "markdown",
   "metadata": {},
   "source": [
    "Todos os comandos de `import` devem estar dentro desta seção.\n",
    "\n"
   ]
  },
  {
   "cell_type": "code",
   "execution_count": 1,
   "metadata": {},
   "outputs": [],
   "source": [
    "import random"
   ]
  },
  {
   "cell_type": "markdown",
   "metadata": {},
   "source": [
    "## Códigos e discussão\n",
    "\n"
   ]
  },
  {
   "cell_type": "markdown",
   "metadata": {},
   "source": [
    "-   Use células de código para o código.\n",
    "\n",
    "-   Use células de texto para a discussão.\n",
    "\n",
    "-   A discussão não deve ser feita em comentários dentro das células de código. Toda discussão deve acontecer após o resultado sendo discutido foi apresentado. Exemplo: não discuta um gráfico antes de apresentá-lo.\n",
    "\n"
   ]
  },
  {
   "cell_type": "markdown",
   "metadata": {},
   "source": [
    "O que preciso fazer:\n",
    "\n",
    "- Gene: gerar uma letra, que vai ser sorteada de dentro da lista de caracteres fornecida\n",
    "- Indivíduo: Palavra qualquer que vai ter 5 letras geradas a partir de gene\n",
    "- População: pop. com tais indivíduos\n",
    "- Função objetivo que penalize, com um delta, quando não apresentar vogal\n",
    "- Código que analise a inversa da palavra formada por um indivíduo para verificar se é palíndromo ou não\n",
    "- Usar função ord() que converte letra em número e torna possível calcular distância entre elas"
   ]
  },
  {
   "cell_type": "markdown",
   "metadata": {},
   "source": [
    "O que já tenho:\n",
    "\n",
    "- gene_letra(letras)"
   ]
  },
  {
   "cell_type": "code",
   "execution_count": 2,
   "metadata": {},
   "outputs": [],
   "source": [
    "def gene_letra(letras):\n",
    "    \"\"\"Sorteia uma letra.\n",
    "    \n",
    "    Args:\n",
    "      letras: letras possíveis de serem sorteadas.\n",
    "      \n",
    "    Returns: \n",
    "      Retorna uma letra dentro das possíveis de serem sorteadas.\n",
    "    \"\"\"\n",
    "    \n",
    "    letra = random.choice(letras) # sorteia uma letra aleatória dentre as disponíveis\n",
    "    \n",
    "    return letra"
   ]
  },
  {
   "cell_type": "code",
   "execution_count": 3,
   "metadata": {},
   "outputs": [],
   "source": [
    "## CONSTANTES\n",
    "\n",
    "# busca\n",
    "TAMANHO_POP = 10\n",
    "TAM_PALINDROMO = 5\n",
    "\n",
    "# problema\n",
    "LETRAS_POSSIVEIS = \"abcdefghijklmnopqrstuvwxyz\""
   ]
  },
  {
   "cell_type": "code",
   "execution_count": 4,
   "metadata": {},
   "outputs": [],
   "source": [
    "def individuo_palindromo(tamanho_palindromo, letras):\n",
    "    \"\"\"Gera uma palavra qualquer com 5 letras candidata ao problema.\n",
    "    \n",
    "    Args:\n",
    "      tamanho_palindromo: tamanho desejado do palíndromo.\n",
    "      letras: lista de letras possíveis de serem sorteadas.\n",
    "      \n",
    "    Returns: \n",
    "      Retorna uma lista com 5 letras dentro das possíveis de serem sorteadas.\n",
    "    \"\"\"\n",
    "    candidato = []\n",
    "    \n",
    "    for n in range(tamanho_palindromo):\n",
    "        candidato.append(gene_letra(letras))\n",
    "        \n",
    "    return candidato"
   ]
  },
  {
   "cell_type": "code",
   "execution_count": 5,
   "metadata": {},
   "outputs": [],
   "source": [
    "def populacao_inicial_palindromo(tamanho_pop, tamanho_palindromo, letras):\n",
    "    \"\"\"Cria população inicial no problema dos palíndromos.\n",
    "    \n",
    "    Args:\n",
    "      tamanho_pop: tamanho da população (quantidade de indivíduos dela).\n",
    "      tamanho_palindromo: tamanho desejado do palíndromo.\n",
    "      letras: letras possíveis de serem sorteadas.\n",
    "      \n",
    "    Returns:\n",
    "      populacao: lista com todos os indivíduos da população no problema dos palíndromos.\n",
    "    \"\"\"\n",
    "    populacao = []\n",
    "    for _ in range(tamanho_pop):\n",
    "        populacao.append(individuo_palindromo(letras))\n",
    "        \n",
    "    return populacao"
   ]
  },
  {
   "cell_type": "code",
   "execution_count": 6,
   "metadata": {},
   "outputs": [],
   "source": [
    "def funcao_objetivo_palindromo(indivíduo):\n",
    "    \"\"\"Computa a funcao objetivo de um indivíduo no problema do palíndromo\n",
    "    \n",
    "    Args:\n",
    "      individuo: lista contendo as letras do palíndromo\n",
    "      \n",
    "    Returns:\n",
    "      A \"distância\" entre uma palavra e a sua inversa. Essa distância \n",
    "      é medida letra por letra. Quanto mais distante uma letra for da que \n",
    "      deveria ser, maior é essa distância. Além disso, é penalizada, quando\n",
    "      a palavra não apresenta vogal.\n",
    "    \"\"\"\n",
    "    \n",
    "    diferenca = 0\n",
    "    vogais = [\"a\", \"e\", \"i\", \"o\", \"u\"]\n",
    "    delta = 100 # punição\n",
    "    composicao_individuo = [] # lista para analisar a composição da palavra, por vogal ou consoante\n",
    "    \n",
    "    palavra_inversa = list(reversed(individuo))\n",
    "    \n",
    "    for letra_candidato, letra_inversa in zip(individuo, palavra_inversa):\n",
    "        diferenca = diferenca + abs(ord(letra_candidato) - ord(letra_inversa))\n",
    "        \n",
    "    for l in individuo:\n",
    "        if l not in [vogais]:\n",
    "            composicao_individuo.append(\"c\")\n",
    "            \n",
    "    if len(composicao_individuo) == 5:\n",
    "        diferenca = diferenca + delta\n",
    "        \n",
    "    return diferenca"
   ]
  },
  {
   "cell_type": "markdown",
   "metadata": {},
   "source": [
    "## Conclusão\n",
    "\n"
   ]
  },
  {
   "cell_type": "markdown",
   "metadata": {},
   "source": [
    "Delete este texto e escreva sua conclusão.\n",
    "\n"
   ]
  },
  {
   "cell_type": "markdown",
   "metadata": {},
   "source": [
    "## Referências consultadas\n",
    "\n"
   ]
  },
  {
   "cell_type": "markdown",
   "metadata": {},
   "source": [
    "1.  Delete este texto e inclua suas referências ordenadas numericamente. Se for referenciar no notebook, use o número entre colchetes (exemplo: para citar essa referência aqui escreva &ldquo;[1]&rdquo; sem as áspas).\n",
    "\n",
    "2.  Cada item deve ser numerado. Siga o padrão apresentado.\n",
    "\n",
    "3.  Caso não tenha nenhuma referência consultada, delete esta seção e o texto contido nela!\n",
    "\n"
   ]
  },
  {
   "cell_type": "markdown",
   "metadata": {},
   "source": [
    "## Playground\n",
    "\n"
   ]
  },
  {
   "cell_type": "markdown",
   "metadata": {},
   "source": [
    "Todo código de teste que não faz parte do seu experimento deve vir aqui. Este código não será considerado na avaliação.\n",
    "\n"
   ]
  },
  {
   "cell_type": "code",
   "execution_count": null,
   "metadata": {},
   "outputs": [],
   "source": []
  }
 ],
 "metadata": {
  "kernelspec": {
   "display_name": "ilumpy",
   "language": "python",
   "name": "ilumpy"
  },
  "language_info": {
   "codemirror_mode": {
    "name": "ipython",
    "version": 3
   },
   "file_extension": ".py",
   "mimetype": "text/x-python",
   "name": "python",
   "nbconvert_exporter": "python",
   "pygments_lexer": "ipython3",
   "version": "3.9.7"
  },
  "org": null
 },
 "nbformat": 4,
 "nbformat_minor": 4
}
