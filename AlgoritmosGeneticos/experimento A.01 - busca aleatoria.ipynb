{
 "cells": [
  {
   "cell_type": "markdown",
   "metadata": {
    "tags": []
   },
   "source": [
    "Busca aleatória\n",
    "===============\n",
    "\n"
   ]
  },
  {
   "cell_type": "markdown",
   "metadata": {},
   "source": [
    "## Introdução\n",
    "\n"
   ]
  },
  {
   "cell_type": "markdown",
   "metadata": {},
   "source": [
    "Uma forma simples de se encontrar uma solução para um `problema de otimização` é realizando uma `busca aleatória`. A busca aleatória, como o próprio nome sugere, é um algoritmo onde um certo `espaço de busca` é definido de onde sorteamos `candidatos` de soluções para o problema.\n",
    "\n",
    "Diferentemente de outros algoritmos de otimização, a busca aleatória não requer que a `função objetivo` seja diferenciável nem contínua.\n",
    "\n",
    "Um algoritmo de busca aleatória segue os seguintes passos:\n",
    "\n",
    "1.  Um espaço de busca é definido\n",
    "\n",
    "2.  Um candidato $x$ dentro do espaço de busca é sorteado aleatoriamente\n",
    "\n",
    "3.  Calculamos o resultado da função objetivo para o candidato $x$\n",
    "\n",
    "4.  Se o critério de parada for atingido, encerrar o algoritmo e retornar ao usuário o candidato que teve melhor resultado durante a busca. Do contrário, retorne ao passo 2\n",
    "\n"
   ]
  },
  {
   "cell_type": "markdown",
   "metadata": {},
   "source": [
    "## Reflexões\n",
    "\n"
   ]
  },
  {
   "cell_type": "markdown",
   "metadata": {},
   "source": [
    "Você diria que o algoritmo de busca aleatória é determinístico ou probabilístico?\n",
    "\n",
    "Em quais problemas de otimização você acredita que este algoritmo seja uma boa escolha?\n",
    "\n",
    "Em quais problemas de otimização você acredita que este algoritmo seja uma má escolha?\n",
    "\n"
   ]
  },
  {
   "cell_type": "markdown",
   "metadata": {},
   "source": [
    "## Objetivo\n",
    "\n"
   ]
  },
  {
   "cell_type": "markdown",
   "metadata": {},
   "source": [
    "Encontrar uma solução para o problema das caixas binárias usando o algoritmo de busca aleatória. Considere 4 caixas.\n",
    "\n"
   ]
  },
  {
   "cell_type": "markdown",
   "metadata": {},
   "source": [
    "## Descrição do problema\n",
    "\n"
   ]
  },
  {
   "cell_type": "markdown",
   "metadata": {},
   "source": [
    "O problema das caixas binárias é simples: nós temos um certo número de caixas e cada uma pode conter um valor do conjunto $\\{0, 1\\}$. O objetivo é encontrar uma combinação de caixas onde a soma dos valores contidos dentro delas é máximo.\n",
    "\n",
    "Como todo problema computacional, um dos desafios é &ldquo;traduzir&rdquo; o problema dado em estruturas computacionais.\n",
    "\n"
   ]
  },
  {
   "cell_type": "markdown",
   "metadata": {},
   "source": [
    "## Importações\n",
    "\n"
   ]
  },
  {
   "cell_type": "code",
   "execution_count": 1,
   "metadata": {},
   "outputs": [],
   "source": [
    "import random"
   ]
  },
  {
   "cell_type": "markdown",
   "metadata": {},
   "source": [
    "## Códigos e discussão\n",
    "\n"
   ]
  },
  {
   "cell_type": "code",
   "execution_count": 2,
   "metadata": {},
   "outputs": [],
   "source": [
    "# preciso de uma lista para representar meu indivíduo\n",
    "# quantidade de elementos na lista é o número de genes\n",
    "# cada gene pode ser 0 ou 1, vou gerar esses números aleatoriamente\n",
    "\n",
    "def gene_cb():\n",
    "    \"\"\"Gera um gene válido para o problema das caixas binárias.\n",
    "    \n",
    "    Return:\n",
    "      Um valor zero ou um.\n",
    "    \"\"\"\n",
    "    lista = [0,1]\n",
    "    gene = random.choice(lista)\n",
    "    return gene\n",
    "    \n",
    "\n",
    "def individuo_cb(n):\n",
    "    \"\"\"Gera um indivíduo para o problema das caixas binárias.\n",
    "    \n",
    "    Args:\n",
    "      n: número de genes do indivíduo.\n",
    "    \n",
    "    Return:\n",
    "      Uma lista com n genes. Cada gene é um valor zero ou um.\n",
    "    \"\"\"\n",
    "    individuo = []\n",
    "    for i in range(n):\n",
    "        gene = gene_cb()\n",
    "        individuo.append(gene)\n",
    "    return individuo\n",
    "    \n",
    "\n",
    "def funcao_objetivo_cb(individuo):\n",
    "    \"\"\"Computa a função objetivo no problema das caixas binárias.\n",
    "    \n",
    "    Args:\n",
    "      individuo: lista contendo os genes das caixas binárias.\n",
    "    \n",
    "    Return:\n",
    "      Um valor representando a soma dos genes do indivíduo.\n",
    "    \"\"\"\n",
    "    return sum(individuo)"
   ]
  },
  {
   "cell_type": "code",
   "execution_count": 3,
   "metadata": {},
   "outputs": [],
   "source": [
    "# constantes\n",
    "\n",
    "NUM_CANDIDATOS = 8\n",
    "NUM_GENES = 4"
   ]
  },
  {
   "cell_type": "code",
   "execution_count": 4,
   "metadata": {},
   "outputs": [
    {
     "name": "stdout",
     "output_type": "stream",
     "text": [
      "[1, 0, 1, 1] 3\n",
      "[1, 0, 1, 0] 2\n",
      "[0, 0, 0, 1] 1\n",
      "[1, 1, 1, 1] 4\n",
      "[1, 0, 0, 0] 1\n",
      "[1, 0, 0, 1] 2\n",
      "[0, 1, 1, 1] 3\n",
      "[0, 1, 1, 0] 2\n"
     ]
    }
   ],
   "source": [
    "for n in range(NUM_CANDIDATOS):\n",
    "    candidato = individuo_cb(NUM_GENES)\n",
    "    fobj = funcao_objetivo_cb(candidato)\n",
    "    print(candidato, fobj)"
   ]
  },
  {
   "cell_type": "markdown",
   "metadata": {},
   "source": [
    "## Conclusão\n",
    "\n",
    "Resolvemos o problema das caixas binárias com 4 caixas. Utilizamos a busca aleatória e, para isso, foi preciso importarmos a biblioteca \"random\" para que, dentro da função que gera um gene válido, a escolha do gene pudesse ser aleatória, além de que criamos funções para gerar uma lista que representa o indíviduo, sendo cada elemento um gene (0 ou 1) e outra para somar todos os genes, que era a definição da nossa função objetivo. Observamos através de várias rodadas que este é um algoritmo probabilístico, pois o resultado obtido em diversas rodadas foi diferente, cada pessoa da turma obteve um resultado diferente nas diversas rodadas qeu testaram.\n",
    "\n",
    "Acredito que esse algoritmo é uma boa escolha quando se tem um número muito grande de \"genes\" (caixas) e muitas opções de valores para eles, porque essa ideia de colocar um número de parada e fazer escolha aleatória para os genes aparenta ser vantajoso para ser menos custoso, já que há chances de rodas menos vezes e chegar em um bom resultado, uma função objetivo mais próxima da ideal. \n",
    "\n",
    "Porém, para números não tão grandes de genes, pode ser que tenha mais chances, pelo número de parada e por poder repetir visto aleatoriedade, de rodar mais do que o necessário se comparado a métodos determinísticos, que poderiam resultar, rodando menos vezes, no que seria o ideal de se encontrar para a função objetivo. "
   ]
  },
  {
   "cell_type": "markdown",
   "metadata": {},
   "source": [
    "## Playground\n",
    "\n"
   ]
  },
  {
   "cell_type": "code",
   "execution_count": null,
   "metadata": {},
   "outputs": [],
   "source": []
  }
 ],
 "metadata": {
  "kernelspec": {
   "display_name": "ilumpy",
   "language": "python",
   "name": "ilumpy"
  },
  "language_info": {
   "codemirror_mode": {
    "name": "ipython",
    "version": 3
   },
   "file_extension": ".py",
   "mimetype": "text/x-python",
   "name": "python",
   "nbconvert_exporter": "python",
   "pygments_lexer": "ipython3",
   "version": "3.9.7"
  },
  "org": null
 },
 "nbformat": 4,
 "nbformat_minor": 4
}
