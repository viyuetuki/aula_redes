{
 "cells": [
  {
   "cell_type": "markdown",
   "metadata": {},
   "source": [
    "A senha de tamanho variável\n",
    "========================================\n",
    "\n"
   ]
  },
  {
   "cell_type": "markdown",
   "metadata": {},
   "source": [
    "## Introdução\n",
    "\n"
   ]
  },
  {
   "cell_type": "markdown",
   "metadata": {},
   "source": [
    "<p style='text-align: justify'> Tendo resolvido o problema de descobrir a senha no <a href=\"https://github.com/viyuetuki/aula_redes/blob/main/AlgoritmosGeneticos/experimento%20A.05%20-%20descobrindo%20a%20senha.ipynb\">experimento A.05</a>, enfrentar o desafio de descobri-la, mas sem fornecer seu tamanho quando for gerada, parece muito interessante e relevante de se tentar! E é exatamente esse o experimento escolhido para se resolver aqui.\n",
    "\n",
    "A partir do uso dos conceitos de genes, indivíduo, população, função objetivo, cruzamento, mutação e seleção, além da adoção de penalidade, é que nossa metodologia a ser adotada vai ser desenvolvida a seguir.</p>"
   ]
  },
  {
   "cell_type": "markdown",
   "metadata": {},
   "source": [
    "## Objetivo\n",
    "\n"
   ]
  },
  {
   "cell_type": "markdown",
   "metadata": {},
   "source": [
    "Resolver o problema da senha sem fornecer a informação do tamanho da senha para a função que gera a população.\n",
    "\n"
   ]
  },
  {
   "cell_type": "markdown",
   "metadata": {},
   "source": [
    "## Importações\n",
    "\n"
   ]
  },
  {
   "cell_type": "markdown",
   "metadata": {},
   "source": [
    "<p style='text-align: justify'>\n",
    "<ul>\n",
    "    <li> Importando 'random' e algumas funções criadas, do arquivo 'funcoes.py', a serem usadas no algoritmo e as renomeando de maneira \"auto-explicativa\":</li>\n",
    "</ul></p>"
   ]
  },
  {
   "cell_type": "code",
   "execution_count": 1,
   "metadata": {},
   "outputs": [],
   "source": [
    "from funcoes import populacao_inicial_senha_var\n",
    "from funcoes import funcao_objetivo_pop_senha_var\n",
    "from funcoes import selecao_torneio_min\n",
    "from funcoes import cruzamento_ponto_simples_senha_var as funcao_cruzamento\n",
    "from funcoes import mutacao_senha\n",
    "from funcoes import mutacao_tam_senha_var\n",
    "import random"
   ]
  },
  {
   "cell_type": "markdown",
   "metadata": {},
   "source": [
    "<p style='text-align: justify'>\n",
    "<i>Obs: As que foram deixas sem a parte de renomeação é porque terão posição de funções locais neste código.\n",
    "Então, serão renomeadas quando elas forem adaptadas para as especificidades deste problema.\n",
    "</i></p>"
   ]
  },
  {
   "cell_type": "markdown",
   "metadata": {},
   "source": [
    "## Códigos e discussão\n",
    "\n"
   ]
  },
  {
   "cell_type": "markdown",
   "metadata": {},
   "source": [
    "<p style='text-align: justify'>\n",
    "<ul>\n",
    "    <li>Definindo as constantes, sendo elas: relacionadas à busca, que, se mudadas, alteram a eficácia do algoritmo; e relacionadas ao problema a ser resolvido, que, caso alteradas, mudam o problema em questão que se está resolvendo:</li>\n",
    "</ul></p>"
   ]
  },
  {
   "cell_type": "code",
   "execution_count": 2,
   "metadata": {},
   "outputs": [],
   "source": [
    "### CONSTANTES\n",
    "\n",
    "# relacionadas à busca\n",
    "TAMANHO_POP = 50\n",
    "CHANCE_CRUZAMENTO = 0.5\n",
    "CHANCE_MUTACAO = 0.05\n",
    "NUM_COMBATENTES_NO_TORNEIO = 3\n",
    "\n",
    "# relacionadas ao problema a ser resolvido\n",
    "SENHA = \"ni8_wei@yu*#19CiNlPuEmM-ec42-60&22-10$04\"\n",
    "LETRAS_POSSIVEIS = \"abcdefghijklmnopqrstuvwxyzABCDEFGHIJKLMNOPQRSTUVWXYZ1234567890_@#*&%!$-\"\n",
    "TAMANHOS_SENHA = list(range(4, 80))\n",
    "PENALIDADE = 20"
   ]
  },
  {
   "cell_type": "markdown",
   "metadata": {},
   "source": [
    "<p style='text-align: justify'>\n",
    "<ul>\n",
    "    <li> Definindo as funções locais, as quais utilizam de alguns valores padrões definidos neste notebook:</li>\n",
    "</ul></p>"
   ]
  },
  {
   "cell_type": "code",
   "execution_count": 3,
   "metadata": {},
   "outputs": [],
   "source": [
    "# funções locais\n",
    "\n",
    "def cria_populacao_inicial(tamanho_pop, tamanhos_senha):\n",
    "    return populacao_inicial_senha_var(tamanho_pop, tamanhos_senha, LETRAS_POSSIVEIS)\n",
    "\n",
    "def funcao_objetivo_pop(populacao):\n",
    "    return funcao_objetivo_pop_senha_var(populacao, SENHA, PENALIDADE)\n",
    "\n",
    "def funcao_selecao(populacao, fitness):\n",
    "    return selecao_torneio_min(populacao, fitness, NUM_COMBATENTES_NO_TORNEIO)\n",
    "\n",
    "def funcao_mutacao_senha(individuo):\n",
    "    return mutacao_senha(individuo, LETRAS_POSSIVEIS)\n",
    "\n",
    "def funcao_mutacao_tamanho_senha(individuo):\n",
    "    return mutacao_tam_senha_var(individuo, TAMANHOS_SENHA, LETRAS_POSSIVEIS)"
   ]
  },
  {
   "cell_type": "markdown",
   "metadata": {},
   "source": [
    "<p style='text-align: justify'>\n",
    "<ul>\n",
    "    <li> Código contendo a lógica para a resolução do problema:</li>\n",
    "</ul></p>"
   ]
  },
  {
   "cell_type": "code",
   "execution_count": 4,
   "metadata": {},
   "outputs": [
    {
     "name": "stdout",
     "output_type": "stream",
     "text": [
      "Progresso da melhor senha já vista:\n",
      "Yn0Egd - fitness: 757\n",
      "hj4IwgG - fitness: 729\n",
      "hj4IwgnH - fitness: 688\n",
      "hj4_pgnH - fitness: 673\n",
      "hj4_wgnH - fitness: 666\n",
      "hj4_wgnHw0*09RT - fitness: 660\n",
      "kj4_wgnHw0*09RT - fitness: 657\n",
      "kj4_wgnAw0*09RT - fitness: 650\n",
      "kj4_wgnAw0*09 - fitness: 648\n",
      "kj4_wgnAwB*09RT - fitness: 632\n",
      "kj4_wgnAwB*09 - fitness: 630\n",
      "kj4_wgnAwt*09 - fitness: 580\n",
      "kj4_wgnAwt*#9 - fitness: 567\n",
      "kj4_wgnAwt*#93Pw - fitness: 540\n",
      "kj4_wgnAwt*#93Pw9j - fitness: 523\n",
      "kj4_wgnAwt*#93PwBj - fitness: 514\n",
      "kj4_wgnAwt*#93PwVj - fitness: 510\n",
      "nj4_wgnAwt*#93PwVj - fitness: 507\n",
      "nj4_wgnAwt*#93HwVj - fitness: 499\n",
      "nj4_wgnAwt*#93P_VjiZC - fitness: 497\n",
      "nj4_wgnAwt*#63P_VjiZC - fitness: 494\n",
      "nj4_wgnAyt*#63P_VjiZC - fitness: 492\n",
      "nj4_wgnAyt*#63P_VjiZCBW3 - fitness: 491\n",
      "nj4_wgnAyt*#63P_VjiqCBW3 - fitness: 468\n",
      "nj4_wgnAyt*#63PhVjiZCsW3 - fitness: 445\n",
      "nj4_wgnAyt*#63PhVjiZCsU3 - fitness: 443\n",
      "nj4_wgnAyt*#63PhVjiZCsT3 - fitness: 442\n",
      "nj4_wgnAyt*#63PhVjDZCsT3 - fitness: 429\n",
      "nj4_wgnAyt*#63PhMjDZCsT3 - fitness: 422\n",
      "nj4_wgnAyt*#63PhMjDZCsM3 - fitness: 415\n",
      "nj4_wgnAyt*#63PhMjDZClM3 - fitness: 410\n",
      "nj4_wgnAyt*#63PhMjDmClM3 - fitness: 391\n",
      "nj4_wgnAyt*#63PhMjXmClM3 - fitness: 387\n",
      "nj4_wgnAyt*#63PhMjRmClM3 - fitness: 381\n",
      "nj6_wgnAyt*#63PhMjRmClM3 - fitness: 379\n",
      "nj6_wgnAyt*#63PhMjRmClM1 - fitness: 377\n",
      "nj6_wgkAyt*#63PhMjRmClM1 - fitness: 374\n",
      "nj6_wgk@yt*#63PhMjRmClM1 - fitness: 373\n",
      "nj6_wgk@yt*#63PhMjRmClM1QqFGc9- - fitness: 366\n",
      "nj6_wgk@yt*#63PhMjRmClM1QeFGc9- - fitness: 354\n",
      "nj6_wgk@yt*#63PhMjRmClM1Qe8Gc9- - fitness: 340\n",
      "nj6_wgk@yt*#63PhMjRmClM1Qe8G_9- - fitness: 336\n",
      "nj6_wgk@yt*#63PhMjRmClM1Qe8G_8- - fitness: 335\n",
      "nj6_wgk@yt*#63PhMjRmClM1Qe8E_8- - fitness: 333\n",
      "nj6_wgk@yt*#63PhMjRmClM1Qe8*_8- - fitness: 322\n",
      "nj6_wgk@yt*#63PhMjRmClM1Qe8*38- - fitness: 278\n",
      "nj6_wgk@yt*#63PhMjRmClM1Qd8*38- - fitness: 277\n",
      "nj6_wgk@yt*#63PhMjRmClM1cd8*38- - fitness: 259\n",
      "nj6_wgk@yt*#53PhMjRmClM1cd8*38- - fitness: 258\n",
      "nj6_wgk@yt*#53PhMjRyClM1cd8*38- - fitness: 254\n",
      "nj6_wgk@yt*#53PhMjRyClM1cd8**8- - fitness: 251\n",
      "nj6_wgk@yt*#53JhMjRyClM1cd8**8- - fitness: 245\n",
      "nj6_wgk@yt*#53JhMjRyClM1cd8**7- - fitness: 244\n",
      "nj6_wgk@yt*#53JhNjRyClM1cd8**7- - fitness: 243\n",
      "nj6_wgk@yt*#53JhNjRyElM1cd8**7- - fitness: 241\n",
      "nj6_wgk@yt*#53IhNjRyFlM*cd8**7- - fitness: 240\n",
      "nj6_wgk@yt*#53IhNjRyFlM*cd5**7- - fitness: 237\n",
      "nj7_wgk@yt*#53IhNjRyFlM*cd5**7- - fitness: 236\n",
      "nj7_wgk@yt*#54IhNjRyFlM*cd5**7- - fitness: 235\n",
      "nj7_wgk@yt*#54IhNjRyFlM*cd5**72 - fitness: 234\n",
      "nj7_wgk@yt*#54IhNjRyFlM*cd5**720P@ - fitness: 228\n",
      "nj7_wgk@yt*#54IhNjRyFlM*fd5**720P@ - fitness: 227\n",
      "nj7_wgk@yt*#54@hNjRyFlM*cd5**720P@ - fitness: 225\n",
      "nj7_wgk@yt*#54@hNlRyFlM*cd5**720P@ - fitness: 223\n",
      "nj7_wgk@yt*#54@hNlRyFlM*cd5**720P@3Y3 - fitness: 212\n",
      "nj7_wgk@yt*#54@hNlRyFlM*cd4**720P@8II@41 - fitness: 197\n",
      "nj7_wgk@yt*#54@hNlRvFlM*cd4**720P@8II@41 - fitness: 194\n",
      "nj7_wgk@yt*#54@hNlRvFlM*cd4**720P@8II@31 - fitness: 193\n",
      "nj7_wgk@yt*#54@hNlRvFlM*cd4**720P@4II@41 - fitness: 190\n",
      "nj7_wgk@yt*#54@hNlRvFlM*cd4**720P@8IE@31 - fitness: 189\n",
      "nj7_wgk@yt*#54@hNlRvFlM*cd4**620P@8IE@31 - fitness: 188\n",
      "nj7_wgk@yt*#34@hNlRvFlM*cd4**620P@8IE@31 - fitness: 186\n",
      "nj7_wgk@yt*#34@hNlRvFlM*cd4**620P@8CE@31 - fitness: 180\n",
      "nj7_wgk@yt*#34@hNlRvFlM*cd4**620P@8CE@11 - fitness: 178\n",
      "nj7_wgk@yt*#34@hNlQvFlM*cd4**620P@8CE@11 - fitness: 177\n",
      "nj7_wgk@yt*#34@hNlRvFlM*cd4**620P@8CE-11 - fitness: 159\n",
      "nj7_wgk@yt*#34@hNlQvFlM*cd4**620P@8CE-11 - fitness: 158\n",
      "nj7_wgk@yt*#34@hNlQvFlM*cd4**620P@8C*-11 - fitness: 143\n",
      "nj7_wgk@yt*#34@hNlQvFlM*cd4**620P@8C0-11 - fitness: 137\n",
      "nj7_wgk@yt*#34@hNlQvFlM*fd4**620P@8C0-11 - fitness: 136\n",
      "nj7_wgk@yt*#34@hNlQvFlM*fd4**620P@5C0-11 - fitness: 133\n",
      "nj7_wgk@yt*#34@hNlQvFlM*fd4**600P@5C0-11 - fitness: 131\n",
      "nj7_wgk@yt*#34@hNlQvFlM*fd4**6002@5C0-11 - fitness: 101\n",
      "nj7_wgk@yt*#34@hNlQvFlM*fd4**6002@5C0&11 - fitness: 94\n",
      "nj7_wgk@yt*#39@hNlQvFlM*fd4**6002@5C0&11 - fitness: 89\n",
      "nj7_wgk@yt*#39@hNlQvFlM*fd4**6002@5C0&01 - fitness: 88\n",
      "nj7_wgk@yt*#39@hNlQvFlM*fd4**60-2@5C0&01 - fitness: 85\n",
      "nj7_wgk@yu*#39@hNlQvFlM*fd4**60-2@5C0&01 - fitness: 84\n",
      "nj7_wgk@yu*#39BhNlQvFlM*fd4**60-2@5C0&01 - fitness: 82\n",
      "nj7_wgk@yu*#39@hNlQvFlM*fd4**60#2@5C0&01 - fitness: 80\n",
      "nj7_wgk@yu*#39BhNlQvFlM*fd4**60#2@5C0&01 - fitness: 78\n",
      "nj7_wgk@yu*#39BhNlQvFlM*fd4**60#295C0&01 - fitness: 71\n",
      "nj7_wgk@yu*#39BhNlQvFlM*fd4**60#295#0&01 - fitness: 67\n",
      "nj7_wek@yu*#39BhNlQvFlM*fd4**60#295#0&01 - fitness: 65\n",
      "nj7_wek@yu*#39BhNlQvFlM*fd4**60#295-0&01 - fitness: 55\n",
      "nj7_wek@yu*#39BhNlQvFlM*fd4**60#29520&01 - fitness: 52\n",
      "nj7_wek@yu*#39BhNlQvFlM*fd46*60#29520&01 - fitness: 48\n",
      "nj7_wek@yu*#39BhNlQvFlM*fd46*60#29520&05 - fitness: 46\n",
      "nj8_wek@yu*#39BhNlQvFlM*fd46*60#29520&05 - fitness: 45\n",
      "nj8_wek@yu*#39ChNlQvFlM*fd46*60#29520&05 - fitness: 44\n",
      "nj8_wek@yu*#39ChNlQvFlM*fd45*60#29520&05 - fitness: 43\n",
      "nj8_wek@yu*#39ChNlQvFlM*fd45*60#29520#05 - fitness: 42\n",
      "nj8_wek@yu*#39ChNlQvFlM*fd45*60#29020#05 - fitness: 37\n",
      "nj8_wek@yu*#39ChNlQvFlM*fd45*60#2-020#05 - fitness: 35\n",
      "nj8_wek@yu*#39ChNlQvElM*fd45*60#2-020#05 - fitness: 34\n",
      "nj8_wek@yu*#39ChNlPvElM*fd45*60#2-020#05 - fitness: 33\n",
      "nj8_wek@yu*#39ChNlQvElM*fd45*60%2-020#05 - fitness: 32\n",
      "ni8_wek@yu*#39ChNlQvElM*fd45*60%2-020#05 - fitness: 31\n",
      "ni8_wek@yu*#39ChNlQvElM*fd45*60%2-010#05 - fitness: 30\n",
      "ni8_wek@yu*#29ChNlQvElM*fd45*60%2-010#05 - fitness: 29\n",
      "ni8_wek@yu*#29ChNlQuElM*fd45*60%2-010#05 - fitness: 28\n",
      "ni8_wek@yu*#29ChNlQuElM*fd45*60%23010#05 - fitness: 24\n",
      "ni8_wek@yu*#29ChNlQuElM*fd45-60%23010#05 - fitness: 21\n",
      "ni8_wek@yu*#29ChNlQuElM*fd41-60%23010#05 - fitness: 19\n",
      "ni8_wek@yu*#29ChNlQuElM*fd41-60%22010#05 - fitness: 18\n",
      "ni8_wej@yu*#29ChNlQuElM*fd41-60%22010#05 - fitness: 17\n",
      "ni8_wej@yu*#29ChNlQuElM-fd41-60%22010#05 - fitness: 14\n",
      "ni8_wej@yu*#29ChNlQuElM-fd41-60&22010#05 - fitness: 13\n",
      "ni8_wej@yu*#29ChNlQuElM-fd41-60&22-10#05 - fitness: 10\n",
      "ni8_wej@yu*#29ChNlQuElM-ed41-60&22-10#05 - fitness: 9\n",
      "ni8_wej@yu*#29ChNlQuEmM-ed41-60&22-10#05 - fitness: 8\n",
      "ni8_wej@yu*#19ChNlQuEmM-ed41-60&22-10#05 - fitness: 7\n",
      "ni8_wej@yu*#19ChNlQuEmM-ed42-60&22-10#05 - fitness: 6\n",
      "ni8_wej@yu*#19ChNlPuEmM-ed42-60&22-10#05 - fitness: 5\n",
      "ni8_wej@yu*#19CiNlPuEmM-ed42-60&22-10#05 - fitness: 4\n",
      "ni8_wej@yu*#19CiNlPuEmM-ed42-60&22-10$05 - fitness: 3\n",
      "ni8_wej@yu*#19CiNlPuEmM-ec42-60&22-10$05 - fitness: 2\n",
      "ni8_wej@yu*#19CiNlPuEmM-ec42-60&22-10$04 - fitness: 1\n",
      "ni8_wei@yu*#19CiNlPuEmM-ec42-60&22-10$04 - fitness: 0\n",
      "\n",
      "Senha verdadeira:\n",
      "ni8_wei@yu*#19CiNlPuEmM-ec42-60&22-10$04  : tamanho =  40\n",
      "Melhor palpite da senha encontrado:\n",
      "ni8_wei@yu*#19CiNlPuEmM-ec42-60&22-10$04  : tamanho =  40\n",
      "Resultado obtido após  7815  gerações.\n"
     ]
    }
   ],
   "source": [
    "populacao = cria_populacao_inicial(TAMANHO_POP, TAMANHOS_SENHA) # estabelece uma população inicial aleatória\n",
    "\n",
    "melhor_fitness_ja_visto = float(\"inf\")  # escrevendo infinito em python\n",
    "\n",
    "print(\"Progresso da melhor senha já vista:\")\n",
    "\n",
    "contador_geracao = 0\n",
    "\n",
    "# especificando para o algoritmo rodar até se encontrar um indivíduo com fitness = 0, ou seja, que equivala\n",
    "# à senha fornecida\n",
    "while melhor_fitness_ja_visto != 0:   \n",
    "    \n",
    "    # Seleção\n",
    "    fitness = funcao_objetivo_pop(populacao)\n",
    "    populacao = funcao_selecao(populacao, fitness)\n",
    "    \n",
    "    # Cruzamento\n",
    "    pais = populacao[0::2]\n",
    "    maes = populacao[1::2]\n",
    "    \n",
    "    contador = 0\n",
    "    \n",
    "    for pai, mae in zip(pais, maes):\n",
    "        if random.random() <= CHANCE_CRUZAMENTO:\n",
    "            filho1, filho2 = funcao_cruzamento(pai, mae)\n",
    "            populacao[contador] = filho1\n",
    "            populacao[contador + 1] = filho2\n",
    "        \n",
    "        contador = contador + 2   \n",
    "        \n",
    "    # Mutação\n",
    "    for n in range(len(populacao)):\n",
    "        if random.random() <= CHANCE_MUTACAO:\n",
    "            operadores_mutacao = [1,2]\n",
    "            operador_mut = random.choice(operadores_mutacao)\n",
    "            if operador_mut == 1:\n",
    "                individuo = populacao[n]\n",
    "                populacao[n] = funcao_mutacao_senha(individuo)\n",
    "            else:\n",
    "                individuo = populacao[n]\n",
    "                populacao[n] = funcao_mutacao_tamanho_senha(individuo)\n",
    "            \n",
    "    # melhor indivíduo já visto até agora\n",
    "    fitness = funcao_objetivo_pop(populacao)\n",
    "    menor_fitness = min(fitness) # como esse problema é de minimização, busca-se o menor fitness obtido\n",
    "    # caso o menor fitness dessa vez seja menor que o melhor encontrado anteriormente\n",
    "    if menor_fitness < melhor_fitness_ja_visto:  \n",
    "        # pega-se o index dele dentro de fitness\n",
    "        posicao = fitness.index(menor_fitness)\n",
    "        # altera-se o melhor indivíduo encontrado para o desse respectivo fitness\n",
    "        melhor_individuo_ja_visto = populacao[posicao]\n",
    "        # redefine-se o melhor fitness já visto\n",
    "        melhor_fitness_ja_visto = menor_fitness\n",
    "        print(\"\".join(melhor_individuo_ja_visto), \"- fitness:\", melhor_fitness_ja_visto)\n",
    "    \n",
    "    contador_geracao = contador_geracao + 1\n",
    "\n",
    "print()\n",
    "print(\"Senha verdadeira:\")\n",
    "print(SENHA, \" : tamanho = \", len(SENHA))\n",
    "print(\"Melhor palpite da senha encontrado:\")\n",
    "print(\"\".join(melhor_individuo_ja_visto), \" : tamanho = \", len(\"\".join(melhor_individuo_ja_visto)))\n",
    "print(\"Resultado obtido após \", contador_geracao, \" gerações.\")"
   ]
  },
  {
   "cell_type": "markdown",
   "metadata": {},
   "source": [
    "## Conclusão\n",
    "\n"
   ]
  },
  {
   "cell_type": "markdown",
   "metadata": {},
   "source": [
    "<p style='text-align: justify'> A partir desse algoritmo desenvolvido, foi possível resolvermos o problema de descobrir a senha sem ser informado o tamanho dela. Para vencermos esse desafio proposto, foi necessário implementar novas funções desde geração de um indivíduo, população, cruzamento, mutação e função objetivo Isso porque: foi cobrado que não se informasse o tamanho da senha para a geração dos indivíduos da população; foi preciso que, no cruzamento, a escolha do ponto de corte ocorresse de acordo com o progenitor de menor tamanho; era necessário que se houvesse dois operadores de mutação, um para mutas letras e outro para alterar o tamanho da senha, adequando-a pra esse novo comprimento; além de que a função objetivo, além de medir distância das letras com a função ord(), que as transformam em números respectivos, deveria penalizar aqueles indivíduos que não possuíam tamanho correto de acordo com o quão distantes estavam.</p>\n",
    "\n",
    "<p style='text-align: justify'> Ele se configura, como alguns anteriores, como um problema de minimização. E esse algortimo é dito <b>probabilístico</b>, haja visto que, apesar de ter sido rodado diversas vezes e a resposta ser a mesma e a correta (por enquanto), todos os artefatos utilizados para construção dele (como: criação de gene, indivíduo, cruzamento, mutação, seleção) são probabilísticos, logo, ele é um algoritmo probabilístico também. Além de que, variando-se o número de gerações, a resposta poderia não ser a mesma (vimos, inclusive, que, a cada tentativa nesse código, obtínhamos tentativas de senhas diferentes). Sem contar que, apesar da probabilidade ser muito pequena e de termos usado o 'while' para fazer com que ele rode até ser exatamente a mesma senha, pode haver uma situação em que o algoritmo rode, rode e rode (infinitamente) e nunca se chegue no resultado esperado, assim, pode ser que o que é preciso para a formação da senha, por exemplo, não seja escolhido pelas funções. </p>\n",
    "    \n",
    "<p style='text-align: justify'> Análises sobre como a variação de parâmetros influencia na convergência para o resultado é interessante de se fazer como futuros passos. Por exemplo, analisar como o peso atribuido à penalidade influencia na velocidade a se chegar na senha correta.</p>\n",
    "    \n",
    "<p style='text-align: justify'>E, como já dito no experimento 5, esses problemas de senha podem ser pensados para se resolver problemas de sequências biológicas.</p>"
   ]
  },
  {
   "cell_type": "markdown",
   "metadata": {},
   "source": [
    "## Playground\n",
    "\n"
   ]
  },
  {
   "cell_type": "code",
   "execution_count": null,
   "metadata": {},
   "outputs": [],
   "source": []
  }
 ],
 "metadata": {
  "kernelspec": {
   "display_name": "ilumpy",
   "language": "python",
   "name": "ilumpy"
  },
  "language_info": {
   "codemirror_mode": {
    "name": "ipython",
    "version": 3
   },
   "file_extension": ".py",
   "mimetype": "text/x-python",
   "name": "python",
   "nbconvert_exporter": "python",
   "pygments_lexer": "ipython3",
   "version": "3.9.7"
  },
  "org": null
 },
 "nbformat": 4,
 "nbformat_minor": 4
}
