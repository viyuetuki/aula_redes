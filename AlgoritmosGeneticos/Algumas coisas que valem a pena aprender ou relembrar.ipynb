{
 "cells": [
  {
   "cell_type": "markdown",
   "metadata": {},
   "source": [
    "Algumas coisas que valem a pena aprender ou relembrar\n",
    "=====================================================\n",
    "\n"
   ]
  },
  {
   "cell_type": "markdown",
   "metadata": {},
   "source": [
    "## Importações\n",
    "\n"
   ]
  },
  {
   "cell_type": "code",
   "execution_count": 1,
   "metadata": {},
   "outputs": [],
   "source": [
    "import random\n",
    "import itertools\n",
    "from collections import deque\n",
    "from functools import partial"
   ]
  },
  {
   "cell_type": "markdown",
   "metadata": {},
   "source": [
    "## O módulo `random`\n",
    "\n"
   ]
  },
  {
   "cell_type": "markdown",
   "metadata": {},
   "source": [
    "O módulo `random` é utilizado para operações de sorteios (pseudo)aleatórios.\n",
    "\n"
   ]
  },
  {
   "cell_type": "markdown",
   "metadata": {},
   "source": [
    "### Tenho uma lista e quero sortear um item\n",
    "\n"
   ]
  },
  {
   "cell_type": "markdown",
   "metadata": {},
   "source": [
    "Para isso use o `random.choice`.\n",
    "\n"
   ]
  },
  {
   "cell_type": "code",
   "execution_count": 2,
   "metadata": {},
   "outputs": [
    {
     "name": "stdout",
     "output_type": "stream",
     "text": [
      "azul\n"
     ]
    }
   ],
   "source": [
    "lista = [\n",
    "    \"azul\",\n",
    "    \"vermelho\",\n",
    "    \"roxo\",\n",
    "    \"amarelo\",\n",
    "    \"marrom\",\n",
    "    \"preto\",\n",
    "    \"branco\",\n",
    "    \"verde\",\n",
    "]\n",
    "\n",
    "escolha_aleatoria = random.choice(lista)\n",
    "\n",
    "print(escolha_aleatoria)"
   ]
  },
  {
   "cell_type": "markdown",
   "metadata": {},
   "source": [
    "Observe que sortear um item de uma lista não altera a lista original!! Isso é verdade para todas as funções que veremos aqui no módulo `random`.\n",
    "\n"
   ]
  },
  {
   "cell_type": "code",
   "execution_count": 3,
   "metadata": {},
   "outputs": [
    {
     "name": "stdout",
     "output_type": "stream",
     "text": [
      "['azul', 'vermelho', 'roxo', 'amarelo', 'marrom', 'preto', 'branco', 'verde']\n"
     ]
    }
   ],
   "source": [
    "print(lista)"
   ]
  },
  {
   "cell_type": "markdown",
   "metadata": {},
   "source": [
    "### Tenho uma lista e quero sortear $n$ itens com reposição\n",
    "\n"
   ]
  },
  {
   "cell_type": "markdown",
   "metadata": {},
   "source": [
    "Para isso use o `random.choices` e passe o valor de $n$ para o argumento `k`. Note que é &ldquo;choices&rdquo; no plural, no anterior era &ldquo;choice&rdquo; no singular. Note também que este é um sorteio *com reposição*, isto é: um valor sorteado pode ser sorteado novamente.\n",
    "\n"
   ]
  },
  {
   "cell_type": "code",
   "execution_count": 4,
   "metadata": {},
   "outputs": [
    {
     "name": "stdout",
     "output_type": "stream",
     "text": [
      "['branco', 'amarelo', 'vermelho']\n"
     ]
    }
   ],
   "source": [
    "n = 3\n",
    "\n",
    "lista = [\n",
    "    \"azul\",\n",
    "    \"vermelho\",\n",
    "    \"roxo\",\n",
    "    \"amarelo\",\n",
    "    \"marrom\",\n",
    "    \"preto\",\n",
    "    \"branco\",\n",
    "    \"verde\",\n",
    "]\n",
    "\n",
    "escolhas_aleatorias = random.choices(lista, k=n)\n",
    "\n",
    "print(escolhas_aleatorias)"
   ]
  },
  {
   "cell_type": "markdown",
   "metadata": {},
   "source": [
    "### Tenho uma lista e quero sortear um item, mas a chance de sortear cada item não é igual\n",
    "\n"
   ]
  },
  {
   "cell_type": "markdown",
   "metadata": {},
   "source": [
    "Novamente usaremos o `random.choices` aqui. Precisaremos passar a chance de sortear cada item no argumento `weights` (que significa &ldquo;pesos&rdquo; em inglês). Veja que o argumento `weights` deve receber uma lista de mesmo tamanho da lista do sorteio contendo a chance de cada item da lista ser sorteado. As chances não precisam somar 100%, o Python fará essa conta pra você. Quanto maior o peso, maior a chance do respectivo item ser sorteado. No exemplo abaixo, as cores &ldquo;roxo&rdquo; e &ldquo;verde&rdquo; são as mais prováveis de serem sorteadas (peso 5), já a cor amarelo é a que tem a menor chance de ser sorteada (peso 0.2).\n",
    "\n"
   ]
  },
  {
   "cell_type": "code",
   "execution_count": 5,
   "metadata": {},
   "outputs": [
    {
     "name": "stdout",
     "output_type": "stream",
     "text": [
      "['azul']\n"
     ]
    }
   ],
   "source": [
    "lista = [\n",
    "    \"azul\",\n",
    "    \"vermelho\",\n",
    "    \"roxo\",\n",
    "    \"amarelo\",\n",
    "    \"marrom\",\n",
    "    \"preto\",\n",
    "    \"branco\",\n",
    "    \"verde\",\n",
    "]\n",
    "\n",
    "chance = [\n",
    "    1,\n",
    "    3,\n",
    "    5,\n",
    "    0.2,\n",
    "    1,\n",
    "    3,\n",
    "    3,\n",
    "    5,\n",
    "]\n",
    "\n",
    "escolha_aleatoria_ponderada = random.choices(lista, weights=chance)\n",
    "\n",
    "print(escolha_aleatoria_ponderada)"
   ]
  },
  {
   "cell_type": "markdown",
   "metadata": {},
   "source": [
    "### Tenho uma lista e quero sortear $n$ itens com reposição, mas a chance de sortear cada item não é igual\n",
    "\n"
   ]
  },
  {
   "cell_type": "markdown",
   "metadata": {},
   "source": [
    "Basicamente a mesma coisa que fizemos acima. Veja o código abaixo e verá que não tem nada de novo aqui.\n",
    "\n"
   ]
  },
  {
   "cell_type": "code",
   "execution_count": 6,
   "metadata": {},
   "outputs": [
    {
     "name": "stdout",
     "output_type": "stream",
     "text": [
      "['verde', 'azul', 'verde']\n"
     ]
    }
   ],
   "source": [
    "n = 3\n",
    "\n",
    "lista = [\n",
    "    \"azul\",\n",
    "    \"vermelho\",\n",
    "    \"roxo\",\n",
    "    \"amarelo\",\n",
    "    \"marrom\",\n",
    "    \"preto\",\n",
    "    \"branco\",\n",
    "    \"verde\",\n",
    "]\n",
    "\n",
    "chance = [\n",
    "    1,\n",
    "    3,\n",
    "    5,\n",
    "    0.2,\n",
    "    1,\n",
    "    3,\n",
    "    3,\n",
    "    5,\n",
    "]\n",
    "\n",
    "escolhas_aleatorias_ponderadas = random.choices(lista, weights=chance, k=3)\n",
    "\n",
    "print(escolhas_aleatorias_ponderadas)"
   ]
  },
  {
   "cell_type": "markdown",
   "metadata": {},
   "source": [
    "### Tenho uma lista e quero sortear $n$ itens sem reposição\n",
    "\n"
   ]
  },
  {
   "cell_type": "markdown",
   "metadata": {},
   "source": [
    "Use o `random.sample` para realizar sorteios sem reposição (isto é, um item sorteado não pode ser sorteado novamente). O argumento `k` controla quantos itens serão sorteados.\n",
    "\n"
   ]
  },
  {
   "cell_type": "code",
   "execution_count": 7,
   "metadata": {},
   "outputs": [
    {
     "name": "stdout",
     "output_type": "stream",
     "text": [
      "['amarelo', 'azul', 'branco']\n"
     ]
    }
   ],
   "source": [
    "n = 3\n",
    "\n",
    "lista = [\n",
    "    \"azul\",\n",
    "    \"vermelho\",\n",
    "    \"roxo\",\n",
    "    \"amarelo\",\n",
    "    \"marrom\",\n",
    "    \"preto\",\n",
    "    \"branco\",\n",
    "    \"verde\",\n",
    "]\n",
    "\n",
    "sorteio_aleatorio_sem_reposicao = random.sample(lista, k=n)\n",
    "\n",
    "print(sorteio_aleatorio_sem_reposicao)"
   ]
  },
  {
   "cell_type": "markdown",
   "metadata": {},
   "source": [
    "### Quero sortear um número inteiro dentro do intervalo $[a,b]$\n",
    "\n"
   ]
  },
  {
   "cell_type": "markdown",
   "metadata": {},
   "source": [
    "Use o `random.randint` e passe como argumento os valores $a$ e $b$.\n",
    "\n"
   ]
  },
  {
   "cell_type": "code",
   "execution_count": 8,
   "metadata": {},
   "outputs": [
    {
     "name": "stdout",
     "output_type": "stream",
     "text": [
      "5\n"
     ]
    }
   ],
   "source": [
    "a = 3\n",
    "b = 10\n",
    "\n",
    "inteiro_aleatorion_entre_a_e_b = random.randint(a,b)\n",
    "\n",
    "print(inteiro_aleatorion_entre_a_e_b)"
   ]
  },
  {
   "cell_type": "markdown",
   "metadata": {},
   "source": [
    "### Quero sortear um número real dentro do intervalo $[0,1[$\n",
    "\n"
   ]
  },
  {
   "cell_type": "markdown",
   "metadata": {},
   "source": [
    "Use o `random.random` sem passar nenhum argumento.\n",
    "\n"
   ]
  },
  {
   "cell_type": "code",
   "execution_count": 9,
   "metadata": {},
   "outputs": [
    {
     "name": "stdout",
     "output_type": "stream",
     "text": [
      "0.8591870418006908\n"
     ]
    }
   ],
   "source": [
    "real_aleatorio_entre_0_e_1 = random.random()\n",
    "\n",
    "print(real_aleatorio_entre_0_e_1)"
   ]
  },
  {
   "cell_type": "markdown",
   "metadata": {},
   "source": [
    "### Quero sortear um número real dentro do intervalo $[a,b]$\n",
    "\n"
   ]
  },
  {
   "cell_type": "markdown",
   "metadata": {},
   "source": [
    "Use o `random.uniform` sem passar nenhum argumento.\n",
    "\n"
   ]
  },
  {
   "cell_type": "code",
   "execution_count": 10,
   "metadata": {},
   "outputs": [
    {
     "name": "stdout",
     "output_type": "stream",
     "text": [
      "2.3210851201331257\n"
     ]
    }
   ],
   "source": [
    "a = 1.25\n",
    "b = 4.73\n",
    "\n",
    "real_aleatorio_entre_a_e_b = random.uniform(a, b)\n",
    "\n",
    "print(real_aleatorio_entre_a_e_b)"
   ]
  },
  {
   "cell_type": "markdown",
   "metadata": {},
   "source": [
    "### Quero sortear um número real a partir de uma distribuição normal (Gaussiana)\n",
    "\n"
   ]
  },
  {
   "cell_type": "markdown",
   "metadata": {},
   "source": [
    "Use o `random.gauss` e passe a média e o desvio padrão da sua distribuição normal como argumentos\n",
    "\n"
   ]
  },
  {
   "cell_type": "code",
   "execution_count": 11,
   "metadata": {},
   "outputs": [
    {
     "name": "stdout",
     "output_type": "stream",
     "text": [
      "-1.2361426426444344\n"
     ]
    }
   ],
   "source": [
    "media = 0\n",
    "desvio_padrao = 1\n",
    "\n",
    "real_sorteado_de_uma_distribuicao_normal = random.gauss(media, desvio_padrao)\n",
    "\n",
    "print(real_sorteado_de_uma_distribuicao_normal)"
   ]
  },
  {
   "cell_type": "markdown",
   "metadata": {},
   "source": [
    "### Quero embaralhar uma lista de objetos\n",
    "\n"
   ]
  },
  {
   "cell_type": "markdown",
   "metadata": {},
   "source": [
    "Você pode fazer isso de duas maneiras diferentes. Se quiser embaralhar a própria lista, efetivamente alterando o objeto em si use o `random.shuffle`.\n",
    "\n"
   ]
  },
  {
   "cell_type": "code",
   "execution_count": 12,
   "metadata": {},
   "outputs": [
    {
     "name": "stdout",
     "output_type": "stream",
     "text": [
      "['preto', 'azul', 'marrom', 'verde', 'branco', 'vermelho', 'amarelo', 'roxo']\n"
     ]
    }
   ],
   "source": [
    "lista = [\n",
    "    \"azul\",\n",
    "    \"vermelho\",\n",
    "    \"roxo\",\n",
    "    \"amarelo\",\n",
    "    \"marrom\",\n",
    "    \"preto\",\n",
    "    \"branco\",\n",
    "    \"verde\",\n",
    "]\n",
    "\n",
    "random.shuffle(lista)\n",
    "\n",
    "print(lista)"
   ]
  },
  {
   "cell_type": "markdown",
   "metadata": {},
   "source": [
    "Se você não quiser alterar a lista original, mas sim quer gerar um objeto novo com os elementos da lista original embaralhados, então use o `random.sample` com um valor de `k=len(objeto)`.\n",
    "\n"
   ]
  },
  {
   "cell_type": "code",
   "execution_count": 13,
   "metadata": {},
   "outputs": [
    {
     "name": "stdout",
     "output_type": "stream",
     "text": [
      "['roxo', 'preto', 'marrom', 'verde', 'azul', 'vermelho', 'amarelo', 'branco']\n"
     ]
    }
   ],
   "source": [
    "lista = [\n",
    "    \"azul\",\n",
    "    \"vermelho\",\n",
    "    \"roxo\",\n",
    "    \"amarelo\",\n",
    "    \"marrom\",\n",
    "    \"preto\",\n",
    "    \"branco\",\n",
    "    \"verde\",\n",
    "]\n",
    "\n",
    "lista_embaralhada = random.sample(lista, k=len(lista))\n",
    "\n",
    "print(lista_embaralhada)"
   ]
  },
  {
   "cell_type": "markdown",
   "metadata": {},
   "source": [
    "## O módulo `itertools`\n",
    "\n"
   ]
  },
  {
   "cell_type": "markdown",
   "metadata": {},
   "source": [
    "O módulo `itertools` serve para resolver problemas de análise combinatória.\n",
    "\n"
   ]
  },
  {
   "cell_type": "markdown",
   "metadata": {},
   "source": [
    "### Quero fazer o produto cartesiano entre duas ou mais listas\n",
    "\n"
   ]
  },
  {
   "cell_type": "markdown",
   "metadata": {},
   "source": [
    "Para isso use o `itertools.product`\n",
    "\n"
   ]
  },
  {
   "cell_type": "code",
   "execution_count": 14,
   "metadata": {},
   "outputs": [
    {
     "name": "stdout",
     "output_type": "stream",
     "text": [
      "('salgado', 'trufa da Ana')\n",
      "('salgado', 'banana')\n",
      "('salgado', 'bolo de chocolate meio-amargo com doce de leite')\n",
      "('lanche', 'trufa da Ana')\n",
      "('lanche', 'banana')\n",
      "('lanche', 'bolo de chocolate meio-amargo com doce de leite')\n",
      "('macarrão com molho vermelho', 'trufa da Ana')\n",
      "('macarrão com molho vermelho', 'banana')\n",
      "('macarrão com molho vermelho', 'bolo de chocolate meio-amargo com doce de leite')\n",
      "('arroz, feijão e farofa', 'trufa da Ana')\n",
      "('arroz, feijão e farofa', 'banana')\n",
      "('arroz, feijão e farofa', 'bolo de chocolate meio-amargo com doce de leite')\n"
     ]
    }
   ],
   "source": [
    "almoco = [\n",
    "    \"salgado\",\n",
    "    \"lanche\",\n",
    "    \"macarrão com molho vermelho\",\n",
    "    \"arroz, feijão e farofa\",\n",
    "]\n",
    "\n",
    "sobremesa = [\n",
    "    \"trufa da Ana\",\n",
    "    \"banana\",\n",
    "    \"bolo de chocolate meio-amargo com doce de leite\",\n",
    "]\n",
    "\n",
    "for refeicao in itertools.product(almoco, sobremesa):\n",
    "    print(refeicao)"
   ]
  },
  {
   "cell_type": "code",
   "execution_count": 15,
   "metadata": {},
   "outputs": [
    {
     "name": "stdout",
     "output_type": "stream",
     "text": [
      "('salgado', 'água', 'trufa da Ana')\n",
      "('salgado', 'água', 'banana')\n",
      "('salgado', 'água', 'bolo de chocolate meio-amargo com doce de leite')\n",
      "('salgado', 'chá', 'trufa da Ana')\n",
      "('salgado', 'chá', 'banana')\n",
      "('salgado', 'chá', 'bolo de chocolate meio-amargo com doce de leite')\n",
      "('salgado', 'suco', 'trufa da Ana')\n",
      "('salgado', 'suco', 'banana')\n",
      "('salgado', 'suco', 'bolo de chocolate meio-amargo com doce de leite')\n",
      "('salgado', 'fanta uva', 'trufa da Ana')\n",
      "('salgado', 'fanta uva', 'banana')\n",
      "('salgado', 'fanta uva', 'bolo de chocolate meio-amargo com doce de leite')\n",
      "('lanche', 'água', 'trufa da Ana')\n",
      "('lanche', 'água', 'banana')\n",
      "('lanche', 'água', 'bolo de chocolate meio-amargo com doce de leite')\n",
      "('lanche', 'chá', 'trufa da Ana')\n",
      "('lanche', 'chá', 'banana')\n",
      "('lanche', 'chá', 'bolo de chocolate meio-amargo com doce de leite')\n",
      "('lanche', 'suco', 'trufa da Ana')\n",
      "('lanche', 'suco', 'banana')\n",
      "('lanche', 'suco', 'bolo de chocolate meio-amargo com doce de leite')\n",
      "('lanche', 'fanta uva', 'trufa da Ana')\n",
      "('lanche', 'fanta uva', 'banana')\n",
      "('lanche', 'fanta uva', 'bolo de chocolate meio-amargo com doce de leite')\n",
      "('macarrão com molho vermelho', 'água', 'trufa da Ana')\n",
      "('macarrão com molho vermelho', 'água', 'banana')\n",
      "('macarrão com molho vermelho', 'água', 'bolo de chocolate meio-amargo com doce de leite')\n",
      "('macarrão com molho vermelho', 'chá', 'trufa da Ana')\n",
      "('macarrão com molho vermelho', 'chá', 'banana')\n",
      "('macarrão com molho vermelho', 'chá', 'bolo de chocolate meio-amargo com doce de leite')\n",
      "('macarrão com molho vermelho', 'suco', 'trufa da Ana')\n",
      "('macarrão com molho vermelho', 'suco', 'banana')\n",
      "('macarrão com molho vermelho', 'suco', 'bolo de chocolate meio-amargo com doce de leite')\n",
      "('macarrão com molho vermelho', 'fanta uva', 'trufa da Ana')\n",
      "('macarrão com molho vermelho', 'fanta uva', 'banana')\n",
      "('macarrão com molho vermelho', 'fanta uva', 'bolo de chocolate meio-amargo com doce de leite')\n",
      "('arroz, feijão e farofa', 'água', 'trufa da Ana')\n",
      "('arroz, feijão e farofa', 'água', 'banana')\n",
      "('arroz, feijão e farofa', 'água', 'bolo de chocolate meio-amargo com doce de leite')\n",
      "('arroz, feijão e farofa', 'chá', 'trufa da Ana')\n",
      "('arroz, feijão e farofa', 'chá', 'banana')\n",
      "('arroz, feijão e farofa', 'chá', 'bolo de chocolate meio-amargo com doce de leite')\n",
      "('arroz, feijão e farofa', 'suco', 'trufa da Ana')\n",
      "('arroz, feijão e farofa', 'suco', 'banana')\n",
      "('arroz, feijão e farofa', 'suco', 'bolo de chocolate meio-amargo com doce de leite')\n",
      "('arroz, feijão e farofa', 'fanta uva', 'trufa da Ana')\n",
      "('arroz, feijão e farofa', 'fanta uva', 'banana')\n",
      "('arroz, feijão e farofa', 'fanta uva', 'bolo de chocolate meio-amargo com doce de leite')\n"
     ]
    }
   ],
   "source": [
    "almoco = [\n",
    "    \"salgado\",\n",
    "    \"lanche\",\n",
    "    \"macarrão com molho vermelho\",\n",
    "    \"arroz, feijão e farofa\",\n",
    "]\n",
    "\n",
    "bebida = [\n",
    "    \"água\",\n",
    "    \"chá\",\n",
    "    \"suco\",\n",
    "    \"fanta uva\",\n",
    "]\n",
    "\n",
    "sobremesa = [\n",
    "    \"trufa da Ana\",\n",
    "    \"banana\",\n",
    "    \"bolo de chocolate meio-amargo com doce de leite\",\n",
    "]\n",
    "\n",
    "for refeicao in itertools.product(almoco, bebida, sobremesa):\n",
    "    print(refeicao)"
   ]
  },
  {
   "cell_type": "markdown",
   "metadata": {},
   "source": [
    "### Quero fazer a permutação dos elementos de uma lista\n",
    "\n"
   ]
  },
  {
   "cell_type": "markdown",
   "metadata": {},
   "source": [
    "Para isso use o `itertools.permutations`.\n",
    "\n"
   ]
  },
  {
   "cell_type": "code",
   "execution_count": 16,
   "metadata": {},
   "outputs": [
    {
     "name": "stdout",
     "output_type": "stream",
     "text": [
      "('Ilum', 'MASP', 'Fernando de Noronha', 'Japão', 'Lua')\n",
      "('Ilum', 'MASP', 'Fernando de Noronha', 'Lua', 'Japão')\n",
      "('Ilum', 'MASP', 'Japão', 'Fernando de Noronha', 'Lua')\n",
      "('Ilum', 'MASP', 'Japão', 'Lua', 'Fernando de Noronha')\n",
      "('Ilum', 'MASP', 'Lua', 'Fernando de Noronha', 'Japão')\n",
      "('Ilum', 'MASP', 'Lua', 'Japão', 'Fernando de Noronha')\n",
      "('Ilum', 'Fernando de Noronha', 'MASP', 'Japão', 'Lua')\n",
      "('Ilum', 'Fernando de Noronha', 'MASP', 'Lua', 'Japão')\n",
      "('Ilum', 'Fernando de Noronha', 'Japão', 'MASP', 'Lua')\n",
      "('Ilum', 'Fernando de Noronha', 'Japão', 'Lua', 'MASP')\n",
      "('Ilum', 'Fernando de Noronha', 'Lua', 'MASP', 'Japão')\n",
      "('Ilum', 'Fernando de Noronha', 'Lua', 'Japão', 'MASP')\n",
      "('Ilum', 'Japão', 'MASP', 'Fernando de Noronha', 'Lua')\n",
      "('Ilum', 'Japão', 'MASP', 'Lua', 'Fernando de Noronha')\n",
      "('Ilum', 'Japão', 'Fernando de Noronha', 'MASP', 'Lua')\n",
      "('Ilum', 'Japão', 'Fernando de Noronha', 'Lua', 'MASP')\n",
      "('Ilum', 'Japão', 'Lua', 'MASP', 'Fernando de Noronha')\n",
      "('Ilum', 'Japão', 'Lua', 'Fernando de Noronha', 'MASP')\n",
      "('Ilum', 'Lua', 'MASP', 'Fernando de Noronha', 'Japão')\n",
      "('Ilum', 'Lua', 'MASP', 'Japão', 'Fernando de Noronha')\n",
      "('Ilum', 'Lua', 'Fernando de Noronha', 'MASP', 'Japão')\n",
      "('Ilum', 'Lua', 'Fernando de Noronha', 'Japão', 'MASP')\n",
      "('Ilum', 'Lua', 'Japão', 'MASP', 'Fernando de Noronha')\n",
      "('Ilum', 'Lua', 'Japão', 'Fernando de Noronha', 'MASP')\n",
      "('MASP', 'Ilum', 'Fernando de Noronha', 'Japão', 'Lua')\n",
      "('MASP', 'Ilum', 'Fernando de Noronha', 'Lua', 'Japão')\n",
      "('MASP', 'Ilum', 'Japão', 'Fernando de Noronha', 'Lua')\n",
      "('MASP', 'Ilum', 'Japão', 'Lua', 'Fernando de Noronha')\n",
      "('MASP', 'Ilum', 'Lua', 'Fernando de Noronha', 'Japão')\n",
      "('MASP', 'Ilum', 'Lua', 'Japão', 'Fernando de Noronha')\n",
      "('MASP', 'Fernando de Noronha', 'Ilum', 'Japão', 'Lua')\n",
      "('MASP', 'Fernando de Noronha', 'Ilum', 'Lua', 'Japão')\n",
      "('MASP', 'Fernando de Noronha', 'Japão', 'Ilum', 'Lua')\n",
      "('MASP', 'Fernando de Noronha', 'Japão', 'Lua', 'Ilum')\n",
      "('MASP', 'Fernando de Noronha', 'Lua', 'Ilum', 'Japão')\n",
      "('MASP', 'Fernando de Noronha', 'Lua', 'Japão', 'Ilum')\n",
      "('MASP', 'Japão', 'Ilum', 'Fernando de Noronha', 'Lua')\n",
      "('MASP', 'Japão', 'Ilum', 'Lua', 'Fernando de Noronha')\n",
      "('MASP', 'Japão', 'Fernando de Noronha', 'Ilum', 'Lua')\n",
      "('MASP', 'Japão', 'Fernando de Noronha', 'Lua', 'Ilum')\n",
      "('MASP', 'Japão', 'Lua', 'Ilum', 'Fernando de Noronha')\n",
      "('MASP', 'Japão', 'Lua', 'Fernando de Noronha', 'Ilum')\n",
      "('MASP', 'Lua', 'Ilum', 'Fernando de Noronha', 'Japão')\n",
      "('MASP', 'Lua', 'Ilum', 'Japão', 'Fernando de Noronha')\n",
      "('MASP', 'Lua', 'Fernando de Noronha', 'Ilum', 'Japão')\n",
      "('MASP', 'Lua', 'Fernando de Noronha', 'Japão', 'Ilum')\n",
      "('MASP', 'Lua', 'Japão', 'Ilum', 'Fernando de Noronha')\n",
      "('MASP', 'Lua', 'Japão', 'Fernando de Noronha', 'Ilum')\n",
      "('Fernando de Noronha', 'Ilum', 'MASP', 'Japão', 'Lua')\n",
      "('Fernando de Noronha', 'Ilum', 'MASP', 'Lua', 'Japão')\n",
      "('Fernando de Noronha', 'Ilum', 'Japão', 'MASP', 'Lua')\n",
      "('Fernando de Noronha', 'Ilum', 'Japão', 'Lua', 'MASP')\n",
      "('Fernando de Noronha', 'Ilum', 'Lua', 'MASP', 'Japão')\n",
      "('Fernando de Noronha', 'Ilum', 'Lua', 'Japão', 'MASP')\n",
      "('Fernando de Noronha', 'MASP', 'Ilum', 'Japão', 'Lua')\n",
      "('Fernando de Noronha', 'MASP', 'Ilum', 'Lua', 'Japão')\n",
      "('Fernando de Noronha', 'MASP', 'Japão', 'Ilum', 'Lua')\n",
      "('Fernando de Noronha', 'MASP', 'Japão', 'Lua', 'Ilum')\n",
      "('Fernando de Noronha', 'MASP', 'Lua', 'Ilum', 'Japão')\n",
      "('Fernando de Noronha', 'MASP', 'Lua', 'Japão', 'Ilum')\n",
      "('Fernando de Noronha', 'Japão', 'Ilum', 'MASP', 'Lua')\n",
      "('Fernando de Noronha', 'Japão', 'Ilum', 'Lua', 'MASP')\n",
      "('Fernando de Noronha', 'Japão', 'MASP', 'Ilum', 'Lua')\n",
      "('Fernando de Noronha', 'Japão', 'MASP', 'Lua', 'Ilum')\n",
      "('Fernando de Noronha', 'Japão', 'Lua', 'Ilum', 'MASP')\n",
      "('Fernando de Noronha', 'Japão', 'Lua', 'MASP', 'Ilum')\n",
      "('Fernando de Noronha', 'Lua', 'Ilum', 'MASP', 'Japão')\n",
      "('Fernando de Noronha', 'Lua', 'Ilum', 'Japão', 'MASP')\n",
      "('Fernando de Noronha', 'Lua', 'MASP', 'Ilum', 'Japão')\n",
      "('Fernando de Noronha', 'Lua', 'MASP', 'Japão', 'Ilum')\n",
      "('Fernando de Noronha', 'Lua', 'Japão', 'Ilum', 'MASP')\n",
      "('Fernando de Noronha', 'Lua', 'Japão', 'MASP', 'Ilum')\n",
      "('Japão', 'Ilum', 'MASP', 'Fernando de Noronha', 'Lua')\n",
      "('Japão', 'Ilum', 'MASP', 'Lua', 'Fernando de Noronha')\n",
      "('Japão', 'Ilum', 'Fernando de Noronha', 'MASP', 'Lua')\n",
      "('Japão', 'Ilum', 'Fernando de Noronha', 'Lua', 'MASP')\n",
      "('Japão', 'Ilum', 'Lua', 'MASP', 'Fernando de Noronha')\n",
      "('Japão', 'Ilum', 'Lua', 'Fernando de Noronha', 'MASP')\n",
      "('Japão', 'MASP', 'Ilum', 'Fernando de Noronha', 'Lua')\n",
      "('Japão', 'MASP', 'Ilum', 'Lua', 'Fernando de Noronha')\n",
      "('Japão', 'MASP', 'Fernando de Noronha', 'Ilum', 'Lua')\n",
      "('Japão', 'MASP', 'Fernando de Noronha', 'Lua', 'Ilum')\n",
      "('Japão', 'MASP', 'Lua', 'Ilum', 'Fernando de Noronha')\n",
      "('Japão', 'MASP', 'Lua', 'Fernando de Noronha', 'Ilum')\n",
      "('Japão', 'Fernando de Noronha', 'Ilum', 'MASP', 'Lua')\n",
      "('Japão', 'Fernando de Noronha', 'Ilum', 'Lua', 'MASP')\n",
      "('Japão', 'Fernando de Noronha', 'MASP', 'Ilum', 'Lua')\n",
      "('Japão', 'Fernando de Noronha', 'MASP', 'Lua', 'Ilum')\n",
      "('Japão', 'Fernando de Noronha', 'Lua', 'Ilum', 'MASP')\n",
      "('Japão', 'Fernando de Noronha', 'Lua', 'MASP', 'Ilum')\n",
      "('Japão', 'Lua', 'Ilum', 'MASP', 'Fernando de Noronha')\n",
      "('Japão', 'Lua', 'Ilum', 'Fernando de Noronha', 'MASP')\n",
      "('Japão', 'Lua', 'MASP', 'Ilum', 'Fernando de Noronha')\n",
      "('Japão', 'Lua', 'MASP', 'Fernando de Noronha', 'Ilum')\n",
      "('Japão', 'Lua', 'Fernando de Noronha', 'Ilum', 'MASP')\n",
      "('Japão', 'Lua', 'Fernando de Noronha', 'MASP', 'Ilum')\n",
      "('Lua', 'Ilum', 'MASP', 'Fernando de Noronha', 'Japão')\n",
      "('Lua', 'Ilum', 'MASP', 'Japão', 'Fernando de Noronha')\n",
      "('Lua', 'Ilum', 'Fernando de Noronha', 'MASP', 'Japão')\n",
      "('Lua', 'Ilum', 'Fernando de Noronha', 'Japão', 'MASP')\n",
      "('Lua', 'Ilum', 'Japão', 'MASP', 'Fernando de Noronha')\n",
      "('Lua', 'Ilum', 'Japão', 'Fernando de Noronha', 'MASP')\n",
      "('Lua', 'MASP', 'Ilum', 'Fernando de Noronha', 'Japão')\n",
      "('Lua', 'MASP', 'Ilum', 'Japão', 'Fernando de Noronha')\n",
      "('Lua', 'MASP', 'Fernando de Noronha', 'Ilum', 'Japão')\n",
      "('Lua', 'MASP', 'Fernando de Noronha', 'Japão', 'Ilum')\n",
      "('Lua', 'MASP', 'Japão', 'Ilum', 'Fernando de Noronha')\n",
      "('Lua', 'MASP', 'Japão', 'Fernando de Noronha', 'Ilum')\n",
      "('Lua', 'Fernando de Noronha', 'Ilum', 'MASP', 'Japão')\n",
      "('Lua', 'Fernando de Noronha', 'Ilum', 'Japão', 'MASP')\n",
      "('Lua', 'Fernando de Noronha', 'MASP', 'Ilum', 'Japão')\n",
      "('Lua', 'Fernando de Noronha', 'MASP', 'Japão', 'Ilum')\n",
      "('Lua', 'Fernando de Noronha', 'Japão', 'Ilum', 'MASP')\n",
      "('Lua', 'Fernando de Noronha', 'Japão', 'MASP', 'Ilum')\n",
      "('Lua', 'Japão', 'Ilum', 'MASP', 'Fernando de Noronha')\n",
      "('Lua', 'Japão', 'Ilum', 'Fernando de Noronha', 'MASP')\n",
      "('Lua', 'Japão', 'MASP', 'Ilum', 'Fernando de Noronha')\n",
      "('Lua', 'Japão', 'MASP', 'Fernando de Noronha', 'Ilum')\n",
      "('Lua', 'Japão', 'Fernando de Noronha', 'Ilum', 'MASP')\n",
      "('Lua', 'Japão', 'Fernando de Noronha', 'MASP', 'Ilum')\n"
     ]
    }
   ],
   "source": [
    "lugares_para_visitar = [\n",
    "    \"Ilum\",\n",
    "    \"MASP\",\n",
    "    \"Fernando de Noronha\",\n",
    "    \"Japão\",\n",
    "    \"Lua\",\n",
    "]\n",
    "\n",
    "for itinerario in itertools.permutations(lugares_para_visitar):\n",
    "    print(itinerario)"
   ]
  },
  {
   "cell_type": "markdown",
   "metadata": {},
   "source": [
    "## A função `zip`\n",
    "\n"
   ]
  },
  {
   "cell_type": "markdown",
   "metadata": {},
   "source": [
    "Digamos que você tenha uma lista com o nome de certas pessoas e outra lista com sua comida favorita.\n",
    "\n"
   ]
  },
  {
   "cell_type": "code",
   "execution_count": 17,
   "metadata": {},
   "outputs": [],
   "source": [
    "pessoas = [\n",
    "    \"Rachel Carson\",\n",
    "    \"Anne Bonny\",\n",
    "    \"Antenor Araújo\",\n",
    "    \"YoRHa No.2 Type B\",\n",
    "]\n",
    "\n",
    "comida_preferida = [\n",
    "    \"Alface\",\n",
    "    \"Sorvete sabor lágrima dos adversários\",\n",
    "    \"Cebola\",\n",
    "    \"Cavalinha (tipo de peixe)\",\n",
    "]"
   ]
  },
  {
   "cell_type": "markdown",
   "metadata": {},
   "source": [
    "Podemos usar o `zip` para parear os itens de duas os mais listas diferentes. Vamos ver um exemplo.\n",
    "\n"
   ]
  },
  {
   "cell_type": "code",
   "execution_count": 18,
   "metadata": {},
   "outputs": [
    {
     "name": "stdout",
     "output_type": "stream",
     "text": [
      "Rachel Carson --- Alface\n",
      "\n",
      "Anne Bonny --- Sorvete sabor lágrima dos adversários\n",
      "\n",
      "Antenor Araújo --- Cebola\n",
      "\n",
      "YoRHa No.2 Type B --- Cavalinha (tipo de peixe)\n",
      "\n"
     ]
    }
   ],
   "source": [
    "for pessoa, comida in zip(pessoas, comida_preferida):\n",
    "    print(pessoa, \"---\", comida)\n",
    "    print()"
   ]
  },
  {
   "cell_type": "markdown",
   "metadata": {},
   "source": [
    "Observe que dentro do laço de repetição acima temos cada item das listas separados em variáveis com a ajuda da função `zip`.\n",
    "\n",
    "A função `zip` permite parear quantas listas você quiser. Vamos ver um exemplo com três listas.\n",
    "\n"
   ]
  },
  {
   "cell_type": "code",
   "execution_count": 19,
   "metadata": {},
   "outputs": [
    {
     "name": "stdout",
     "output_type": "stream",
     "text": [
      "Rachel Carson --- Alface --- Oceano\n",
      "\n",
      "Anne Bonny --- Sorvete sabor lágrima dos adversários --- Calico Jack Rackam\n",
      "\n",
      "Antenor Araújo --- Cebola --- Lurdes Marques\n",
      "\n",
      "YoRHa No.2 Type B --- Cavalinha (tipo de peixe) --- YoRHa No.9 Type S\n",
      "\n"
     ]
    }
   ],
   "source": [
    "grande_amor = [\n",
    "    \"Oceano\",\n",
    "    \"Calico Jack Rackam\",\n",
    "    \"Lurdes Marques\",\n",
    "    \"YoRHa No.9 Type S\",\n",
    "]\n",
    "\n",
    "for pessoa, comida, amor in zip(pessoas, comida_preferida, grande_amor):\n",
    "    print(pessoa, \"---\", comida, \"---\", amor)\n",
    "    print()"
   ]
  },
  {
   "cell_type": "markdown",
   "metadata": {},
   "source": [
    "## O objeto `deque`\n",
    "\n"
   ]
  },
  {
   "cell_type": "markdown",
   "metadata": {},
   "source": [
    "O objeto `deque` faz parte do módulo `collections`.\n",
    "\n",
    "Para criar um objeto do tipo `deque`, basta chamar a função com uma lista como argumento.\n",
    "\n"
   ]
  },
  {
   "cell_type": "code",
   "execution_count": 20,
   "metadata": {},
   "outputs": [
    {
     "name": "stdout",
     "output_type": "stream",
     "text": [
      "deque([1, 2, 3, 4, 5])\n"
     ]
    }
   ],
   "source": [
    "lista = [1, 2, 3, 4, 5]\n",
    "\n",
    "meu_deque = deque(lista)\n",
    "\n",
    "print(meu_deque)"
   ]
  },
  {
   "cell_type": "markdown",
   "metadata": {},
   "source": [
    "Estes objetos têm um método que será muito útil chamado `rotate`. Veja o exemplo abaixo. Fora isso, `deque`​s se comportam de maneira similar a listas.\n",
    "\n"
   ]
  },
  {
   "cell_type": "code",
   "execution_count": 21,
   "metadata": {},
   "outputs": [
    {
     "name": "stdout",
     "output_type": "stream",
     "text": [
      "deque([1, 2, 3, 4, 5])\n",
      "deque([5, 1, 2, 3, 4])\n",
      "deque([3, 4, 5, 1, 2])\n",
      "deque([4, 5, 1, 2, 3])\n"
     ]
    }
   ],
   "source": [
    "print(meu_deque)\n",
    "\n",
    "meu_deque.rotate(1)\n",
    "\n",
    "print(meu_deque)\n",
    "\n",
    "meu_deque.rotate(2)\n",
    "\n",
    "print(meu_deque)\n",
    "\n",
    "meu_deque.rotate(-1)\n",
    "\n",
    "print(meu_deque)"
   ]
  },
  {
   "cell_type": "markdown",
   "metadata": {},
   "source": [
    "## Convertendo uma letra ou um símbolo em um número\n",
    "\n"
   ]
  },
  {
   "cell_type": "markdown",
   "metadata": {},
   "source": [
    "Para converter um caractere em um número use a função `ord`.\n",
    "\n"
   ]
  },
  {
   "cell_type": "code",
   "execution_count": 22,
   "metadata": {},
   "outputs": [
    {
     "name": "stdout",
     "output_type": "stream",
     "text": [
      "O caractere 'a' converte para o número 97\n",
      "O caractere 'b' converte para o número 98\n",
      "O caractere 'c' converte para o número 99\n",
      "O caractere 'd' converte para o número 100\n",
      "O caractere 'A' converte para o número 65\n",
      "O caractere 'B' converte para o número 66\n",
      "O caractere 'C' converte para o número 67\n",
      "O caractere '!' converte para o número 33\n",
      "O caractere ' ' converte para o número 32\n"
     ]
    }
   ],
   "source": [
    "caracteres = [\"a\", \"b\", \"c\", \"d\", \"A\", \"B\", \"C\", \"!\", \" \"]\n",
    "\n",
    "for caractere in caracteres:\n",
    "    numero = ord(caractere)\n",
    "    print(f\"O caractere '{caractere}' converte para o número {numero}\")"
   ]
  },
  {
   "cell_type": "markdown",
   "metadata": {},
   "source": [
    "## Funções parciais\n",
    "\n"
   ]
  },
  {
   "cell_type": "markdown",
   "metadata": {},
   "source": [
    "Funções parciais são funções baseadas em outras funções onde um ou mais argumentos são pré-definidos. Vamos ver um exemplo.\n",
    "\n"
   ]
  },
  {
   "cell_type": "code",
   "execution_count": 23,
   "metadata": {},
   "outputs": [
    {
     "name": "stdout",
     "output_type": "stream",
     "text": [
      "40\n"
     ]
    }
   ],
   "source": [
    "def multiplicacao(a, b):\n",
    "    return a * b\n",
    "\n",
    "\n",
    "print(multiplicacao(4, 10))"
   ]
  },
  {
   "cell_type": "markdown",
   "metadata": {},
   "source": [
    "Esta função simples multiplica dois números. Agora digamos que você queira uma função baseada na função `multiplicacao`, mas com o valor de `b` constante e igual a `10`. Uma forma de fazer isso é:\n",
    "\n"
   ]
  },
  {
   "cell_type": "code",
   "execution_count": 24,
   "metadata": {},
   "outputs": [
    {
     "name": "stdout",
     "output_type": "stream",
     "text": [
      "40\n"
     ]
    }
   ],
   "source": [
    "def multiplica_por_10(a):\n",
    "    return multiplicacao(a, 10)\n",
    "\n",
    "\n",
    "print(multiplica_por_10(4))"
   ]
  },
  {
   "cell_type": "markdown",
   "metadata": {},
   "source": [
    "Uma outra forma de se fazer isso é usando a função `partial` do módulo `functools`.\n",
    "\n"
   ]
  },
  {
   "cell_type": "code",
   "execution_count": 25,
   "metadata": {},
   "outputs": [
    {
     "name": "stdout",
     "output_type": "stream",
     "text": [
      "40\n"
     ]
    }
   ],
   "source": [
    "multiplica_por_10 = partial(multiplicacao, b=10)\n",
    "\n",
    "print(multiplica_por_10(4))"
   ]
  },
  {
   "cell_type": "markdown",
   "metadata": {},
   "source": [
    "A função `partial` recebe como primeiro argumento a função que será a base da nova função e como argumentos nomeados restantes os argumentos que serão mantidos constantes.\n",
    "\n"
   ]
  }
 ],
 "metadata": {
  "kernelspec": {
   "display_name": "ilumpy",
   "language": "python",
   "name": "ilumpy"
  },
  "language_info": {
   "codemirror_mode": {
    "name": "ipython",
    "version": 3
   },
   "file_extension": ".py",
   "mimetype": "text/x-python",
   "name": "python",
   "nbconvert_exporter": "python",
   "pygments_lexer": "ipython3",
   "version": "3.9.7"
  },
  "org": null
 },
 "nbformat": 4,
 "nbformat_minor": 4
}
